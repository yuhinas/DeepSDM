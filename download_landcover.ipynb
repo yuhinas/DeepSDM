{
 "cells": [
  {
   "cell_type": "code",
   "execution_count": 2,
   "id": "e00de95f",
   "metadata": {},
   "outputs": [],
   "source": [
    "import cdsapi\n",
    "c.retrieve(\n",
    "    'satellite-land-cover',\n",
    "    {\n",
    "        'variable': 'all',\n",
    "        'format': 'zip',\n",
    "        'version': 'v2.0.7cds',\n",
    "        'year': [\n",
    "            '2000', '2001', '2002',\n",
    "            '2003', '2004', '2005',\n",
    "            '2006', '2007', '2008',\n",
    "            '2009',\n",
    "        ],\n",
    "    },\n",
    "    'landcover1.zip')\n",
    "\n",
    "c.retrieve(\n",
    "    'satellite-land-cover',\n",
    "    {\n",
    "        'variable': 'all',\n",
    "        'format': 'zip',\n",
    "        'version': 'v2.0.7cds',\n",
    "        'year': [\n",
    "            '2010', '2011', '2012',\n",
    "            '2013', '2014', '2015',\n",
    "        ],\n",
    "    },\n",
    "    'landcover2.zip')\n",
    "\n",
    "c.retrieve(\n",
    "    'satellite-land-cover',\n",
    "    {\n",
    "        'variable': 'all',\n",
    "        'format': 'zip',\n",
    "        'version': 'v2.1.1',\n",
    "        'year': [\n",
    "            '2016', '2017', '2018',\n",
    "            '2019', '2020',\n",
    "        ],\n",
    "    },\n",
    "    'landcover3.zip')"
   ]
  }
 ],
 "metadata": {
  "kernelspec": {
   "display_name": "Python 3 (ipykernel)",
   "language": "python",
   "name": "python3"
  },
  "language_info": {
   "codemirror_mode": {
    "name": "ipython",
    "version": 3
   },
   "file_extension": ".py",
   "mimetype": "text/x-python",
   "name": "python",
   "nbconvert_exporter": "python",
   "pygments_lexer": "ipython3",
   "version": "3.10.12"
  }
 },
 "nbformat": 4,
 "nbformat_minor": 5
}
