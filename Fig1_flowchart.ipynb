{
 "cells": [
  {
   "cell_type": "code",
   "execution_count": 1,
   "id": "c791ff73",
   "metadata": {},
   "outputs": [],
   "source": [
    "import yaml\n",
    "import matplotlib.pyplot as plt\n",
    "import matplotlib.gridspec as gridspec\n",
    "from types import SimpleNamespace\n",
    "import numpy as np\n",
    "import os\n",
    "import pandas as pd\n",
    "import json\n",
    "import scipy\n",
    "import rasterio\n",
    "from sklearn.decomposition import PCA\n",
    "from sklearn.preprocessing import StandardScaler\n",
    "from matplotlib.colors import ListedColormap\n",
    "from adjustText import adjust_text\n",
    "from sklearn.covariance import EllipticEnvelope\n",
    "from matplotlib.patches import Ellipse\n",
    "from scipy.spatial import distance\n",
    "from matplotlib.ticker import ScalarFormatter\n",
    "import math\n",
    "from scipy.optimize import curve_fit\n",
    "import cv2\n",
    "from sklearn.metrics import pairwise_distances\n",
    "from scipy.cluster.hierarchy import dendrogram, linkage, fcluster\n",
    "import matplotlib.pyplot as plt\n",
    "from sklearn.metrics.pairwise import cosine_similarity\n",
    "from sklearn.metrics.pairwise import euclidean_distances\n",
    "from scipy.stats import ttest_rel\n",
    "from rasterio.transform import xy\n",
    "from math import radians, cos, sin, sqrt, atan2\n",
    "from rasterio.transform import Affine\n",
    "import matplotlib as mpl\n",
    "from matplotlib.ticker import MaxNLocator\n",
    "import matplotlib.ticker as mticker\n",
    "import pickle\n",
    "import h5py\n",
    "from matplotlib import font_manager as fm\n",
    "import feather\n",
    "from scipy.ndimage import binary_erosion\n",
    "\n",
    "mpl.rcParams['pdf.fonttype'] = 42\n",
    "mpl.rcParams['font.size'] = 5         # 全域預設的文字大小\n",
    "mpl.rcParams['axes.labelsize'] = 7    # x, y 軸標籤 (label) 的文字大小\n",
    "mpl.rcParams['xtick.labelsize'] = 5    # x 軸刻度 (tick) 的文字大小\n",
    "mpl.rcParams['ytick.labelsize'] = 5   # y 軸刻度 (tick) 的文字大小\n",
    "mpl.rcParams['legend.fontsize'] = 5\n",
    "mpl.rcParams['axes.linewidth'] = 0.5\n",
    "mpl.rcParams['ytick.major.width'] = 0.5\n",
    "mpl.rcParams['xtick.major.width'] = 0.5\n",
    "mpl.rcParams['xtick.major.size'] = 2.5\n",
    "mpl.rcParams['ytick.major.size'] = 2.5\n",
    "mpl.rcParams['font.family'] = 'sans-serif'\n",
    "mpl.rcParams['font.sans-serif'] = ['Arial']\n",
    "mpl.rcParams['boxplot.boxprops.linewidth'] = 0.5\n",
    "mpl.rcParams['boxplot.medianprops.linewidth'] = 0.5\n",
    "mpl.rcParams['boxplot.whiskerprops.linewidth'] = 0.5\n",
    "mpl.rcParams['boxplot.capprops.linewidth'] = 0.5\n",
    "mpl.rcParams['boxplot.flierprops.markersize'] = 0.5\n",
    "mpl.rcParams['legend.frameon'] = False"
   ]
  },
  {
   "cell_type": "code",
   "execution_count": 2,
   "id": "8d99be6f",
   "metadata": {},
   "outputs": [],
   "source": [
    "run_id = 'e52c8ac9a3e24c75ac871f63bbdea060'\n",
    "exp_id = '115656750127464383'"
   ]
  },
  {
   "cell_type": "markdown",
   "id": "ad73f256",
   "metadata": {},
   "source": [
    "## 會用到的函數"
   ]
  },
  {
   "cell_type": "code",
   "execution_count": 3,
   "id": "facab2d8",
   "metadata": {},
   "outputs": [],
   "source": [
    "def create_folder(file_path):\n",
    "    if not os.path.exists(file_path):\n",
    "        os.makedirs(file_path)\n",
    "        \n",
    "def cov_center(data, level=0.95):\n",
    "    env = EllipticEnvelope(support_fraction=level).fit(data)\n",
    "    center = env.location_\n",
    "    covariance = env.covariance_\n",
    "    return center, covariance\n",
    "\n",
    "def plot_ellipse(center, covariance, ax, n_std=2.0, facecolor='none', **kwargs):\n",
    "    \"\"\"\n",
    "    在给定的轴上绘制一个椭圆。\n",
    "\n",
    "    :param center: 椭圆的中心点。\n",
    "    :param covariance: 椭圆的协方差矩阵。\n",
    "    :param ax: matplotlib 轴对象。\n",
    "    :param n_std: 确定椭圆大小的标准差倍数。\n",
    "    :param facecolor: 椭圆的填充颜色。\n",
    "    :param kwargs: 传递给 Ellipse 对象的其他参数。\n",
    "    \"\"\"\n",
    "    # 计算协方差矩阵的特征值和特征向量\n",
    "    eigenvals, eigenvecs = np.linalg.eigh(covariance)\n",
    "    order = eigenvals.argsort()[::-1]\n",
    "    eigenvals, eigenvecs = eigenvals[order], eigenvecs[:, order]\n",
    "\n",
    "    # 计算椭圆的宽度和高度\n",
    "    width, height = 2 * n_std * np.sqrt(eigenvals)\n",
    "    angle = np.degrees(np.arctan2(*eigenvecs[:,0][::-1]))\n",
    "\n",
    "    # 创建并添加椭圆形状\n",
    "    ellipse = Ellipse(xy=center, width=width, height=height, angle=angle, facecolor=facecolor, **kwargs)\n",
    "    ax.add_patch(ellipse)\n",
    "    \n",
    "def png_operation(rst):\n",
    "    grid_normalized = cv2.normalize(rst, None, 0, 255, cv2.NORM_MINMAX)\n",
    "    grid_uint8 = grid_normalized.astype(np.uint8)\n",
    "    colored_image = cv2.applyColorMap(grid_uint8, cv2.COLORMAP_JET)\n",
    "    # 設定要調整的尺寸，例如 300x300\n",
    "    new_size = (300, 300)\n",
    "    # 調整 PNG 的大小\n",
    "    resized_png = cv2.resize(colored_image, new_size, interpolation=cv2.INTER_CUBIC)\n",
    "    return resized_png\n",
    "\n",
    "# 計算兩個經緯度點之間的距離，支持向量化操作\n",
    "def haversine(lat1, lon1, lat2, lon2):\n",
    "    R = 6371.0  # 地球半徑，單位：公里\n",
    "    lat1, lon1 = np.radians(lat1), np.radians(lon1)\n",
    "    lat2, lon2 = np.radians(lat2), np.radians(lon2)\n",
    "    dlat = lat2 - lat1\n",
    "    dlon = lon2 - lon1\n",
    "    a = np.sin(dlat / 2)**2 + np.cos(lat1) * np.cos(lat2) * np.sin(dlon / 2)**2\n",
    "    c = 2 * np.arctan2(np.sqrt(a), np.sqrt(1 - a))\n",
    "    return R * c\n",
    "def create_figure_mm(width_mm, height_mm, dpi=100):\n",
    "    \"\"\"\n",
    "    根據毫米為單位的寬度和高度創建圖形\n",
    "    :param width_mm: 寬度（以毫米為單位）\n",
    "    :param height_mm: 高度（以毫米為單位）\n",
    "    :param dpi: 圖形的分辨率（每英寸的點數）\n",
    "    :return: fig, ax 圖形和軸對象\n",
    "    \"\"\"\n",
    "    width_inch = width_mm / 25.4  # 將寬度從毫米轉換為英寸\n",
    "    height_inch = height_mm / 25.4  # 將高度從毫米轉換為英寸\n",
    "    fig, ax = plt.subplots(figsize=(width_inch, height_inch), dpi=dpi)\n",
    "    return fig, ax\n",
    "def get_significance_stars(p_value):\n",
    "    if p_value <= 0.001:\n",
    "        return '***'\n",
    "    elif p_value <= 0.01:\n",
    "        return '**'\n",
    "    elif p_value <= 0.05:\n",
    "        return '*'\n",
    "    else:\n",
    "        return ''\n",
    "def get_chinese_sciname(target_name):\n",
    "    change_names = {\n",
    "    'Anas_zonorhyncha': 'Anas_poecilorhyncha', \n",
    "    'Cyanoderma_ruficeps': 'Stachyridopsis_ruficeps', \n",
    "    'Erythrogenys_erythrocnemis': 'Pomatorhinus_erythrocnemis', \n",
    "    'Ictinaetus_malaiensis': 'Ictinaetus_malayensis', \n",
    "    'Lewinia_striata': 'Gallirallus_striatus', \n",
    "    'Machlolophus_holsti': 'Parus_holsti', \n",
    "    'Pterorhinus_poecilorhynchus': 'Garrulax_poecilorhynchus', \n",
    "    'Pterorhinus_ruficeps': 'Garrulax_ruficeps', \n",
    "    'Schoeniparus_brunneus': 'Alcippe_brunnea', \n",
    "    'Sittiparus_castaneoventris': 'Poecile_varius', \n",
    "    'Synoicus_chinensis': 'Coturnix_chinensis', \n",
    "    'Taenioptynx_brodiei': 'Glaucidium_brodiei', \n",
    "    'Tarsiger_formosanus': 'Tarsiger_indicus', \n",
    "    'Turdus_niveiceps': 'Turdus_poliocephalus', \n",
    "    'Zapornia_fusca': 'Porzana_fusca'\n",
    "    }\n",
    "    df_name = pd.read_csv('../2023臺灣鳥類名錄-20230419.csv')\n",
    "    for (new_name, orig_name) in change_names.items():\n",
    "        if target_name == orig_name:\n",
    "            target_name = new_name\n",
    "            \n",
    "    df_target = df_name[df_name['學名'] == target_name.replace('_', ' ')]\n",
    "    return df_target['中文名'].values[0]\n",
    "    \n",
    "def mm2inch(*values):\n",
    "    return [v / 25.4 for v in values]"
   ]
  },
  {
   "cell_type": "code",
   "execution_count": 4,
   "id": "353e0374",
   "metadata": {},
   "outputs": [],
   "source": [
    "# create a plot folder of the specific exp_id\n",
    "plot_path = os.path.join('plots', run_id)\n",
    "plot_path_df = os.path.join(plot_path, 'Fig4_dataframe')\n",
    "plot_path_nichespace = os.path.join(plot_path, 'Fig4_niche_space')\n",
    "plot_path_ecogeo_basedonDeepSDMpred = os.path.join(plot_path, 'Fig6_EcoGeo_comparison_basedonDeepSDMpred')\n",
    "plot_path_biotop = os.path.join(plot_path, 'Fig6_biotop')\n",
    "plot_path_subplots = os.path.join(plot_path, 'Fig6_subplots')\n",
    "plot_path_nichespace_h5 = os.path.join(plot_path_nichespace, 'h5')\n",
    "plot_path_flowchart = os.path.join(plot_path, 'Fig1_flowchart')\n",
    "create_folder(plot_path_flowchart)"
   ]
  },
  {
   "cell_type": "code",
   "execution_count": 5,
   "id": "543766ef",
   "metadata": {},
   "outputs": [],
   "source": [
    "conf_path = os.path.join('mlruns', exp_id, run_id, 'artifacts', 'conf')\n",
    "predicts_path = os.path.join('predicts', run_id)\n",
    "with open(os.path.join(predicts_path, 'DeepSDM_conf.yaml'), 'r') as f:\n",
    "    DeepSDM_conf = SimpleNamespace(**yaml.load(f, Loader = yaml.FullLoader))\n",
    "\n",
    "with open(os.path.join(predicts_path, 'sp_inf.json'), 'r') as f:\n",
    "    sp_inf = json.load(f)\n",
    "\n",
    "with open(os.path.join(predicts_path, 'env_inf.json'), 'r') as f:\n",
    "    env_inf = json.load(f)\n",
    "    \n",
    "with rasterio.open(os.path.join(conf_path, 'extent_binary.tif'), 'r') as f:\n",
    "    extent_binary = f.read(1)\n",
    "# load extent binary map\n",
    "with rasterio.open(os.path.join(conf_path, 'extent_binary.tif'), 'r') as f:\n",
    "    crs = f.crs\n",
    "    transform = f.transform\n",
    "    height, width = f.shape\n",
    "    lon_min, lat_max = rasterio.transform.xy(transform, 0, 0)  # 左上角\n",
    "    lon_max, lat_min = rasterio.transform.xy(transform, height - 1, width - 1)  # 右下角\n",
    "    extent_binary = f.read(1)\n",
    "    meta = f.meta.copy()\n",
    "extent_binary_extent = [lon_min, lon_max, lat_min, lat_max]"
   ]
  },
  {
   "cell_type": "code",
   "execution_count": 6,
   "id": "3fe17ad0",
   "metadata": {},
   "outputs": [],
   "source": [
    "deepsdm_h5_path = os.path.join('predicts', run_id, 'h5', '[SPECIES]', '[SPECIES].h5')\n",
    "maxent_h5_path = os.path.join('predict_maxent', run_id, 'h5', 'all', '[SPECIES]', '[SPECIES].h5')"
   ]
  },
  {
   "cell_type": "code",
   "execution_count": 7,
   "id": "c137c20c",
   "metadata": {},
   "outputs": [],
   "source": [
    "species_list_predict = sorted(DeepSDM_conf.training_conf['species_list_predict'])\n",
    "date_list_train = DeepSDM_conf.training_conf['date_list_train']\n",
    "date_list_predict = DeepSDM_conf.training_conf['date_list_predict']\n",
    "env_list = DeepSDM_conf.training_conf['env_list']"
   ]
  },
  {
   "cell_type": "code",
   "execution_count": 8,
   "id": "06a0971d",
   "metadata": {},
   "outputs": [],
   "source": [
    "with open(os.path.join(plot_path_df, 'extent_info.yaml'), 'rb') as f:\n",
    "    extent_info = yaml.load(f, yaml.FullLoader)\n",
    "df_grid = feather.read_dataframe(os.path.join(plot_path_df, 'df_grid.feather'))\n",
    "df_env_value = feather.read_dataframe(os.path.join(plot_path_df, 'env_value.feather'))\n",
    "df_spearman_pre = pd.read_csv(os.path.join(plot_path_nichespace, 'spearman_info_basedonDeepSDMpred.csv'))"
   ]
  },
  {
   "cell_type": "code",
   "execution_count": 9,
   "id": "ba2297be",
   "metadata": {},
   "outputs": [],
   "source": [
    "species_img = ['Carpodacus_formosanus', 'Trochalopteron_morrisonianum', 'Yuhina_brunneiceps', 'Psilopogon_nuchalis', 'Liocichla_steerii']\n",
    "color_img = ['#553C86', '#D4C53D', '#326FA9', '#33AC99', '#DD5355']\n",
    "env_img = ['pr', 'tas', 'EVI']\n",
    "date_img = ['2009-01-01', '2009-02-01', '2018-12-01']"
   ]
  },
  {
   "cell_type": "markdown",
   "id": "29b45c2a",
   "metadata": {},
   "source": [
    "### 製作boundary map"
   ]
  },
  {
   "cell_type": "code",
   "execution_count": 10,
   "id": "16de337a",
   "metadata": {},
   "outputs": [],
   "source": [
    "# 使用 binary_erosion 對 1 值進行腐蝕\n",
    "eroded_raster = binary_erosion(extent_binary, structure=np.ones((3, 3))).astype(extent_binary.dtype)\n",
    "\n",
    "# 找出邊界，原始 1 值減去腐蝕後的結果\n",
    "boundary = extent_binary - eroded_raster\n",
    "\n",
    "# 確保邊界中只有 1 和 0\n",
    "boundary = np.where(boundary > 0, 1, 0)\n",
    "\n",
    "# 更新元數據以保存邊界栅格\n",
    "meta.update(dtype=rasterio.int16, count=1)\n",
    "\n",
    "# 將結果寫入新的栅格文件\n",
    "with rasterio.open(os.path.join(plot_path_flowchart, 'boundary.tif'), 'w', **meta) as dst:\n",
    "    dst.write(boundary, 1)  # 寫入第一波段"
   ]
  },
  {
   "cell_type": "markdown",
   "id": "84eaa00e",
   "metadata": {},
   "source": [
    "### 讀取boundary map"
   ]
  },
  {
   "cell_type": "code",
   "execution_count": 11,
   "id": "722c45c0",
   "metadata": {},
   "outputs": [],
   "source": [
    "with rasterio.open(os.path.join(plot_path_flowchart, 'boundary.tif'), 'r') as f:\n",
    "    boundary = f.read(1)"
   ]
  },
  {
   "cell_type": "code",
   "execution_count": 12,
   "id": "8de2f36e",
   "metadata": {},
   "outputs": [
    {
     "data": {
      "text/plain": [
       "<matplotlib.image.AxesImage at 0x7fa991ef3850>"
      ]
     },
     "execution_count": 12,
     "metadata": {},
     "output_type": "execute_result"
    },
    {
     "data": {
      "image/png": "[encoded data removed]",
      "text/plain": [
       "<Figure size 640x480 with 1 Axes>"
      ]
     },
     "metadata": {},
     "output_type": "display_data"
    }
   ],
   "source": [
    "plt.imshow(boundary, extent = extent_binary_extent, cmap = ListedColormap(['white', 'black']))"
   ]
  },
  {
   "cell_type": "code",
   "execution_count": 13,
   "id": "0f399503",
   "metadata": {},
   "outputs": [
    {
     "ename": "NameError",
     "evalue": "name 'species' is not defined",
     "output_type": "error",
     "traceback": [
      "\u001b[0;31m---------------------------------------------------------------------------\u001b[0m",
      "\u001b[0;31mNameError\u001b[0m                                 Traceback (most recent call last)",
      "Cell \u001b[0;32mIn[13], line 1\u001b[0m\n\u001b[0;32m----> 1\u001b[0m occ_path \u001b[38;5;241m=\u001b[39m os\u001b[38;5;241m.\u001b[39mpath\u001b[38;5;241m.\u001b[39mjoin(sp_inf[\u001b[38;5;124m'\u001b[39m\u001b[38;5;124mdir_base\u001b[39m\u001b[38;5;124m'\u001b[39m], sp_inf[\u001b[38;5;124m'\u001b[39m\u001b[38;5;124mfile_name\u001b[39m\u001b[38;5;124m'\u001b[39m][\u001b[43mspecies\u001b[49m][date])\n\u001b[1;32m      2\u001b[0m \u001b[38;5;28;01mwith\u001b[39;00m rasterio\u001b[38;5;241m.\u001b[39mopen(occ_path, \u001b[38;5;124m'\u001b[39m\u001b[38;5;124mr\u001b[39m\u001b[38;5;124m'\u001b[39m) \u001b[38;5;28;01mas\u001b[39;00m f:\n\u001b[1;32m      3\u001b[0m     img \u001b[38;5;241m=\u001b[39m f\u001b[38;5;241m.\u001b[39mread(\u001b[38;5;241m1\u001b[39m)\n",
      "\u001b[0;31mNameError\u001b[0m: name 'species' is not defined"
     ]
    }
   ],
   "source": [
    "occ_path = os.path.join(sp_inf['dir_base'], sp_inf['file_name'][species][date])\n",
    "with rasterio.open(occ_path, 'r') as f:\n",
    "    img = f.read(1)\n",
    "long, lat = rasterio.transform.xy(transform, np.where(img == 1)[0], np.where(img == 1)[1], offset='center')\n",
    "\n",
    "fig, ax = plt.subplots(figsize = mm2inch(60, 100), gridspec_kw = {'left': 0, 'right': 1, 'bottom': 0, 'top': 1})\n",
    "ax.imshow(boundary, cmap = ListedColormap(['white', 'black']), extent = extent_binary_extent)\n",
    "# ax.axis('off')\n",
    "ax.set_xticks([])\n",
    "ax.set_yticks([])\n",
    "ax.scatter(long, lat, color = 'black', s = 10)\n",
    "# plt.savefig(os.path.join(plot_path_flowchart, f'occ_{species}.pdf'), dpi = 500, transparent = True)\n",
    "plt.show()"
   ]
  },
  {
   "cell_type": "code",
   "execution_count": 14,
   "id": "eb959bd0",
   "metadata": {},
   "outputs": [
    {
     "data": {
      "image/png": "[encoded data removed]",
      "text/plain": [
       "<Figure size 19.685x31.4961 with 1 Axes>"
      ]
     },
     "metadata": {},
     "output_type": "display_data"
    },
    {
     "data": {
      "image/png": "[encoded data removed]",
      "text/plain": [
       "<Figure size 19.685x31.4961 with 1 Axes>"
      ]
     },
     "metadata": {},
     "output_type": "display_data"
    },
    {
     "data": {
      "image/png": "[encoded data removed]",
      "text/plain": [
       "<Figure size 19.685x31.4961 with 1 Axes>"
      ]
     },
     "metadata": {},
     "output_type": "display_data"
    },
    {
     "data": {
      "image/png": "[encoded data removed]",
      "text/plain": [
       "<Figure size 19.685x31.4961 with 1 Axes>"
      ]
     },
     "metadata": {},
     "output_type": "display_data"
    },
    {
     "data": {
      "image/png": "[encoded data removed]",
      "text/plain": [
       "<Figure size 19.685x31.4961 with 1 Axes>"
      ]
     },
     "metadata": {},
     "output_type": "display_data"
    },
    {
     "data": {
      "image/png": "[encoded data removed]",
      "text/plain": [
       "<Figure size 19.685x31.4961 with 1 Axes>"
      ]
     },
     "metadata": {},
     "output_type": "display_data"
    },
    {
     "data": {
      "image/png": "[encoded data removed]",
      "text/plain": [
       "<Figure size 19.685x31.4961 with 1 Axes>"
      ]
     },
     "metadata": {},
     "output_type": "display_data"
    },
    {
     "data": {
      "image/png": "[encoded data removed]",
      "text/plain": [
       "<Figure size 19.685x31.4961 with 1 Axes>"
      ]
     },
     "metadata": {},
     "output_type": "display_data"
    },
    {
     "data": {
      "image/png": "[encoded data removed]",
      "text/plain": [
       "<Figure size 19.685x31.4961 with 1 Axes>"
      ]
     },
     "metadata": {},
     "output_type": "display_data"
    },
    {
     "data": {
      "image/png": "[encoded data removed]",
      "text/plain": [
       "<Figure size 19.685x31.4961 with 1 Axes>"
      ]
     },
     "metadata": {},
     "output_type": "display_data"
    },
    {
     "data": {
      "image/png": "[encoded data removed]",
      "text/plain": [
       "<Figure size 19.685x31.4961 with 1 Axes>"
      ]
     },
     "metadata": {},
     "output_type": "display_data"
    },
    {
     "data": {
      "image/png": "[encoded data removed]",
      "text/plain": [
       "<Figure size 19.685x31.4961 with 1 Axes>"
      ]
     },
     "metadata": {},
     "output_type": "display_data"
    },
    {
     "data": {
      "image/png": "[encoded data removed]",
      "text/plain": [
       "<Figure size 19.685x31.4961 with 1 Axes>"
      ]
     },
     "metadata": {},
     "output_type": "display_data"
    },
    {
     "data": {
      "image/png": "[encoded data removed]",
      "text/plain": [
       "<Figure size 19.685x31.4961 with 1 Axes>"
      ]
     },
     "metadata": {},
     "output_type": "display_data"
    },
    {
     "data": {
      "image/png": "[encoded data removed]",
      "text/plain": [
       "<Figure size 19.685x31.4961 with 1 Axes>"
      ]
     },
     "metadata": {},
     "output_type": "display_data"
    }
   ],
   "source": [
    "plot_path_flowchart_occ = os.path.join(plot_path_flowchart, 'occurrence')\n",
    "create_folder(plot_path_flowchart_occ)\n",
    "for i_sp, species in enumerate(species_img):\n",
    "    for date in date_img:\n",
    "        occ_path = os.path.join(sp_inf['dir_base'], sp_inf['file_name'][species][date])\n",
    "        with rasterio.open(occ_path, 'r') as f:\n",
    "            img = f.read(1)\n",
    "        long, lat = rasterio.transform.xy(transform, np.where(img == 1)[0], np.where(img == 1)[1], offset='center')\n",
    "\n",
    "        fig, ax = plt.subplots(figsize = mm2inch(5, 8), gridspec_kw={'left' : 0, 'bottom' : 0, 'top' : 1, 'right' : 1})\n",
    "        ax.imshow(extent_binary, cmap = ListedColormap(['none', color_img[i_sp]]), extent = extent_binary_extent, alpha = 0.5)\n",
    "        ax.axis('off')\n",
    "        ax.scatter(long, lat, color = 'black', s = 0.005)\n",
    "        \n",
    "        path_output = os.path.join(plot_path_flowchart_occ, f'{species}_{date}_occ.pdf')\n",
    "        plt.savefig(path_output, dpi = 2000, transparent = True)\n",
    "        "
   ]
  },
  {
   "cell_type": "markdown",
   "id": "1ecae366",
   "metadata": {},
   "source": [
    "# environmental variables"
   ]
  },
  {
   "cell_type": "code",
   "execution_count": 15,
   "id": "1f4d0d36",
   "metadata": {},
   "outputs": [
    {
     "data": {
      "image/png": "[encoded data removed]",
      "text/plain": [
       "<Figure size 19.685x31.4961 with 1 Axes>"
      ]
     },
     "metadata": {},
     "output_type": "display_data"
    },
    {
     "data": {
      "image/png": "[encoded data removed]",
      "text/plain": [
       "<Figure size 19.685x31.4961 with 1 Axes>"
      ]
     },
     "metadata": {},
     "output_type": "display_data"
    },
    {
     "data": {
      "image/png": "[encoded data removed]",
      "text/plain": [
       "<Figure size 19.685x31.4961 with 1 Axes>"
      ]
     },
     "metadata": {},
     "output_type": "display_data"
    },
    {
     "data": {
      "image/png": "[encoded data removed]",
      "text/plain": [
       "<Figure size 19.685x31.4961 with 1 Axes>"
      ]
     },
     "metadata": {},
     "output_type": "display_data"
    },
    {
     "data": {
      "image/png": "[encoded data removed]",
      "text/plain": [
       "<Figure size 19.685x31.4961 with 1 Axes>"
      ]
     },
     "metadata": {},
     "output_type": "display_data"
    },
    {
     "data": {
      "image/png": "[encoded data removed]",
      "text/plain": [
       "<Figure size 19.685x31.4961 with 1 Axes>"
      ]
     },
     "metadata": {},
     "output_type": "display_data"
    },
    {
     "data": {
      "image/png": "[encoded data removed]",
      "text/plain": [
       "<Figure size 19.685x31.4961 with 1 Axes>"
      ]
     },
     "metadata": {},
     "output_type": "display_data"
    },
    {
     "data": {
      "image/png": "[encoded data removed]",
      "text/plain": [
       "<Figure size 19.685x31.4961 with 1 Axes>"
      ]
     },
     "metadata": {},
     "output_type": "display_data"
    },
    {
     "data": {
      "image/png": "[encoded data removed]",
      "text/plain": [
       "<Figure size 19.685x31.4961 with 1 Axes>"
      ]
     },
     "metadata": {},
     "output_type": "display_data"
    }
   ],
   "source": [
    "plot_path_flowchart_env = os.path.join(plot_path_flowchart, 'environment')\n",
    "create_folder(plot_path_flowchart_env)\n",
    "for env in env_img: \n",
    "    env_min = 1e100\n",
    "    env_max = -1e100\n",
    "    for date in date_img:\n",
    "        with rasterio.open(os.path.join(env_inf['dir_base'], env_inf['info'][env][date]['tif_span_avg']), 'r') as f:\n",
    "            img = f.read(1).copy()\n",
    "            img = np.where(img == -9999, np.nan, img)\n",
    "            if np.nanmax(img) > env_max:\n",
    "                env_max = np.nanmax(img)\n",
    "            if np.nanmin(img) < env_min:\n",
    "                env_min = np.nanmin(img)\n",
    "    for date in date_img:\n",
    "        with rasterio.open(os.path.join(env_inf['dir_base'], env_inf['info'][env][date]['tif_span_avg']), 'r') as f:\n",
    "            img = f.read(1).copy()\n",
    "            img = np.where(img == -9999, np.nan, img)\n",
    "        fig, ax = plt.subplots(figsize = mm2inch(5, 8), gridspec_kw={'left': 0, 'bottom': 0, 'top': 1, 'right': 1})\n",
    "        ax.imshow(img, extent = extent_binary_extent, vmin = env_min, vmax = env_max)\n",
    "        ax.axis('off')\n",
    "        path_output = os.path.join(plot_path_flowchart_env, f'{env}_{date}.pdf')\n",
    "        plt.savefig(path_output, dpi = 2000, transparent = True)"
   ]
  },
  {
   "cell_type": "markdown",
   "id": "54d27ad7",
   "metadata": {},
   "source": [
    "# prediction results"
   ]
  },
  {
   "cell_type": "code",
   "execution_count": 25,
   "id": "a8cde688",
   "metadata": {},
   "outputs": [
    {
     "data": {
      "image/png": "[encoded data removed]",
      "text/plain": [
       "<Figure size 19.685x31.4961 with 1 Axes>"
      ]
     },
     "metadata": {},
     "output_type": "display_data"
    },
    {
     "data": {
      "image/png": "[encoded data removed]",
      "text/plain": [
       "<Figure size 19.685x31.4961 with 1 Axes>"
      ]
     },
     "metadata": {},
     "output_type": "display_data"
    },
    {
     "data": {
      "image/png": "[encoded data removed]",
      "text/plain": [
       "<Figure size 19.685x31.4961 with 1 Axes>"
      ]
     },
     "metadata": {},
     "output_type": "display_data"
    },
    {
     "data": {
      "image/png": "[encoded data removed]",
      "text/plain": [
       "<Figure size 19.685x31.4961 with 1 Axes>"
      ]
     },
     "metadata": {},
     "output_type": "display_data"
    },
    {
     "data": {
      "image/png": "[encoded data removed]",
      "text/plain": [
       "<Figure size 19.685x31.4961 with 1 Axes>"
      ]
     },
     "metadata": {},
     "output_type": "display_data"
    },
    {
     "data": {
      "image/png": "[encoded data removed]",
      "text/plain": [
       "<Figure size 19.685x31.4961 with 1 Axes>"
      ]
     },
     "metadata": {},
     "output_type": "display_data"
    },
    {
     "data": {
      "image/png": "[encoded data removed]",
      "text/plain": [
       "<Figure size 19.685x31.4961 with 1 Axes>"
      ]
     },
     "metadata": {},
     "output_type": "display_data"
    },
    {
     "data": {
      "image/png": "[encoded data removed]",
      "text/plain": [
       "<Figure size 19.685x31.4961 with 1 Axes>"
      ]
     },
     "metadata": {},
     "output_type": "display_data"
    },
    {
     "data": {
      "image/png": "[encoded data removed]",
      "text/plain": [
       "<Figure size 19.685x31.4961 with 1 Axes>"
      ]
     },
     "metadata": {},
     "output_type": "display_data"
    },
    {
     "data": {
      "image/png": "[encoded data removed]",
      "text/plain": [
       "<Figure size 19.685x31.4961 with 1 Axes>"
      ]
     },
     "metadata": {},
     "output_type": "display_data"
    },
    {
     "data": {
      "image/png": "[encoded data removed]",
      "text/plain": [
       "<Figure size 19.685x31.4961 with 1 Axes>"
      ]
     },
     "metadata": {},
     "output_type": "display_data"
    },
    {
     "data": {
      "image/png": "[encoded data removed]",
      "text/plain": [
       "<Figure size 19.685x31.4961 with 1 Axes>"
      ]
     },
     "metadata": {},
     "output_type": "display_data"
    },
    {
     "data": {
      "image/png": "[encoded data removed]",
      "text/plain": [
       "<Figure size 19.685x31.4961 with 1 Axes>"
      ]
     },
     "metadata": {},
     "output_type": "display_data"
    },
    {
     "data": {
      "image/png": "[encoded data removed]",
      "text/plain": [
       "<Figure size 19.685x31.4961 with 1 Axes>"
      ]
     },
     "metadata": {},
     "output_type": "display_data"
    },
    {
     "data": {
      "image/png": "[encoded data removed]",
      "text/plain": [
       "<Figure size 19.685x31.4961 with 1 Axes>"
      ]
     },
     "metadata": {},
     "output_type": "display_data"
    }
   ],
   "source": [
    "plot_path_flowchart_occ = os.path.join(plot_path_flowchart, 'prediction')\n",
    "create_folder(plot_path_flowchart_occ)\n",
    "for i_sp, species in enumerate(species_img):\n",
    "    file_path = deepsdm_h5_path.replace('[SPECIES]', species)\n",
    "    for date in date_img:\n",
    "        with h5py.File(file_path, 'r') as hf:\n",
    "            rst = hf[date][:].copy()\n",
    "        \n",
    "        fig, ax = plt.subplots(figsize = mm2inch(5, 8), gridspec_kw={'left' : 0, 'bottom' : 0, 'top' : 1, 'right' : 1})\n",
    "        ax.imshow(rst, cmap = 'coolwarm')\n",
    "        ax.axis('off')\n",
    "        \n",
    "        path_output = os.path.join(plot_path_flowchart_occ, f'{species}_{date}_pred.pdf')\n",
    "        plt.savefig(path_output, dpi = 2000, transparent = True)\n",
    "        "
   ]
  }
 ],
 "metadata": {
  "kernelspec": {
   "display_name": "Python 3 (ipykernel)",
   "language": "python",
   "name": "python3"
  },
  "language_info": {
   "codemirror_mode": {
    "name": "ipython",
    "version": 3
   },
   "file_extension": ".py",
   "mimetype": "text/x-python",
   "name": "python",
   "nbconvert_exporter": "python",
   "pygments_lexer": "ipython3",
   "version": "3.10.12"
  }
 },
 "nbformat": 4,
 "nbformat_minor": 5
}
