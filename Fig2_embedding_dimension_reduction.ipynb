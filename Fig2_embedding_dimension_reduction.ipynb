{
 "cells": [
  {
   "cell_type": "code",
   "execution_count": null,
   "id": "76303194",
   "metadata": {},
   "outputs": [],
   "source": [
    "from Utils import PlotUtlis, create_folder, mm2inch, set_mpl_defaults\n",
    "import umap.umap_ as umap\n",
    "import matplotlib.pyplot as plt\n",
    "import pandas as pd\n",
    "import numpy as np"
   ]
  },
  {
   "cell_type": "code",
   "execution_count": null,
   "id": "ea19198a",
   "metadata": {},
   "outputs": [],
   "source": [
    "run_id = 'e52c8ac9a3e24c75ac871f63bbdea060'\n",
    "exp_id = '115656750127464383'"
   ]
  },
  {
   "cell_type": "code",
   "execution_count": null,
   "id": "05cf1fa1",
   "metadata": {},
   "outputs": [],
   "source": [
    "PU = PlotUtlis(run_id = run_id, exp_id = exp_id)"
   ]
  },
  {
   "cell_type": "code",
   "execution_count": null,
   "id": "f58e9130",
   "metadata": {},
   "outputs": [],
   "source": [
    "create_folder(PU.plot_path_embedding_dimension_reduction)"
   ]
  },
  {
   "cell_type": "markdown",
   "id": "d40c5dcb",
   "metadata": {},
   "source": [
    "### Calculate average elevation of every species"
   ]
  },
  {
   "cell_type": "code",
   "execution_count": null,
   "id": "48644e70",
   "metadata": {},
   "outputs": [],
   "source": [
    "avg_elevation_df = PU.calculate_avg_elev()\n",
    "avg_elevation_df.to_csv(PU.avg_elev_path, index = None)\n",
    "\n",
    "print(f'Average elevation data been saved in {PU.avg_elev_path}')"
   ]
  },
  {
   "cell_type": "markdown",
   "id": "99a81067",
   "metadata": {},
   "source": [
    "## Plotting non-environmental species embedding vector based on average elevation"
   ]
  },
  {
   "cell_type": "code",
   "execution_count": null,
   "id": "96729434",
   "metadata": {},
   "outputs": [],
   "source": [
    "set_mpl_defaults()"
   ]
  },
  {
   "cell_type": "code",
   "execution_count": null,
   "id": "73fa1e7c",
   "metadata": {},
   "outputs": [],
   "source": [
    "# load avg_elevation_df (if needed)\n",
    "# avg_elevation_df = pd.read_csv(PU.avg_elev_path)\n",
    "df_vec = pd.DataFrame([PU.coocc_vector[species] for species in PU.species_list_train])\n",
    "\n",
    "reducer = umap.UMAP(n_neighbors =  22, n_components=2, random_state=42, n_jobs = 1)\n",
    "embedding_umap = reducer.fit_transform(df_vec.values)\n",
    "\n",
    "fig, (ax1, ax2) = plt.subplots(2, 1, figsize = mm2inch(65, 80), height_ratios=(25,1), constrained_layout = True)\n",
    "    \n",
    "elev_values = [avg_elevation_df[avg_elevation_df.Species == sp].AverageElevation.values.tolist()[0] for sp in PU.species_list_train]\n",
    "umap_values = [embedding_umap[i] for i, sp in enumerate(PU.species_list_train)]\n",
    "umap_values = np.array(umap_values)\n",
    "\n",
    "ax_scatter = ax1.scatter(umap_values[:, 0], umap_values[:, 1], c=elev_values, cmap='coolwarm_r', s=7, vmin = 0)\n",
    "\n",
    "ax1.set_xlabel('UMAP 1')\n",
    "ax1.set_ylabel('UMAP 2')\n",
    "\n",
    "cbar = fig.colorbar(ax_scatter, ax = ax2, orientation='horizontal', cax = ax2)\n",
    "cbar.set_label('Average elevation (m)')\n",
    "\n",
    "plot_output = os.path.join(plot_path_embedding_dimension_reduction, 'embedding_umap_elev.pdf')\n",
    "plt.savefig(plot_output, dpi=200, transparent = True)\n",
    "\n",
    "plt.show()"
   ]
  }
 ],
 "metadata": {
  "kernelspec": {
   "display_name": "Python 3 (ipykernel)",
   "language": "python",
   "name": "python3"
  },
  "language_info": {
   "codemirror_mode": {
    "name": "ipython",
    "version": 3
   },
   "file_extension": ".py",
   "mimetype": "text/x-python",
   "name": "python",
   "nbconvert_exporter": "python",
   "pygments_lexer": "ipython3",
   "version": "3.10.12"
  }
 },
 "nbformat": 4,
 "nbformat_minor": 5
}
