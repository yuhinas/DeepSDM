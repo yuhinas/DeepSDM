{
 "cells": [
  {
   "cell_type": "markdown",
   "id": "f62b6a91",
   "metadata": {},
   "source": [
    "# Make prediction with trained DeepSDM"
   ]
  },
  {
   "cell_type": "markdown",
   "id": "9422fb78",
   "metadata": {},
   "source": [
    "## Load packages"
   ]
  },
  {
   "cell_type": "code",
   "execution_count": 1,
   "id": "27710974",
   "metadata": {},
   "outputs": [
    {
     "name": "stderr",
     "output_type": "stream",
     "text": [
      "/opt/conda/lib/python3.8/site-packages/tqdm/auto.py:22: TqdmWarning: IProgress not found. Please update jupyter and ipywidgets. See https://ipywidgets.readthedocs.io/en/stable/user_install.html\n",
      "  from .autonotebook import tqdm as notebook_tqdm\n"
     ]
    }
   ],
   "source": [
    "import time\n",
    "import torch\n",
    "import pytorch_lightning as pl\n",
    "from types import SimpleNamespace\n",
    "import mlflow\n",
    "from pytorch_lightning.strategies import DDPStrategy\n",
    "from pytorch_lightning.callbacks import EarlyStopping, ModelCheckpoint\n",
    "from LitDeepSDMData import LitDeepSDMData\n",
    "from LitUNetSDM import LitUNetSDM\n",
    "import os\n",
    "from matplotlib import pyplot as plt"
   ]
  },
  {
   "cell_type": "markdown",
   "id": "7cdc67f8",
   "metadata": {},
   "source": [
    "## Model configuration\n",
    "Some settings do not matter here. Just copy these configs from 02_train_deepsdm.py"
   ]
  },
  {
   "cell_type": "code",
   "execution_count": 2,
   "id": "7afa35f0",
   "metadata": {},
   "outputs": [],
   "source": [
    "# load configurations\n",
    "with open('DeepSDM_conf.yaml', 'r') as f:\n",
    "    DeepSDM_conf = yaml.load(f, Loader = yaml.FullLoader)\n",
    "DeepSDM_conf = SimpleNamespace(**DeepSDM_conf)\n",
    "\n",
    "date_list = []\n",
    "# lists of selected dates for training\n",
    "# format: YYYY_MM_01\n",
    "# The python range exclude the stop value (here e.g. 2020)\n",
    "# So here we generate from 2016_01_01 to 2019_12_01\n",
    "# We keep data of 2020 for validation/prediction\n",
    "for y_ in range(2000, 2019):\n",
    "    for m_ in range(1, 13):\n",
    "        date_list.append(f'{y_:04d}-{m_:02d}-01')\n",
    "\n",
    "# packed the species lists and date lists for training\n",
    "info = SimpleNamespace(**dict(\n",
    "    env_list = sorted(DeepSDM_conf.env_list),\n",
    "    non_normalize_env_list = sorted(DeepSDM_conf.non_normalize_env_list),\n",
    "    species_list = sorted(DeepSDM_conf.species_list),\n",
    "    species_list_val = sorted(DeepSDM_conf.species_list),\n",
    "    species_list_smoothviz = sorted(DeepSDM_conf.species_list_smoothviz),\n",
    "    date_list = sorted(date_list),\n",
    "    date_list_val = sorted(date_list),\n",
    "    date_list_smoothviz = sorted(DeepSDM_conf.date_list_smoothviz)\n",
    "))\n",
    "\n",
    "\n",
    "conf = SimpleNamespace(**DeepSDM_conf.conf)\n",
    "conf.num_env = len(DeepSDM_conf.env_list) # number of environmental layers\n",
    "conf.num_vector = DeepSDM_conf.embedding['num_vector'] # number of vectors for the embeddings of species co-occurrence"
   ]
  },
  {
   "cell_type": "markdown",
   "id": "8684146f",
   "metadata": {},
   "source": [
    "## Load parameters from the checkpoint of a trained model\n",
    "\n",
    "Find the latest version or assign the version yourself under the lightning_logs directory and load parameters from its checkpoints."
   ]
  },
  {
   "cell_type": "code",
   "execution_count": 3,
   "id": "f27a59fd",
   "metadata": {},
   "outputs": [
    {
     "data": {
      "text/plain": [
       "['epoch=47-step=8304.ckpt']"
      ]
     },
     "execution_count": 3,
     "metadata": {},
     "output_type": "execute_result"
    }
   ],
   "source": [
    "path = 'lightning_logs'\n",
    "only_dirs = [d for d in os.listdir('lightning_logs') if os.path.isdir(os.path.join(path, d)) and not d.endswith('.ipynb_checkpoints')]\n",
    "sorted_dirs = sorted(only_dirs, key=lambda x: os.path.getmtime(os.path.join(path, x)))\n",
    "# version = sorted_dirs[-1]\n",
    "version = 'version_16'\n",
    "checkpoint_path = f'{path}/{version}/checkpoints'\n",
    "checkpoints = [f for f in os.listdir(checkpoint_path) if f.endswith('.ckpt') and f != 'last.ckpt']\n",
    "checkpoints"
   ]
  },
  {
   "cell_type": "code",
   "execution_count": 4,
   "id": "e75377dc",
   "metadata": {},
   "outputs": [],
   "source": [
    "model = LitUNetSDM.load_from_checkpoint(f'{checkpoint_path}/{checkpoints[0]}', info=info, conf=conf)"
   ]
  },
  {
   "cell_type": "markdown",
   "id": "824cdf7b",
   "metadata": {},
   "source": [
    "## Initialize datamodel"
   ]
  },
  {
   "cell_type": "code",
   "execution_count": 5,
   "id": "ba9de3d3",
   "metadata": {},
   "outputs": [
    {
     "name": "stdout",
     "output_type": "stream",
     "text": [
      "./workspace/env_information.json\n",
      "./workspace/species_information.json\n",
      "./workspace/k_information.json\n",
      "./workspace/cooccurrence_vector.json\n"
     ]
    }
   ],
   "source": [
    "deep_sdm_data = LitDeepSDMData(info = info, conf = conf)"
   ]
  },
  {
   "cell_type": "markdown",
   "id": "6151ab5b",
   "metadata": {},
   "source": [
    "## Select the species and dates for prediction.\n",
    "The format of date must be YYYY_MM_01"
   ]
  },
  {
   "cell_type": "code",
   "execution_count": 6,
   "id": "e2c3bdad",
   "metadata": {},
   "outputs": [
    {
     "name": "stdout",
     "output_type": "stream",
     "text": [
      "Setting up dataset for prediction...\n"
     ]
    }
   ],
   "source": [
    "# The Carpodacus_formosanus is a species unknown to the model in the training process.\n",
    "# We can still predict its distribution with help of species embeddings.\n",
    "# We can also assign multiple species and dates for batch predictions. \n",
    "date_list_predict = []\n",
    "for y_ in range(2018, 2019):\n",
    "    for m_ in range(1, 13):\n",
    "        date_list_predict.append(f'{y_:04d}-{m_:02d}-01')\n",
    "predict_dataloaders = deep_sdm_data.predict_dataloader(species_list = DeepSDM_conf.species_list_predict, date_list = date_list_predict)"
   ]
  },
  {
   "cell_type": "markdown",
   "id": "455e281c",
   "metadata": {},
   "source": [
    "## Start prediction\n",
    "The results inlcuding png images and geotiff will be output to the `output_dir`"
   ]
  },
  {
   "cell_type": "code",
   "execution_count": 7,
   "id": "28321c40",
   "metadata": {},
   "outputs": [
    {
     "name": "stdout",
     "output_type": "stream",
     "text": [
      "Prinia_flaviventris_2018-12-01: 8.5988187789917 seconds ...........................\r"
     ]
    }
   ],
   "source": [
    "model.eval()\n",
    "with torch.no_grad():\n",
    "    raw_results = model.predict(predict_dataloaders, datamodule = deep_sdm_data, output_dir = 'predicts')"
   ]
  },
  {
   "cell_type": "code",
   "execution_count": 10,
   "id": "ba48c6de",
   "metadata": {
    "collapsed": true,
    "jupyter": {
     "outputs_hidden": true
    }
   },
   "outputs": [
    {
     "data": {
      "text/plain": [
       "dict_keys(['_Passer-cinnamomeus-2018-01-01', '_Passer-cinnamomeus-2018-02-01', '_Passer-cinnamomeus-2018-03-01', '_Passer-cinnamomeus-2018-04-01', '_Passer-cinnamomeus-2018-05-01', '_Passer-cinnamomeus-2018-06-01', '_Passer-cinnamomeus-2018-07-01', '_Passer-cinnamomeus-2018-08-01', '_Passer-cinnamomeus-2018-09-01', '_Passer-cinnamomeus-2018-10-01', '_Passer-cinnamomeus-2018-11-01', '_Passer-cinnamomeus-2018-12-01', '_Carpodacus-formosanus-2018-01-01', '_Carpodacus-formosanus-2018-02-01', '_Carpodacus-formosanus-2018-03-01', '_Carpodacus-formosanus-2018-04-01', '_Carpodacus-formosanus-2018-05-01', '_Carpodacus-formosanus-2018-06-01', '_Carpodacus-formosanus-2018-07-01', '_Carpodacus-formosanus-2018-08-01', '_Carpodacus-formosanus-2018-09-01', '_Carpodacus-formosanus-2018-10-01', '_Carpodacus-formosanus-2018-11-01', '_Carpodacus-formosanus-2018-12-01', '_Acridotheres-cristatellus-2018-01-01', '_Acridotheres-cristatellus-2018-02-01', '_Acridotheres-cristatellus-2018-03-01', '_Acridotheres-cristatellus-2018-04-01', '_Acridotheres-cristatellus-2018-05-01', '_Acridotheres-cristatellus-2018-06-01', '_Acridotheres-cristatellus-2018-07-01', '_Acridotheres-cristatellus-2018-08-01', '_Acridotheres-cristatellus-2018-09-01', '_Acridotheres-cristatellus-2018-10-01', '_Acridotheres-cristatellus-2018-11-01', '_Acridotheres-cristatellus-2018-12-01', '_Nisaetus-nipalensis-2018-01-01', '_Nisaetus-nipalensis-2018-02-01', '_Nisaetus-nipalensis-2018-03-01', '_Nisaetus-nipalensis-2018-04-01', '_Nisaetus-nipalensis-2018-05-01', '_Nisaetus-nipalensis-2018-06-01', '_Nisaetus-nipalensis-2018-07-01', '_Nisaetus-nipalensis-2018-08-01', '_Nisaetus-nipalensis-2018-09-01', '_Nisaetus-nipalensis-2018-10-01', '_Nisaetus-nipalensis-2018-11-01', '_Nisaetus-nipalensis-2018-12-01', '_Corvus-macrorhynchos-2018-01-01', '_Corvus-macrorhynchos-2018-02-01', '_Corvus-macrorhynchos-2018-03-01', '_Corvus-macrorhynchos-2018-04-01', '_Corvus-macrorhynchos-2018-05-01', '_Corvus-macrorhynchos-2018-06-01', '_Corvus-macrorhynchos-2018-07-01', '_Corvus-macrorhynchos-2018-08-01', '_Corvus-macrorhynchos-2018-09-01', '_Corvus-macrorhynchos-2018-10-01', '_Corvus-macrorhynchos-2018-11-01', '_Corvus-macrorhynchos-2018-12-01', '_Pycnonotus-taivanus-2018-01-01', '_Pycnonotus-taivanus-2018-02-01', '_Pycnonotus-taivanus-2018-03-01', '_Pycnonotus-taivanus-2018-04-01', '_Pycnonotus-taivanus-2018-05-01', '_Pycnonotus-taivanus-2018-06-01', '_Pycnonotus-taivanus-2018-07-01', '_Pycnonotus-taivanus-2018-08-01', '_Pycnonotus-taivanus-2018-09-01', '_Pycnonotus-taivanus-2018-10-01', '_Pycnonotus-taivanus-2018-11-01', '_Pycnonotus-taivanus-2018-12-01', '_Glaucidium-brodiei-2018-01-01', '_Glaucidium-brodiei-2018-02-01', '_Glaucidium-brodiei-2018-03-01', '_Glaucidium-brodiei-2018-04-01', '_Glaucidium-brodiei-2018-05-01', '_Glaucidium-brodiei-2018-06-01', '_Glaucidium-brodiei-2018-07-01', '_Glaucidium-brodiei-2018-08-01', '_Glaucidium-brodiei-2018-09-01', '_Glaucidium-brodiei-2018-10-01', '_Glaucidium-brodiei-2018-11-01', '_Glaucidium-brodiei-2018-12-01', '_Psilopogon-nuchalis-2018-01-01', '_Psilopogon-nuchalis-2018-02-01', '_Psilopogon-nuchalis-2018-03-01', '_Psilopogon-nuchalis-2018-04-01', '_Psilopogon-nuchalis-2018-05-01', '_Psilopogon-nuchalis-2018-06-01', '_Psilopogon-nuchalis-2018-07-01', '_Psilopogon-nuchalis-2018-08-01', '_Psilopogon-nuchalis-2018-09-01', '_Psilopogon-nuchalis-2018-10-01', '_Psilopogon-nuchalis-2018-11-01', '_Psilopogon-nuchalis-2018-12-01', '_Treron-sieboldii-2018-01-01', '_Treron-sieboldii-2018-02-01', '_Treron-sieboldii-2018-03-01', '_Treron-sieboldii-2018-04-01', '_Treron-sieboldii-2018-05-01', '_Treron-sieboldii-2018-06-01', '_Treron-sieboldii-2018-07-01', '_Treron-sieboldii-2018-08-01', '_Treron-sieboldii-2018-09-01', '_Treron-sieboldii-2018-10-01', '_Treron-sieboldii-2018-11-01', '_Treron-sieboldii-2018-12-01', '_Lonchura-atricapilla-2018-01-01', '_Lonchura-atricapilla-2018-02-01', '_Lonchura-atricapilla-2018-03-01', '_Lonchura-atricapilla-2018-04-01', '_Lonchura-atricapilla-2018-05-01', '_Lonchura-atricapilla-2018-06-01', '_Lonchura-atricapilla-2018-07-01', '_Lonchura-atricapilla-2018-08-01', '_Lonchura-atricapilla-2018-09-01', '_Lonchura-atricapilla-2018-10-01', '_Lonchura-atricapilla-2018-11-01', '_Lonchura-atricapilla-2018-12-01', '_Prunella-collaris-2018-01-01', '_Prunella-collaris-2018-02-01', '_Prunella-collaris-2018-03-01', '_Prunella-collaris-2018-04-01', '_Prunella-collaris-2018-05-01', '_Prunella-collaris-2018-06-01', '_Prunella-collaris-2018-07-01', '_Prunella-collaris-2018-08-01', '_Prunella-collaris-2018-09-01', '_Prunella-collaris-2018-10-01', '_Prunella-collaris-2018-11-01', '_Prunella-collaris-2018-12-01', '_Hirundapus-cochinchinensis-2018-01-01', '_Hirundapus-cochinchinensis-2018-02-01', '_Hirundapus-cochinchinensis-2018-03-01', '_Hirundapus-cochinchinensis-2018-04-01', '_Hirundapus-cochinchinensis-2018-05-01', '_Hirundapus-cochinchinensis-2018-06-01', '_Hirundapus-cochinchinensis-2018-07-01', '_Hirundapus-cochinchinensis-2018-08-01', '_Hirundapus-cochinchinensis-2018-09-01', '_Hirundapus-cochinchinensis-2018-10-01', '_Hirundapus-cochinchinensis-2018-11-01', '_Hirundapus-cochinchinensis-2018-12-01', '_Alauda-gulgula-2018-01-01', '_Alauda-gulgula-2018-02-01', '_Alauda-gulgula-2018-03-01', '_Alauda-gulgula-2018-04-01', '_Alauda-gulgula-2018-05-01', '_Alauda-gulgula-2018-06-01', '_Alauda-gulgula-2018-07-01', '_Alauda-gulgula-2018-08-01', '_Alauda-gulgula-2018-09-01', '_Alauda-gulgula-2018-10-01', '_Alauda-gulgula-2018-11-01', '_Alauda-gulgula-2018-12-01', '_Pycnonotus-sinensis-2018-01-01', '_Pycnonotus-sinensis-2018-02-01', '_Pycnonotus-sinensis-2018-03-01', '_Pycnonotus-sinensis-2018-04-01', '_Pycnonotus-sinensis-2018-05-01', '_Pycnonotus-sinensis-2018-06-01', '_Pycnonotus-sinensis-2018-07-01', '_Pycnonotus-sinensis-2018-08-01', '_Pycnonotus-sinensis-2018-09-01', '_Pycnonotus-sinensis-2018-10-01', '_Pycnonotus-sinensis-2018-11-01', '_Pycnonotus-sinensis-2018-12-01', '_Suthora-verreauxi-2018-01-01', '_Suthora-verreauxi-2018-02-01', '_Suthora-verreauxi-2018-03-01', '_Suthora-verreauxi-2018-04-01', '_Suthora-verreauxi-2018-05-01', '_Suthora-verreauxi-2018-06-01', '_Suthora-verreauxi-2018-07-01', '_Suthora-verreauxi-2018-08-01', '_Suthora-verreauxi-2018-09-01', '_Suthora-verreauxi-2018-10-01', '_Suthora-verreauxi-2018-11-01', '_Suthora-verreauxi-2018-12-01', '_Garrulax-ruficeps-2018-01-01', '_Garrulax-ruficeps-2018-02-01', '_Garrulax-ruficeps-2018-03-01', '_Garrulax-ruficeps-2018-04-01', '_Garrulax-ruficeps-2018-05-01', '_Garrulax-ruficeps-2018-06-01', '_Garrulax-ruficeps-2018-07-01', '_Garrulax-ruficeps-2018-08-01', '_Garrulax-ruficeps-2018-09-01', '_Garrulax-ruficeps-2018-10-01', '_Garrulax-ruficeps-2018-11-01', '_Garrulax-ruficeps-2018-12-01', '_Centropus-bengalensis-2018-01-01', '_Centropus-bengalensis-2018-02-01', '_Centropus-bengalensis-2018-03-01', '_Centropus-bengalensis-2018-04-01', '_Centropus-bengalensis-2018-05-01', '_Centropus-bengalensis-2018-06-01', '_Centropus-bengalensis-2018-07-01', '_Centropus-bengalensis-2018-08-01', '_Centropus-bengalensis-2018-09-01', '_Centropus-bengalensis-2018-10-01', '_Centropus-bengalensis-2018-11-01', '_Centropus-bengalensis-2018-12-01', '_Treron-formosae-2018-01-01', '_Treron-formosae-2018-02-01', '_Treron-formosae-2018-03-01', '_Treron-formosae-2018-04-01', '_Treron-formosae-2018-05-01', '_Treron-formosae-2018-06-01', '_Treron-formosae-2018-07-01', '_Treron-formosae-2018-08-01', '_Treron-formosae-2018-09-01', '_Treron-formosae-2018-10-01', '_Treron-formosae-2018-11-01', '_Treron-formosae-2018-12-01', '_Otus-lettia-2018-01-01', '_Otus-lettia-2018-02-01', '_Otus-lettia-2018-03-01', '_Otus-lettia-2018-04-01', '_Otus-lettia-2018-05-01', '_Otus-lettia-2018-06-01', '_Otus-lettia-2018-07-01', '_Otus-lettia-2018-08-01', '_Otus-lettia-2018-09-01', '_Otus-lettia-2018-10-01', '_Otus-lettia-2018-11-01', '_Otus-lettia-2018-12-01', '_Enicurus-scouleri-2018-01-01', '_Enicurus-scouleri-2018-02-01', '_Enicurus-scouleri-2018-03-01', '_Enicurus-scouleri-2018-04-01', '_Enicurus-scouleri-2018-05-01', '_Enicurus-scouleri-2018-06-01', '_Enicurus-scouleri-2018-07-01', '_Enicurus-scouleri-2018-08-01', '_Enicurus-scouleri-2018-09-01', '_Enicurus-scouleri-2018-10-01', '_Enicurus-scouleri-2018-11-01', '_Enicurus-scouleri-2018-12-01', '_Spizixos-semitorques-2018-01-01', '_Spizixos-semitorques-2018-02-01', '_Spizixos-semitorques-2018-03-01', '_Spizixos-semitorques-2018-04-01', '_Spizixos-semitorques-2018-05-01', '_Spizixos-semitorques-2018-06-01', '_Spizixos-semitorques-2018-07-01', '_Spizixos-semitorques-2018-08-01', '_Spizixos-semitorques-2018-09-01', '_Spizixos-semitorques-2018-10-01', '_Spizixos-semitorques-2018-11-01', '_Spizixos-semitorques-2018-12-01', '_Ketupa-flavipes-2018-01-01', '_Ketupa-flavipes-2018-02-01', '_Ketupa-flavipes-2018-03-01', '_Ketupa-flavipes-2018-04-01', '_Ketupa-flavipes-2018-05-01', '_Ketupa-flavipes-2018-06-01', '_Ketupa-flavipes-2018-07-01', '_Ketupa-flavipes-2018-08-01', '_Ketupa-flavipes-2018-09-01', '_Ketupa-flavipes-2018-10-01', '_Ketupa-flavipes-2018-11-01', '_Ketupa-flavipes-2018-12-01', '_Garrulax-taewanus-2018-01-01', '_Garrulax-taewanus-2018-02-01', '_Garrulax-taewanus-2018-03-01', '_Garrulax-taewanus-2018-04-01', '_Garrulax-taewanus-2018-05-01', '_Garrulax-taewanus-2018-06-01', '_Garrulax-taewanus-2018-07-01', '_Garrulax-taewanus-2018-08-01', '_Garrulax-taewanus-2018-09-01', '_Garrulax-taewanus-2018-10-01', '_Garrulax-taewanus-2018-11-01', '_Garrulax-taewanus-2018-12-01', '_Motacilla-alba-2018-01-01', '_Motacilla-alba-2018-02-01', '_Motacilla-alba-2018-03-01', '_Motacilla-alba-2018-04-01', '_Motacilla-alba-2018-05-01', '_Motacilla-alba-2018-06-01', '_Motacilla-alba-2018-07-01', '_Motacilla-alba-2018-08-01', '_Motacilla-alba-2018-09-01', '_Motacilla-alba-2018-10-01', '_Motacilla-alba-2018-11-01', '_Motacilla-alba-2018-12-01', '_Sitta-europaea-2018-01-01', '_Sitta-europaea-2018-02-01', '_Sitta-europaea-2018-03-01', '_Sitta-europaea-2018-04-01', '_Sitta-europaea-2018-05-01', '_Sitta-europaea-2018-06-01', '_Sitta-europaea-2018-07-01', '_Sitta-europaea-2018-08-01', '_Sitta-europaea-2018-09-01', '_Sitta-europaea-2018-10-01', '_Sitta-europaea-2018-11-01', '_Sitta-europaea-2018-12-01', '_Tarsiger-johnstoniae-2018-01-01', '_Tarsiger-johnstoniae-2018-02-01', '_Tarsiger-johnstoniae-2018-03-01', '_Tarsiger-johnstoniae-2018-04-01', '_Tarsiger-johnstoniae-2018-05-01', '_Tarsiger-johnstoniae-2018-06-01', '_Tarsiger-johnstoniae-2018-07-01', '_Tarsiger-johnstoniae-2018-08-01', '_Tarsiger-johnstoniae-2018-09-01', '_Tarsiger-johnstoniae-2018-10-01', '_Tarsiger-johnstoniae-2018-11-01', '_Tarsiger-johnstoniae-2018-12-01', '_Poecile-varius-2018-01-01', '_Poecile-varius-2018-02-01', '_Poecile-varius-2018-03-01', '_Poecile-varius-2018-04-01', '_Poecile-varius-2018-05-01', '_Poecile-varius-2018-06-01', '_Poecile-varius-2018-07-01', '_Poecile-varius-2018-08-01', '_Poecile-varius-2018-09-01', '_Poecile-varius-2018-10-01', '_Poecile-varius-2018-11-01', '_Poecile-varius-2018-12-01', '_Elanus-caeruleus-2018-01-01', '_Elanus-caeruleus-2018-02-01', '_Elanus-caeruleus-2018-03-01', '_Elanus-caeruleus-2018-04-01', '_Elanus-caeruleus-2018-05-01', '_Elanus-caeruleus-2018-06-01', '_Elanus-caeruleus-2018-07-01', '_Elanus-caeruleus-2018-08-01', '_Elanus-caeruleus-2018-09-01', '_Elanus-caeruleus-2018-10-01', '_Elanus-caeruleus-2018-11-01', '_Elanus-caeruleus-2018-12-01', '_Alcippe-morrisonia-2018-01-01', '_Alcippe-morrisonia-2018-02-01', '_Alcippe-morrisonia-2018-03-01', '_Alcippe-morrisonia-2018-04-01', '_Alcippe-morrisonia-2018-05-01', '_Alcippe-morrisonia-2018-06-01', '_Alcippe-morrisonia-2018-07-01', '_Alcippe-morrisonia-2018-08-01', '_Alcippe-morrisonia-2018-09-01', '_Alcippe-morrisonia-2018-10-01', '_Alcippe-morrisonia-2018-11-01', '_Alcippe-morrisonia-2018-12-01', '_Oriolus-traillii-2018-01-01', '_Oriolus-traillii-2018-02-01', '_Oriolus-traillii-2018-03-01', '_Oriolus-traillii-2018-04-01', '_Oriolus-traillii-2018-05-01', '_Oriolus-traillii-2018-06-01', '_Oriolus-traillii-2018-07-01', '_Oriolus-traillii-2018-08-01', '_Oriolus-traillii-2018-09-01', '_Oriolus-traillii-2018-10-01', '_Oriolus-traillii-2018-11-01', '_Oriolus-traillii-2018-12-01', '_Ardea-purpurea-2018-01-01', '_Ardea-purpurea-2018-02-01', '_Ardea-purpurea-2018-03-01', '_Ardea-purpurea-2018-04-01', '_Ardea-purpurea-2018-05-01', '_Ardea-purpurea-2018-06-01', '_Ardea-purpurea-2018-07-01', '_Ardea-purpurea-2018-08-01', '_Ardea-purpurea-2018-09-01', '_Ardea-purpurea-2018-10-01', '_Ardea-purpurea-2018-11-01', '_Ardea-purpurea-2018-12-01', '_Phasianus-colchicus-2018-01-01', '_Phasianus-colchicus-2018-02-01', '_Phasianus-colchicus-2018-03-01', '_Phasianus-colchicus-2018-04-01', '_Phasianus-colchicus-2018-05-01', '_Phasianus-colchicus-2018-06-01', '_Phasianus-colchicus-2018-07-01', '_Phasianus-colchicus-2018-08-01', '_Phasianus-colchicus-2018-09-01', '_Phasianus-colchicus-2018-10-01', '_Phasianus-colchicus-2018-11-01', '_Phasianus-colchicus-2018-12-01', '_Horornis-acanthizoides-2018-01-01', '_Horornis-acanthizoides-2018-02-01', '_Horornis-acanthizoides-2018-03-01', '_Horornis-acanthizoides-2018-04-01', '_Horornis-acanthizoides-2018-05-01', '_Horornis-acanthizoides-2018-06-01', '_Horornis-acanthizoides-2018-07-01', '_Horornis-acanthizoides-2018-08-01', '_Horornis-acanthizoides-2018-09-01', '_Horornis-acanthizoides-2018-10-01', '_Horornis-acanthizoides-2018-11-01', '_Horornis-acanthizoides-2018-12-01', '_Strix-nivicolum-2018-01-01', '_Strix-nivicolum-2018-02-01', '_Strix-nivicolum-2018-03-01', '_Strix-nivicolum-2018-04-01', '_Strix-nivicolum-2018-05-01', '_Strix-nivicolum-2018-06-01', '_Strix-nivicolum-2018-07-01', '_Strix-nivicolum-2018-08-01', '_Strix-nivicolum-2018-09-01', '_Strix-nivicolum-2018-10-01', '_Strix-nivicolum-2018-11-01', '_Strix-nivicolum-2018-12-01', '_Lophura-swinhoii-2018-01-01', '_Lophura-swinhoii-2018-02-01', '_Lophura-swinhoii-2018-03-01', '_Lophura-swinhoii-2018-04-01', '_Lophura-swinhoii-2018-05-01', '_Lophura-swinhoii-2018-06-01', '_Lophura-swinhoii-2018-07-01', '_Lophura-swinhoii-2018-08-01', '_Lophura-swinhoii-2018-09-01', '_Lophura-swinhoii-2018-10-01', '_Lophura-swinhoii-2018-11-01', '_Lophura-swinhoii-2018-12-01', '_Delichon-dasypus-2018-01-01', '_Delichon-dasypus-2018-02-01', '_Delichon-dasypus-2018-03-01', '_Delichon-dasypus-2018-04-01', '_Delichon-dasypus-2018-05-01', '_Delichon-dasypus-2018-06-01', '_Delichon-dasypus-2018-07-01', '_Delichon-dasypus-2018-08-01', '_Delichon-dasypus-2018-09-01', '_Delichon-dasypus-2018-10-01', '_Delichon-dasypus-2018-11-01', '_Delichon-dasypus-2018-12-01', '_Lonchura-striata-2018-01-01', '_Lonchura-striata-2018-02-01', '_Lonchura-striata-2018-03-01', '_Lonchura-striata-2018-04-01', '_Lonchura-striata-2018-05-01', '_Lonchura-striata-2018-06-01', '_Lonchura-striata-2018-07-01', '_Lonchura-striata-2018-08-01', '_Lonchura-striata-2018-09-01', '_Lonchura-striata-2018-10-01', '_Lonchura-striata-2018-11-01', '_Lonchura-striata-2018-12-01', '_Yuhina-brunneiceps-2018-01-01', '_Yuhina-brunneiceps-2018-02-01', '_Yuhina-brunneiceps-2018-03-01', '_Yuhina-brunneiceps-2018-04-01', '_Yuhina-brunneiceps-2018-05-01', '_Yuhina-brunneiceps-2018-06-01', '_Yuhina-brunneiceps-2018-07-01', '_Yuhina-brunneiceps-2018-08-01', '_Yuhina-brunneiceps-2018-09-01', '_Yuhina-brunneiceps-2018-10-01', '_Yuhina-brunneiceps-2018-11-01', '_Yuhina-brunneiceps-2018-12-01', '_Myophonus-insularis-2018-01-01', '_Myophonus-insularis-2018-02-01', '_Myophonus-insularis-2018-03-01', '_Myophonus-insularis-2018-04-01', '_Myophonus-insularis-2018-05-01', '_Myophonus-insularis-2018-06-01', '_Myophonus-insularis-2018-07-01', '_Myophonus-insularis-2018-08-01', '_Myophonus-insularis-2018-09-01', '_Myophonus-insularis-2018-10-01', '_Myophonus-insularis-2018-11-01', '_Myophonus-insularis-2018-12-01', '_Periparus-ater-2018-01-01', '_Periparus-ater-2018-02-01', '_Periparus-ater-2018-03-01', '_Periparus-ater-2018-04-01', '_Periparus-ater-2018-05-01', '_Periparus-ater-2018-06-01', '_Periparus-ater-2018-07-01', '_Periparus-ater-2018-08-01', '_Periparus-ater-2018-09-01', '_Periparus-ater-2018-10-01', '_Periparus-ater-2018-11-01', '_Periparus-ater-2018-12-01', '_Zosterops-simplex-2018-01-01', '_Zosterops-simplex-2018-02-01', '_Zosterops-simplex-2018-03-01', '_Zosterops-simplex-2018-04-01', '_Zosterops-simplex-2018-05-01', '_Zosterops-simplex-2018-06-01', '_Zosterops-simplex-2018-07-01', '_Zosterops-simplex-2018-08-01', '_Zosterops-simplex-2018-09-01', '_Zosterops-simplex-2018-10-01', '_Zosterops-simplex-2018-11-01', '_Zosterops-simplex-2018-12-01', '_Syrmaticus-mikado-2018-01-01', '_Syrmaticus-mikado-2018-02-01', '_Syrmaticus-mikado-2018-03-01', '_Syrmaticus-mikado-2018-04-01', '_Syrmaticus-mikado-2018-05-01', '_Syrmaticus-mikado-2018-06-01', '_Syrmaticus-mikado-2018-07-01', '_Syrmaticus-mikado-2018-08-01', '_Syrmaticus-mikado-2018-09-01', '_Syrmaticus-mikado-2018-10-01', '_Syrmaticus-mikado-2018-11-01', '_Syrmaticus-mikado-2018-12-01', '_Prinia-flaviventris-2018-01-01', '_Prinia-flaviventris-2018-02-01', '_Prinia-flaviventris-2018-03-01', '_Prinia-flaviventris-2018-04-01', '_Prinia-flaviventris-2018-05-01', '_Prinia-flaviventris-2018-06-01', '_Prinia-flaviventris-2018-07-01', '_Prinia-flaviventris-2018-08-01', '_Prinia-flaviventris-2018-09-01', '_Prinia-flaviventris-2018-10-01', '_Prinia-flaviventris-2018-11-01', '_Prinia-flaviventris-2018-12-01'])"
      ]
     },
     "execution_count": 10,
     "metadata": {},
     "output_type": "execute_result"
    }
   ],
   "source": [
    "raw_results.keys()"
   ]
  },
  {
   "cell_type": "code",
   "execution_count": 11,
   "id": "7e689706",
   "metadata": {},
   "outputs": [
    {
     "data": {
      "text/plain": [
       "<matplotlib.colorbar.Colorbar at 0x7f63f7a0b2e0>"
      ]
     },
     "execution_count": 11,
     "metadata": {},
     "output_type": "execute_result"
    },
    {
     "data": {
      "image/png": "[encoded data removed]",
      "text/plain": [
       "<Figure size 432x288 with 2 Axes>"
      ]
     },
     "metadata": {
      "needs_background": "light"
     },
     "output_type": "display_data"
    }
   ],
   "source": [
    "plt.imshow(\n",
    "    raw_results['_Passer-cinnamomeus-2018-01-01'][1],\n",
    "    cmap='jet',\n",
    ")\n",
    "plt.colorbar()"
   ]
  },
  {
   "cell_type": "code",
   "execution_count": null,
   "id": "9cf98e8c",
   "metadata": {},
   "outputs": [],
   "source": []
  }
 ],
 "metadata": {
  "kernelspec": {
   "display_name": "Python 3 (ipykernel)",
   "language": "python",
   "name": "python3"
  },
  "language_info": {
   "codemirror_mode": {
    "name": "ipython",
    "version": 3
   },
   "file_extension": ".py",
   "mimetype": "text/x-python",
   "name": "python",
   "nbconvert_exporter": "python",
   "pygments_lexer": "ipython3",
   "version": "3.8.13"
  }
 },
 "nbformat": 4,
 "nbformat_minor": 5
}
