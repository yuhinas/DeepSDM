{
 "cells": [
  {
   "cell_type": "markdown",
   "id": "97a219ca",
   "metadata": {},
   "source": [
    "# Make prediction with trained DeepSDM"
   ]
  },
  {
   "cell_type": "markdown",
   "id": "cdf7646b",
   "metadata": {},
   "source": [
    "## Load packages"
   ]
  },
  {
   "cell_type": "code",
   "execution_count": 1,
   "id": "e9588723",
   "metadata": {},
   "outputs": [
    {
     "name": "stderr",
     "output_type": "stream",
     "text": [
      "/opt/conda/lib/python3.8/site-packages/tqdm/auto.py:22: TqdmWarning: IProgress not found. Please update jupyter and ipywidgets. See https://ipywidgets.readthedocs.io/en/stable/user_install.html\n",
      "  from .autonotebook import tqdm as notebook_tqdm\n"
     ]
    }
   ],
   "source": [
    "import time\n",
    "import torch\n",
    "import pytorch_lightning as pl\n",
    "from types import SimpleNamespace\n",
    "import mlflow\n",
    "from pytorch_lightning.strategies import DDPStrategy\n",
    "from pytorch_lightning.callbacks import EarlyStopping, ModelCheckpoint\n",
    "from LitDeepSDMData import LitDeepSDMData\n",
    "from LitUNetSDM import LitUNetSDM\n",
    "import os\n",
    "from matplotlib import pyplot as plt\n",
    "import yaml"
   ]
  },
  {
   "cell_type": "markdown",
   "id": "01d3533b",
   "metadata": {},
   "source": [
    "## Model configuration\n",
    "Some settings do not matter here. Just copy these configs from 02_train_deepsdm.py"
   ]
  },
  {
   "cell_type": "code",
   "execution_count": 2,
   "id": "151a38c8",
   "metadata": {},
   "outputs": [],
   "source": [
    "# load configurations\n",
    "with open('DeepSDM_conf.yaml', 'r') as f:\n",
    "    DeepSDM_conf = yaml.load(f, Loader = yaml.FullLoader)\n",
    "DeepSDM_conf = SimpleNamespace(**DeepSDM_conf)\n",
    "\n",
    "date_list = []\n",
    "# lists of selected dates for training\n",
    "# format: YYYY_MM_01\n",
    "# The python range exclude the stop value (here e.g. 2020)\n",
    "# So here we generate from 2016_01_01 to 2019_12_01\n",
    "# We keep data of 2020 for validation/prediction\n",
    "for y_ in range(2000, 2019):\n",
    "    for m_ in range(1, 13):\n",
    "        date_list.append(f'{y_:04d}-{m_:02d}-01')\n",
    "\n",
    "# packed the species lists and date lists for training\n",
    "info = SimpleNamespace(**dict(\n",
    "    env_list = sorted(DeepSDM_conf.env_list),\n",
    "    non_normalize_env_list = sorted(DeepSDM_conf.non_normalize_env_list),\n",
    "    species_list = sorted(DeepSDM_conf.species_list),\n",
    "    species_list_val = sorted(DeepSDM_conf.species_list),\n",
    "    species_list_smoothviz = sorted(DeepSDM_conf.species_list_smoothviz),\n",
    "    date_list = sorted(date_list),\n",
    "    date_list_val = sorted(date_list),\n",
    "    date_list_smoothviz = sorted(DeepSDM_conf.date_list_smoothviz)\n",
    "))\n",
    "\n",
    "\n",
    "conf = SimpleNamespace(**DeepSDM_conf.conf)\n",
    "conf.num_env = len(DeepSDM_conf.env_list) # number of environmental layers\n",
    "conf.num_vector = DeepSDM_conf.embedding_conf['num_vector'] # number of vectors for the embeddings of species co-occurrence"
   ]
  },
  {
   "cell_type": "markdown",
   "id": "922258ba",
   "metadata": {},
   "source": [
    "## Load parameters from the checkpoint of a trained model\n",
    "\n",
    "Find the latest version or assign the version yourself under the lightning_logs directory and load parameters from its checkpoints."
   ]
  },
  {
   "cell_type": "code",
   "execution_count": 3,
   "id": "03ae5a6c",
   "metadata": {},
   "outputs": [
    {
     "data": {
      "text/plain": [
       "['epoch=47-step=3552.ckpt']"
      ]
     },
     "execution_count": 3,
     "metadata": {},
     "output_type": "execute_result"
    }
   ],
   "source": [
    "path = 'lightning_logs'\n",
    "only_dirs = [d for d in os.listdir('lightning_logs') if os.path.isdir(os.path.join(path, d)) and not d.endswith('.ipynb_checkpoints')]\n",
    "sorted_dirs = sorted(only_dirs, key=lambda x: os.path.getmtime(os.path.join(path, x)))\n",
    "# version = sorted_dirs[-1]\n",
    "version = 'version_20'\n",
    "checkpoint_path = f'{path}/{version}/checkpoints'\n",
    "checkpoints = [f for f in os.listdir(checkpoint_path) if f.endswith('.ckpt') and f != 'last.ckpt']\n",
    "checkpoints"
   ]
  },
  {
   "cell_type": "code",
   "execution_count": 4,
   "id": "f64fddf9",
   "metadata": {},
   "outputs": [],
   "source": [
    "model = LitUNetSDM.load_from_checkpoint(f'{checkpoint_path}/{checkpoints[0]}', info=info, conf=conf)"
   ]
  },
  {
   "cell_type": "markdown",
   "id": "4c24dee8",
   "metadata": {},
   "source": [
    "## Initialize datamodel"
   ]
  },
  {
   "cell_type": "code",
   "execution_count": 5,
   "id": "b33478ec",
   "metadata": {},
   "outputs": [
    {
     "name": "stdout",
     "output_type": "stream",
     "text": [
      "./workspace/env_information.json\n",
      "./workspace/species_information.json\n",
      "./workspace/k_information.json\n",
      "./workspace/cooccurrence_vector.json\n"
     ]
    }
   ],
   "source": [
    "deep_sdm_data = LitDeepSDMData(info = info, conf = conf)"
   ]
  },
  {
   "cell_type": "markdown",
   "id": "ceb89fbd",
   "metadata": {},
   "source": [
    "## Select the species and dates for prediction.\n",
    "The format of date must be YYYY_MM_01"
   ]
  },
  {
   "cell_type": "code",
   "execution_count": 6,
   "id": "b4e32c48",
   "metadata": {},
   "outputs": [
    {
     "name": "stdout",
     "output_type": "stream",
     "text": [
      "Setting up dataset for prediction...\n"
     ]
    }
   ],
   "source": [
    "# The Carpodacus_formosanus is a species unknown to the model in the training process.\n",
    "# We can still predict its distribution with help of species embeddings.\n",
    "# We can also assign multiple species and dates for batch predictions. \n",
    "date_list_predict = []\n",
    "for y_ in range(2018, 2019):\n",
    "    for m_ in range(1, 13):\n",
    "        date_list_predict.append(f'{y_:04d}-{m_:02d}-01')\n",
    "predict_dataloaders = deep_sdm_data.predict_dataloader(species_list = DeepSDM_conf.species_list_predict, date_list = date_list_predict)"
   ]
  },
  {
   "cell_type": "markdown",
   "id": "a7854f3f",
   "metadata": {},
   "source": [
    "## Start prediction\n",
    "The results inlcuding png images and geotiff will be output to the `output_dir`"
   ]
  },
  {
   "cell_type": "code",
   "execution_count": 7,
   "id": "05419bd9",
   "metadata": {},
   "outputs": [
    {
     "ename": "RuntimeError",
     "evalue": "LitUNetSDM is not attached to a `Trainer`.",
     "output_type": "error",
     "traceback": [
      "\u001b[0;31m---------------------------------------------------------------------------\u001b[0m",
      "\u001b[0;31mRuntimeError\u001b[0m                              Traceback (most recent call last)",
      "Input \u001b[0;32mIn [7]\u001b[0m, in \u001b[0;36m<cell line: 2>\u001b[0;34m()\u001b[0m\n\u001b[1;32m      1\u001b[0m model\u001b[38;5;241m.\u001b[39meval()\n\u001b[1;32m      2\u001b[0m \u001b[38;5;28;01mwith\u001b[39;00m torch\u001b[38;5;241m.\u001b[39mno_grad():\n\u001b[0;32m----> 3\u001b[0m     raw_results \u001b[38;5;241m=\u001b[39m \u001b[43mmodel\u001b[49m\u001b[38;5;241;43m.\u001b[39;49m\u001b[43mpredict\u001b[49m\u001b[43m(\u001b[49m\u001b[43mpredict_dataloaders\u001b[49m\u001b[43m,\u001b[49m\u001b[43m \u001b[49m\u001b[43mdatamodule\u001b[49m\u001b[43m \u001b[49m\u001b[38;5;241;43m=\u001b[39;49m\u001b[43m \u001b[49m\u001b[43mdeep_sdm_data\u001b[49m\u001b[43m,\u001b[49m\u001b[43m \u001b[49m\u001b[43moutput_dir\u001b[49m\u001b[43m \u001b[49m\u001b[38;5;241;43m=\u001b[39;49m\u001b[43m \u001b[49m\u001b[38;5;124;43m'\u001b[39;49m\u001b[38;5;124;43mpredicts\u001b[39;49m\u001b[38;5;124;43m'\u001b[39;49m\u001b[43m)\u001b[49m\n",
      "File \u001b[0;32m~/DeepSDM/LitUNetSDM.py:494\u001b[0m, in \u001b[0;36mLitUNetSDM.predict\u001b[0;34m(self, dataloaders_predict, datamodule, output_dir, ref_geotiff)\u001b[0m\n\u001b[1;32m    491\u001b[0m \u001b[38;5;28;01mdef\u001b[39;00m \u001b[38;5;21mpredict\u001b[39m(\u001b[38;5;28mself\u001b[39m, dataloaders_predict\u001b[38;5;241m=\u001b[39m[], datamodule\u001b[38;5;241m=\u001b[39m\u001b[38;5;28;01mNone\u001b[39;00m, output_dir\u001b[38;5;241m=\u001b[39m\u001b[38;5;124m'\u001b[39m\u001b[38;5;124m./predicts\u001b[39m\u001b[38;5;124m'\u001b[39m, ref_geotiff \u001b[38;5;241m=\u001b[39m \u001b[38;5;124m'\u001b[39m\u001b[38;5;124m./workspace/extent_binary.tif\u001b[39m\u001b[38;5;124m'\u001b[39m):\n\u001b[1;32m    492\u001b[0m     \n\u001b[1;32m    493\u001b[0m     \u001b[38;5;66;03m# self.trainer.logger.version: the version name aka timelog in 02_train_deepsdm.py\u001b[39;00m\n\u001b[0;32m--> 494\u001b[0m     dir_tif_out \u001b[38;5;241m=\u001b[39m \u001b[38;5;124mf\u001b[39m\u001b[38;5;124m'\u001b[39m\u001b[38;5;132;01m{\u001b[39;00moutput_dir\u001b[38;5;132;01m}\u001b[39;00m\u001b[38;5;124m/\u001b[39m\u001b[38;5;132;01m{\u001b[39;00m\u001b[38;5;28mself\u001b[39m\u001b[38;5;241m.\u001b[39mtrainer\u001b[38;5;241m.\u001b[39mlogger\u001b[38;5;241m.\u001b[39mversion\u001b[38;5;132;01m}\u001b[39;00m\u001b[38;5;124m/tif\u001b[39m\u001b[38;5;124m'\u001b[39m\n\u001b[1;32m    495\u001b[0m     \u001b[38;5;28;01mif\u001b[39;00m \u001b[38;5;129;01mnot\u001b[39;00m os\u001b[38;5;241m.\u001b[39mpath\u001b[38;5;241m.\u001b[39misdir(dir_tif_out):\n\u001b[1;32m    496\u001b[0m         os\u001b[38;5;241m.\u001b[39mmakedirs(dir_tif_out)\n",
      "File \u001b[0;32m~/.local/lib/python3.8/site-packages/pytorch_lightning/core/module.py:200\u001b[0m, in \u001b[0;36mLightningModule.trainer\u001b[0;34m(self)\u001b[0m\n\u001b[1;32m    198\u001b[0m     \u001b[38;5;28;01mreturn\u001b[39;00m _TrainerFabricShim(fabric\u001b[38;5;241m=\u001b[39m\u001b[38;5;28mself\u001b[39m\u001b[38;5;241m.\u001b[39m_fabric)  \u001b[38;5;66;03m# type: ignore[return-value]\u001b[39;00m\n\u001b[1;32m    199\u001b[0m \u001b[38;5;28;01mif\u001b[39;00m \u001b[38;5;129;01mnot\u001b[39;00m \u001b[38;5;28mself\u001b[39m\u001b[38;5;241m.\u001b[39m_jit_is_scripting \u001b[38;5;129;01mand\u001b[39;00m \u001b[38;5;28mself\u001b[39m\u001b[38;5;241m.\u001b[39m_trainer \u001b[38;5;129;01mis\u001b[39;00m \u001b[38;5;28;01mNone\u001b[39;00m:\n\u001b[0;32m--> 200\u001b[0m     \u001b[38;5;28;01mraise\u001b[39;00m \u001b[38;5;167;01mRuntimeError\u001b[39;00m(\u001b[38;5;124mf\u001b[39m\u001b[38;5;124m\"\u001b[39m\u001b[38;5;132;01m{\u001b[39;00m\u001b[38;5;28mself\u001b[39m\u001b[38;5;241m.\u001b[39m\u001b[38;5;18m__class__\u001b[39m\u001b[38;5;241m.\u001b[39m\u001b[38;5;18m__qualname__\u001b[39m\u001b[38;5;132;01m}\u001b[39;00m\u001b[38;5;124m is not attached to a `Trainer`.\u001b[39m\u001b[38;5;124m\"\u001b[39m)\n\u001b[1;32m    201\u001b[0m \u001b[38;5;28;01mreturn\u001b[39;00m \u001b[38;5;28mself\u001b[39m\u001b[38;5;241m.\u001b[39m_trainer\n",
      "\u001b[0;31mRuntimeError\u001b[0m: LitUNetSDM is not attached to a `Trainer`."
     ]
    }
   ],
   "source": [
    "model.eval()\n",
    "with torch.no_grad():\n",
    "    raw_results = model.predict(predict_dataloaders, datamodule = deep_sdm_data, output_dir = f'predicts/{version}')"
   ]
  },
  {
   "cell_type": "code",
   "execution_count": null,
   "id": "5206ba9d",
   "metadata": {},
   "outputs": [],
   "source": [
    "raw_results.keys()"
   ]
  },
  {
   "cell_type": "code",
   "execution_count": null,
   "id": "f4dbd53a",
   "metadata": {},
   "outputs": [],
   "source": [
    "plt.imshow(\n",
    "    raw_results['Prinia_flaviventris_2018-09-01'][1],\n",
    "    cmap='jet',\n",
    ")\n",
    "plt.colorbar()"
   ]
  },
  {
   "cell_type": "code",
   "execution_count": null,
   "id": "394aa487",
   "metadata": {},
   "outputs": [],
   "source": []
  }
 ],
 "metadata": {
  "kernelspec": {
   "display_name": "Python 3 (ipykernel)",
   "language": "python",
   "name": "python3"
  },
  "language_info": {
   "codemirror_mode": {
    "name": "ipython",
    "version": 3
   },
   "file_extension": ".py",
   "mimetype": "text/x-python",
   "name": "python",
   "nbconvert_exporter": "python",
   "pygments_lexer": "ipython3",
   "version": "3.8.13"
  }
 },
 "nbformat": 4,
 "nbformat_minor": 5
}
