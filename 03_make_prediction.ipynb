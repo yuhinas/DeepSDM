{
 "cells": [
  {
   "cell_type": "markdown",
   "id": "5dd84985",
   "metadata": {},
   "source": [
    "# Make prediction with trained DeepSDM"
   ]
  },
  {
   "cell_type": "markdown",
   "id": "6c452685",
   "metadata": {},
   "source": [
    "## Load packages"
   ]
  },
  {
   "cell_type": "code",
   "execution_count": 6,
   "id": "e2035caf",
   "metadata": {},
   "outputs": [],
   "source": [
    "import time\n",
    "import torch\n",
    "import pytorch_lightning as pl\n",
    "from types import SimpleNamespace\n",
    "import mlflow\n",
    "from pytorch_lightning.strategies import DDPStrategy\n",
    "from pytorch_lightning.callbacks import EarlyStopping, ModelCheckpoint\n",
    "from LitDeepSDMData import LitDeepSDMData\n",
    "from LitUNetSDM import LitUNetSDM\n",
    "import os\n",
    "from matplotlib import pyplot as plt\n",
    "import yaml\n",
    "import copy\n",
    "from collections import OrderedDict"
   ]
  },
  {
   "cell_type": "markdown",
   "id": "b2669a04",
   "metadata": {},
   "source": [
    "## Assign the experiment_id and run_id of mlflow of which model will be predicted"
   ]
  },
  {
   "cell_type": "code",
   "execution_count": 14,
   "id": "2bebdf85",
   "metadata": {},
   "outputs": [],
   "source": [
    "experiment_id = '923241236702221005'\n",
    "run_id = 'd227de26b8784f629682acd0d0922682'\n",
    "logged_path = f'mlruns/{experiment_id}/{run_id}'"
   ]
  },
  {
   "cell_type": "markdown",
   "id": "6306ae99",
   "metadata": {},
   "source": [
    "## Model configuration\n",
    "Some settings do not matter here. Just copy these configs from 02_train_deepsdm.py"
   ]
  },
  {
   "cell_type": "code",
   "execution_count": 15,
   "id": "59422d3e",
   "metadata": {},
   "outputs": [],
   "source": [
    "# load configurations\n",
    "with open(f'{logged_path}/artifacts/conf/DeepSDM_conf.yaml', 'r') as f:\n",
    "    DeepSDM_conf = yaml.load(f, Loader = yaml.FullLoader)\n",
    "DeepSDM_conf = SimpleNamespace(**DeepSDM_conf)\n",
    "\n",
    "# packed the species lists and date lists for training\n",
    "info = SimpleNamespace(**dict(\n",
    "    env_list = sorted(DeepSDM_conf.env_list),\n",
    "    non_normalize_env_list = sorted(DeepSDM_conf.non_normalize_env_list),\n",
    "    species_list = sorted(DeepSDM_conf.species_list_train),\n",
    "    species_list_val = sorted(DeepSDM_conf.species_list_train),\n",
    "    species_list_smoothviz = sorted(DeepSDM_conf.species_list_smoothviz),\n",
    "    date_list = sorted(DeepSDM_conf.date_list_train),\n",
    "    date_list_val = sorted(DeepSDM_conf.date_list_train),\n",
    "    date_list_smoothviz = sorted(DeepSDM_conf.date_list_smoothviz)\n",
    "))\n",
    "\n",
    "conf = SimpleNamespace(**DeepSDM_conf.conf)"
   ]
  },
  {
   "cell_type": "markdown",
   "id": "5dfb9187",
   "metadata": {},
   "source": [
    "## Load parameters from the checkpoint of a trained model\n",
    "\n",
    "Check which top-k models are logged"
   ]
  },
  {
   "cell_type": "code",
   "execution_count": 16,
   "id": "d707ea1e",
   "metadata": {},
   "outputs": [
    {
     "data": {
      "text/plain": [
       "['epoch=27-step=2072.ckpt',\n",
       " 'epoch=21-step=1628.ckpt',\n",
       " 'epoch=25-step=1924.ckpt']"
      ]
     },
     "execution_count": 16,
     "metadata": {},
     "output_type": "execute_result"
    }
   ],
   "source": [
    "checkpoint_path = f'{logged_path}/checkpoints'\n",
    "checkpoints = [f for f in os.listdir(checkpoint_path) if f.endswith('.ckpt') and f != 'last.ckpt']\n",
    "checkpoints"
   ]
  },
  {
   "cell_type": "markdown",
   "id": "67eb4536",
   "metadata": {},
   "source": [
    "Read the logged average state_dict of top-k models"
   ]
  },
  {
   "cell_type": "code",
   "execution_count": 17,
   "id": "dfbc9e8e",
   "metadata": {},
   "outputs": [],
   "source": [
    "avg_state_dict = torch.load(f'{logged_path}/artifacts/avg_state_dict/avg_state_dict.pt')\n",
    "\n",
    "model = LitUNetSDM(info = info, conf = conf).cuda()\n",
    "model.load_state_dict(avg_state_dict)"
   ]
  },
  {
   "cell_type": "markdown",
   "id": "7d8a1c48",
   "metadata": {},
   "source": [
    "## Initialize datamodel"
   ]
  },
  {
   "cell_type": "code",
   "execution_count": 12,
   "id": "18231998",
   "metadata": {},
   "outputs": [
    {
     "name": "stdout",
     "output_type": "stream",
     "text": [
      "./workspace/env_information.json\n",
      "./workspace/species_information.json\n",
      "./workspace/k_information.json\n",
      "./workspace/cooccurrence_vector.json\n"
     ]
    }
   ],
   "source": [
    "deep_sdm_data = LitDeepSDMData(info = info, conf = conf)"
   ]
  },
  {
   "cell_type": "markdown",
   "id": "5b1896ab",
   "metadata": {},
   "source": [
    "## Select the species and dates for prediction.\n",
    "The format of date must be YYYY-MM-01"
   ]
  },
  {
   "cell_type": "code",
   "execution_count": 18,
   "id": "632f2a88",
   "metadata": {},
   "outputs": [
    {
     "name": "stdout",
     "output_type": "stream",
     "text": [
      "Setting up dataset for prediction...\n"
     ]
    }
   ],
   "source": [
    "# The Carpodacus_formosanus is a species unknown to the model in the training process.\n",
    "# We can still predict its distribution with help of species embeddings.\n",
    "# We can also assign multiple species and dates for batch predictions. \n",
    "predict_dataloaders = deep_sdm_data.predict_dataloader(species_list = DeepSDM_conf.species_list_predict, date_list = DeepSDM_conf.date_list_predict)"
   ]
  },
  {
   "cell_type": "markdown",
   "id": "f65a3c75",
   "metadata": {},
   "source": [
    "## Start prediction\n",
    "The results inlcuding png images and geotiff will be output to the `output_dir`"
   ]
  },
  {
   "cell_type": "code",
   "execution_count": 20,
   "id": "edc991a4",
   "metadata": {},
   "outputs": [
    {
     "name": "stdout",
     "output_type": "stream",
     "text": [
      "Prinia_flaviventris_2018-12-01: 8.210442543029785 seconds .........................\r"
     ]
    }
   ],
   "source": [
    "model.eval()\n",
    "with torch.no_grad():\n",
    "    raw_results = model.predict(predict_dataloaders, datamodule = deep_sdm_data, output_dir = f'predicts/{run_id}')"
   ]
  },
  {
   "cell_type": "code",
   "execution_count": null,
   "id": "d95316fe",
   "metadata": {},
   "outputs": [],
   "source": [
    "raw_results.keys()"
   ]
  },
  {
   "cell_type": "code",
   "execution_count": null,
   "id": "315e9a97",
   "metadata": {},
   "outputs": [],
   "source": [
    "plt.imshow(\n",
    "    raw_results['Prinia_flaviventris_2018-09-01'][1],\n",
    "    cmap='jet',\n",
    ")\n",
    "plt.colorbar()"
   ]
  },
  {
   "cell_type": "code",
   "execution_count": null,
   "id": "adac8258",
   "metadata": {},
   "outputs": [],
   "source": []
  }
 ],
 "metadata": {
  "kernelspec": {
   "display_name": "Python 3 (ipykernel)",
   "language": "python",
   "name": "python3"
  },
  "language_info": {
   "codemirror_mode": {
    "name": "ipython",
    "version": 3
   },
   "file_extension": ".py",
   "mimetype": "text/x-python",
   "name": "python",
   "nbconvert_exporter": "python",
   "pygments_lexer": "ipython3",
   "version": "3.8.13"
  }
 },
 "nbformat": 4,
 "nbformat_minor": 5
}
