{
 "cells": [
  {
   "cell_type": "markdown",
   "id": "1e09eae8",
   "metadata": {},
   "source": [
    "# Make prediction with trained DeepSDM"
   ]
  },
  {
   "cell_type": "markdown",
   "id": "1d635033",
   "metadata": {},
   "source": [
    "## Load packages"
   ]
  },
  {
   "cell_type": "code",
   "execution_count": 2,
   "id": "0b97bd77",
   "metadata": {},
   "outputs": [],
   "source": [
    "import torch\n",
    "import pytorch_lightning as pl\n",
    "from types import SimpleNamespace\n",
    "import mlflow\n",
    "# from pytorch_lightning.strategies import DDPStrategy\n",
    "# from pytorch_lightning.callbacks import EarlyStopping, ModelCheckpoint\n",
    "from LitDeepSDMData_prediction import LitDeepSDMData\n",
    "from LitUNetSDM_prediction import LitUNetSDM\n",
    "import os\n",
    "from matplotlib import pyplot as plt\n",
    "import yaml\n",
    "import torch.multiprocessing as mp"
   ]
  },
  {
   "cell_type": "markdown",
   "id": "e158cb6c",
   "metadata": {},
   "source": [
    "## Assign the experiment_id and run_id of mlflow of which model will be predicted"
   ]
  },
  {
   "cell_type": "code",
   "execution_count": 3,
   "id": "bb1168de",
   "metadata": {},
   "outputs": [],
   "source": [
    "experiment_id = '115656750127464383'\n",
    "run_id = 'e52c8ac9a3e24c75ac871f63bbdea060'\n",
    "logged_path = os.path.join('./mlruns', experiment_id, run_id)"
   ]
  },
  {
   "cell_type": "markdown",
   "id": "7a63a0d5",
   "metadata": {},
   "source": [
    "## Model configuration\n",
    "Some settings do not matter here. Just copy these configs from 02_train_deepsdm.py"
   ]
  },
  {
   "cell_type": "code",
   "execution_count": 4,
   "id": "fc3c1782",
   "metadata": {},
   "outputs": [],
   "source": [
    "# load configurations\n",
    "yaml_conf_logged = os.path.join(logged_path, 'artifacts', 'conf', 'DeepSDM_conf.yaml')\n",
    "with open(yaml_conf_logged, 'r') as f:\n",
    "    DeepSDM_conf = yaml.load(f, Loader = yaml.FullLoader)\n",
    "DeepSDM_conf = SimpleNamespace(**DeepSDM_conf)"
   ]
  },
  {
   "cell_type": "markdown",
   "id": "0e4a4656",
   "metadata": {},
   "source": [
    "# For 1 GPU"
   ]
  },
  {
   "cell_type": "markdown",
   "id": "8d141320",
   "metadata": {},
   "source": [
    "## Load parameters from the checkpoint of a trained model\n",
    "\n",
    "Check which top-k models are logged"
   ]
  },
  {
   "cell_type": "code",
   "execution_count": 5,
   "id": "f367f5b3",
   "metadata": {},
   "outputs": [
    {
     "data": {
      "text/plain": [
       "['epoch=22-step=2231.ckpt',\n",
       " 'epoch=42-step=4171.ckpt',\n",
       " 'epoch=16-step=1649.ckpt']"
      ]
     },
     "execution_count": 5,
     "metadata": {},
     "output_type": "execute_result"
    }
   ],
   "source": [
    "checkpoint_path = os.path.join(logged_path, 'checkpoints')\n",
    "checkpoints = [f for f in os.listdir(checkpoint_path) if f.endswith('.ckpt') and f != 'last.ckpt']\n",
    "checkpoints"
   ]
  },
  {
   "cell_type": "markdown",
   "id": "92aef82f",
   "metadata": {},
   "source": [
    " - Read the logged average state_dict of top-k models\n",
    " - In function `LitUNetSDM`, set `predict_attention = True` to write the attention score map (default be False)"
   ]
  },
  {
   "cell_type": "code",
   "execution_count": 7,
   "id": "2e96babe",
   "metadata": {},
   "outputs": [
    {
     "data": {
      "text/plain": [
       "<All keys matched successfully>"
      ]
     },
     "execution_count": 7,
     "metadata": {},
     "output_type": "execute_result"
    }
   ],
   "source": [
    "device = 'cuda:0'\n",
    "avg_state_dict = torch.load(os.path.join(logged_path, 'artifacts', 'top_k_avg_state_dict', 'top_k_avg_state_dict.pt'), map_location = torch.device(device))\n",
    "model = LitUNetSDM(custom_device = device, yaml_conf = yaml_conf_logged, predict_attention = False)\n",
    "model.load_state_dict(avg_state_dict)"
   ]
  },
  {
   "cell_type": "markdown",
   "id": "6042d678",
   "metadata": {},
   "source": [
    "## Initialize datamodel"
   ]
  },
  {
   "cell_type": "code",
   "execution_count": 9,
   "id": "61550523",
   "metadata": {},
   "outputs": [
    {
     "name": "stdout",
     "output_type": "stream",
     "text": [
      "./workspace/cooccurrence_vector.json\n",
      "./workspace/env_information.json\n",
      "./workspace/k_information.json\n",
      "./workspace/species_information.json\n"
     ]
    }
   ],
   "source": [
    "deep_sdm_data = LitDeepSDMData(device = device, yaml_conf = yaml_conf_logged)"
   ]
  },
  {
   "cell_type": "markdown",
   "id": "58be22a4",
   "metadata": {},
   "source": [
    "## Select the species and dates for prediction.\n",
    " - The format of date must be YYYY-MM-01\n",
    " - If `species_list` or `date_list` is too big to load, sperate it and run this entire .ipynb multiple times"
   ]
  },
  {
   "cell_type": "code",
   "execution_count": 25,
   "id": "1350086f",
   "metadata": {},
   "outputs": [],
   "source": [
    "# We can still predict distribution with help of species embeddings.\n",
    "# We can also assign multiple species and dates for batch predictions. \n",
    "predict_dataloaders = deep_sdm_data.predict_dataloader(\n",
    "    species_list = DeepSDM_conf.training_conf['species_list_predict'], \n",
    "    date_list = DeepSDM_conf.training_conf['date_list_predict'])\n",
    "# predict_dataloaders = deep_sdm_data.predict_dataloader(\n",
    "#     species_list = ['Carpodacus_formosanus'], \n",
    "#     date_list = ['2018-01-01', '2018-07-01', '2018-10-01'])"
   ]
  },
  {
   "cell_type": "markdown",
   "id": "a133d0d5",
   "metadata": {},
   "source": [
    "## Start prediction\n",
    "The results inlcuding png images and geotiff will be output to the `output_dir`"
   ]
  },
  {
   "cell_type": "code",
   "execution_count": null,
   "id": "ea2ce8e0",
   "metadata": {},
   "outputs": [],
   "source": [
    "model.eval()\n",
    "with torch.no_grad():\n",
    "    raw_results = model.predict(predict_dataloaders, datamodule = deep_sdm_data, output_dir = os.path.join('./predicts', run_id))"
   ]
  },
  {
   "cell_type": "markdown",
   "id": "2d268946",
   "metadata": {},
   "source": [
    "# For Multiple GPUs"
   ]
  },
  {
   "cell_type": "markdown",
   "id": "f3359e27",
   "metadata": {},
   "source": [
    "## Load parameters from the checkpoint of a trained model\n",
    "\n",
    "Check which top-k models are logged"
   ]
  },
  {
   "cell_type": "code",
   "execution_count": 4,
   "id": "44ab0c3d",
   "metadata": {},
   "outputs": [
    {
     "data": {
      "text/plain": [
       "['epoch=22-step=2231.ckpt',\n",
       " 'epoch=42-step=4171.ckpt',\n",
       " 'epoch=16-step=1649.ckpt']"
      ]
     },
     "execution_count": 4,
     "metadata": {},
     "output_type": "execute_result"
    }
   ],
   "source": [
    "checkpoint_path = os.path.join(logged_path, 'checkpoints')\n",
    "checkpoints = [f for f in os.listdir(checkpoint_path) if f.endswith('.ckpt') and f != 'last.ckpt']\n",
    "checkpoints"
   ]
  },
  {
   "cell_type": "markdown",
   "id": "9f11464e",
   "metadata": {},
   "source": [
    "## Start prediction\n",
    "The results inlcuding png images and geotiff will be output to the `output_dir`"
   ]
  },
  {
   "cell_type": "code",
   "execution_count": 5,
   "id": "61046a88",
   "metadata": {},
   "outputs": [],
   "source": [
    "def load_state_dict(device):\n",
    "    \"\"\"Load the model state dictionary and average over checkpoints if necessary.\"\"\"\n",
    "    avg_state_dict = None\n",
    "    state_dict_path = os.path.join(logged_path, 'artifacts', 'top_k_avg_state_dict', 'top_k_avg_state_dict.pt')\n",
    "    if os.path.exists(state_dict_path):\n",
    "        avg_state_dict = torch.load(state_dict_path, map_location=torch.device(device))\n",
    "        print(f'Load state dictionary from {state_dict_path}')\n",
    "    else:\n",
    "        for ckp_file in [os.path.join(checkpoint_path, ckp) for ckp in checkpoints]:\n",
    "            state_dict = torch.load(ckp_file, map_location=torch.device(device))['state_dict']\n",
    "            if avg_state_dict is None:\n",
    "                avg_state_dict = state_dict\n",
    "            else:\n",
    "                for key in state_dict:\n",
    "                    avg_state_dict[key] += state_dict[key]\n",
    "        for key in avg_state_dict:\n",
    "            avg_state_dict[key] = avg_state_dict[key].float() / len(checkpoints)\n",
    "        print(f'Load state dictionary from average of {checkpoints}')\n",
    "    return avg_state_dict\n",
    "\n",
    "\n",
    "def split_tasks(species_list, date_list, num_gpus):\n",
    "    \"\"\"Split tasks across GPUs, ensuring no tasks are lost.\"\"\"\n",
    "    all_tasks = [(sp, dt) for sp in sorted(species_list) for dt in sorted(date_list)]\n",
    "    # 初始化任務清單\n",
    "    tasks_per_gpu = [[] for _ in range(num_gpus)]\n",
    "    for i, species in enumerate(species_list):\n",
    "        sp_tasks = [(sp, dt) for (sp, dt) in all_tasks if sp == species]\n",
    "        for task in sp_tasks:\n",
    "            tasks_per_gpu[i % num_gpus].append(task)\n",
    "    return tasks_per_gpu\n",
    "\n",
    "\n",
    "def run_prediction_on_gpu(gpu_id, tasks, predict_attention=False, device_prefix='cuda'):\n",
    "    \"\"\"Run predictions for the assigned tasks on the specified GPU.\"\"\"\n",
    "    device = f\"{device_prefix}:{gpu_id}\"\n",
    "    avg_state_dict = load_state_dict(device)\n",
    "    \n",
    "    model = LitUNetSDM(custom_device=device, yaml_conf=yaml_conf_logged, predict_attention=predict_attention)\n",
    "    model.load_state_dict(avg_state_dict)\n",
    "    model.eval()\n",
    "\n",
    "    deep_sdm_data = LitDeepSDMData(device=device, yaml_conf=yaml_conf_logged)\n",
    "    \n",
    "    for sp, date in tasks:\n",
    "#         if os.path.exists(f'./predicts/{run_id}/tif/{sp}_{date}_predict.tif'):\n",
    "#             continue\n",
    "        with torch.no_grad():\n",
    "            dataloader = deep_sdm_data.predict_dataloader(species_list=[sp], date_list=[date])\n",
    "            model.predict(dataloader, datamodule=deep_sdm_data, output_dir=os.path.join('./predicts', run_id))"
   ]
  },
  {
   "cell_type": "markdown",
   "id": "97badf2f",
   "metadata": {},
   "source": [
    "## Paramters to specify"
   ]
  },
  {
   "cell_type": "code",
   "execution_count": 6,
   "id": "5024f63a",
   "metadata": {},
   "outputs": [],
   "source": [
    "num_gpus = 4\n",
    "\n",
    "# Save attention map or not\n",
    "predict_attention = True\n",
    "\n",
    "# species list for prediction\n",
    "species_list_prediction = ['Arborophila_crudigularis',\n",
    " 'Syrmaticus_mikado',\n",
    " 'Phasianus_colchicus',\n",
    " 'Lophura_swinhoii',\n",
    " 'Bambusicola_sonorivox',\n",
    " 'Synoicus_chinensis',\n",
    " 'Columba_pulchricollis',\n",
    " 'Streptopelia_tranquebarica',\n",
    " 'Spilopelia_chinensis',\n",
    " 'Chalcophaps_indica',\n",
    " 'Treron_sieboldii',\n",
    " 'Treron_formosae',\n",
    " 'Centropus_bengalensis',\n",
    " 'Caprimulgus_affinis',\n",
    " 'Hirundapus_cochinchinensis',\n",
    " 'Apus_nipalensis',\n",
    " 'Gallirallus_striatus',\n",
    " 'Gallinula_chloropus',\n",
    " 'Amaurornis_phoenicurus',\n",
    " 'Rallina_eurizonoides',\n",
    " 'Porzana_fusca',\n",
    " 'Rostratula_benghalensis',\n",
    " 'Turnix_sylvaticus',\n",
    " 'Turnix_suscitator',\n",
    " 'Ixobrychus_cinnamomeus',\n",
    " 'Egretta_sacra',\n",
    " 'Gorsachius_melanolophus',\n",
    " 'Elanus_caeruleus',\n",
    " 'Pernis_ptilorhynchus',\n",
    " 'Spilornis_cheela',\n",
    " 'Nisaetus_nipalensis',\n",
    " 'Ictinaetus_malayensis',\n",
    " 'Accipiter_trivirgatus',\n",
    " 'Accipiter_virgatus',\n",
    " 'Tyto_longimembris',\n",
    " 'Otus_spilocephalus',\n",
    " 'Otus_lettia',\n",
    " 'Ketupa_flavipes',\n",
    " 'Glaucidium_brodiei',\n",
    " 'Strix_leptogrammica',\n",
    " 'Strix_nivicolum',\n",
    " 'Psilopogon_nuchalis',\n",
    " 'Yungipicus_canicapillus',\n",
    " 'Dendrocopos_leucotos',\n",
    " 'Picus_canus',\n",
    " 'Pericrocotus_solaris',\n",
    " 'Coracina_macei',\n",
    " 'Erpornis_zantholeuca',\n",
    " 'Oriolus_traillii',\n",
    " 'Dicrurus_aeneus',\n",
    " 'Hypothymis_azurea',\n",
    " 'Lanius_schach',\n",
    " 'Garrulus_glandarius',\n",
    " 'Urocissa_caerulea',\n",
    " 'Dendrocitta_formosae',\n",
    " 'Nucifraga_caryocatactes',\n",
    " 'Corvus_macrorhynchos',\n",
    " 'Periparus_ater',\n",
    " 'Poecile_varius',\n",
    " 'Parus_monticolus',\n",
    " 'Parus_holsti',\n",
    " 'Alauda_gulgula',\n",
    " 'Prinia_striata']\n",
    "\n",
    "# date list for prediction\n",
    "date_list_prediction = DeepSDM_conf.training_conf['date_list_predict'][80:107]"
   ]
  },
  {
   "cell_type": "code",
   "execution_count": null,
   "id": "af7ae826",
   "metadata": {},
   "outputs": [
    {
     "name": "stdout",
     "output_type": "stream",
     "text": [
      "Load state dictionary from ./mlruns/115656750127464383/e52c8ac9a3e24c75ac871f63bbdea060/artifacts/top_k_avg_state_dict/top_k_avg_state_dict.pt\n",
      "Load state dictionary from ./mlruns/115656750127464383/e52c8ac9a3e24c75ac871f63bbdea060/artifacts/top_k_avg_state_dict/top_k_avg_state_dict.pt\n",
      "Load state dictionary from ./mlruns/115656750127464383/e52c8ac9a3e24c75ac871f63bbdea060/artifacts/top_k_avg_state_dict/top_k_avg_state_dict.ptLoad state dictionary from ./mlruns/115656750127464383/e52c8ac9a3e24c75ac871f63bbdea060/artifacts/top_k_avg_state_dict/top_k_avg_state_dict.pt\n",
      "\n",
      "./workspace/cooccurrence_vector.json\n",
      "./workspace/env_information.json\n",
      "./workspace/k_information.json\n",
      "./workspace/species_information.json\n",
      "./workspace/cooccurrence_vector.json\n",
      "./workspace/env_information.json\n",
      "./workspace/k_information.json\n",
      "./workspace/species_information.json\n",
      "./workspace/cooccurrence_vector.json\n",
      "./workspace/cooccurrence_vector.json\n",
      "./workspace/env_information.json\n",
      "./workspace/k_information.json\n",
      "./workspace/species_information.json\n",
      "./workspace/env_information.json\n",
      "./workspace/k_information.json\n",
      "./workspace/species_information.json\n"
     ]
    }
   ],
   "source": [
    "if __name__ == \"__main__\":\n",
    "    num_gpus = num_gpus  # Number of GPUs\n",
    "    species_list = species_list_prediction\n",
    "    date_list = date_list_prediction\n",
    "    \n",
    "    # Split tasks across GPUs\n",
    "    tasks_per_gpu = split_tasks(species_list, date_list, num_gpus)\n",
    "    \n",
    "    # Multiprocessing for running predictions on multiple GPUs\n",
    "    processes = []\n",
    "    for gpu_id in range(num_gpus):\n",
    "        p = mp.Process(target=run_prediction_on_gpu, args=(gpu_id, tasks_per_gpu[gpu_id], predict_attention))\n",
    "        p.start()\n",
    "        processes.append(p)\n",
    "    \n",
    "    for p in processes:\n",
    "        p.join()"
   ]
  },
  {
   "cell_type": "markdown",
   "id": "3a1b07df",
   "metadata": {},
   "source": [
    "## Plot prediction results"
   ]
  },
  {
   "cell_type": "code",
   "execution_count": null,
   "id": "330514d3",
   "metadata": {},
   "outputs": [],
   "source": [
    "# raw_results.keys()"
   ]
  },
  {
   "cell_type": "code",
   "execution_count": null,
   "id": "9bf6f451",
   "metadata": {},
   "outputs": [],
   "source": [
    "# plt.imshow(\n",
    "#     raw_results['Prinia_flaviventris_2018-09-01'][1],\n",
    "#     cmap='jet',\n",
    "# )\n",
    "# plt.colorbar()"
   ]
  }
 ],
 "metadata": {
  "celltoolbar": "Tags",
  "kernelspec": {
   "display_name": "Python 3 (ipykernel)",
   "language": "python",
   "name": "python3"
  },
  "language_info": {
   "codemirror_mode": {
    "name": "ipython",
    "version": 3
   },
   "file_extension": ".py",
   "mimetype": "text/x-python",
   "name": "python",
   "nbconvert_exporter": "python",
   "pygments_lexer": "ipython3",
   "version": "3.10.12"
  }
 },
 "nbformat": 4,
 "nbformat_minor": 5
}
