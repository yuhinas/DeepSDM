{
 "cells": [
  {
   "cell_type": "markdown",
   "id": "987a3694",
   "metadata": {},
   "source": [
    "# Make prediction with trained DeepSDM"
   ]
  },
  {
   "cell_type": "markdown",
   "id": "9a36821b",
   "metadata": {},
   "source": [
    "## Load packages"
   ]
  },
  {
   "cell_type": "code",
   "execution_count": 1,
   "id": "f9c0f63a",
   "metadata": {},
   "outputs": [
    {
     "name": "stderr",
     "output_type": "stream",
     "text": [
      "/home/shensf/.local/lib/python3.8/site-packages/tqdm/auto.py:21: TqdmWarning: IProgress not found. Please update jupyter and ipywidgets. See https://ipywidgets.readthedocs.io/en/stable/user_install.html\n",
      "  from .autonotebook import tqdm as notebook_tqdm\n"
     ]
    }
   ],
   "source": [
    "import time\n",
    "import torch\n",
    "import pytorch_lightning as pl\n",
    "from types import SimpleNamespace\n",
    "import mlflow\n",
    "from pytorch_lightning.strategies import DDPStrategy\n",
    "from pytorch_lightning.callbacks import EarlyStopping, ModelCheckpoint\n",
    "from LitDeepSDMData import LitDeepSDMData\n",
    "from LitUNetSDM import LitUNetSDM\n",
    "import os\n",
    "from matplotlib import pyplot as plt"
   ]
  },
  {
   "cell_type": "markdown",
   "id": "0a1d8296",
   "metadata": {},
   "source": [
    "## Model configuration\n",
    "Some settings do not matter here. Just copy these configs from 02_train_deepsdm.py"
   ]
  },
  {
   "cell_type": "code",
   "execution_count": 2,
   "id": "4bb6aea8",
   "metadata": {},
   "outputs": [],
   "source": [
    "# List those environment rasters for training, must be equal to or be a subset of env_list in step 01_prepare_data.\n",
    "env_list = ['tmax', 'tmin', 'prec', 'elev']\n",
    "# Those environment rasters that don't need normalization or are already normalized, e.g. PCA results.\n",
    "non_normalize_env_list = []\n",
    "\n",
    "date_list = []\n",
    "# lists of selected dates for training\n",
    "# format: YYYY_MM_01\n",
    "# The python range exclude the stop value (here e.g. 2020)\n",
    "# So here we generate from 2016_01_01 to 2019_12_01\n",
    "# We keep data of 2020 for validation/prediction\n",
    "for y_ in range(2016, 2020):\n",
    "    for m_ in range(1, 13):\n",
    "        date_list.append(f'{y_:04d}_{m_:02d}_01')\n",
    "\n",
    "# list of species that selected for training\n",
    "species_list = ['Psilopogon_nuchalis', 'Yuhina_brunneiceps', 'Corvus_macrorhynchos', 'Zosterops_simplex', 'Passer_montanus', 'Spilopelia_chinensis', 'Acridotheres_javanicus']\n",
    "\n",
    "# lists of species and dates for smooth visualization preview\n",
    "date_list_smoothviz = ['2020_01_01', '2020_04_01', '2020_07_01', '2020_10_01']\n",
    "species_list_smoothviz = ['Psilopogon_nuchalis', 'Yuhina_brunneiceps', 'Corvus_macrorhynchos']\n",
    "\n",
    "# packed the species lists and date lists for training\n",
    "info = SimpleNamespace(**dict(\n",
    "    env_list = sorted(env_list),\n",
    "    non_normalize_env_list = sorted(non_normalize_env_list),\n",
    "    species_list = sorted(species_list),\n",
    "    species_list_val = sorted(species_list),\n",
    "    species_list_smoothviz = sorted(species_list_smoothviz),\n",
    "    date_list = sorted(date_list),\n",
    "    date_list_val = sorted(date_list),\n",
    "    date_list_smoothviz = sorted(date_list_smoothviz)\n",
    "))\n",
    "\n",
    "\n",
    "# We should find a relatively decent effective batch size\n",
    "# The effective batch size = base_batch_size * num_train_subsample_stacks * num_of_devices * num_of_nodes\n",
    "conf = SimpleNamespace(**dict(\n",
    "    experiment_name = \"DeepSDM DEMO\",\n",
    "    epochs = 300, # Change the values according to any baseline result. For example, if the training stops at epoch 300 and the metric monitored is still ascending (descending), extend this value\n",
    "    base_batch_size = 64, # modify this value if OOM (out of cude memory) encountered\n",
    "    num_vector = 64, # number of vectors for the embeddings of species co-occurrence\n",
    "    num_env = len(env_list), # number of environmental layers\n",
    "    num_train_subsample_stacks = 2, # the number of random training subsamples that sampled from the training grids\n",
    "    num_val_subsample_stacks = 1, # the number of validation subsamples that sampled from the validation grids\n",
    "    subsample_height = 56, # must be 8 * N, for the requirements of UNET\n",
    "    subsample_width = 56, # must be 8 * N, for the requirements of UNET\n",
    "    num_smoothviz_steps = 7, # the steps for smooth visualization, must be a factor of 56, the higher the smoother, and slower\n",
    "    num_predict_steps = 14, # the steps for smooth visualization, must be a factor of 56, the higher the smoother, and slower\n",
    "    learning_rate = 1e-4, # Usually you don't have to change this\n",
    "    k2 = 1, # TODO: wait for Chile to describe\n",
    "    k3 = 1/12, # TODO: wait for Chile to describe\n",
    "    p = 1/3 # TODO: wait for Chile to describe\n",
    "))\n"
   ]
  },
  {
   "cell_type": "markdown",
   "id": "551d7f23",
   "metadata": {},
   "source": [
    "## Load parameters from the checkpoint of a trained model\n",
    "\n",
    "Find the latest version or assign the version yourself under the lightning_logs directory and load parameters from its checkpoints."
   ]
  },
  {
   "cell_type": "code",
   "execution_count": 3,
   "id": "4f0ea180",
   "metadata": {},
   "outputs": [
    {
     "data": {
      "text/plain": [
       "['epoch=122-step=1476.ckpt']"
      ]
     },
     "execution_count": 3,
     "metadata": {},
     "output_type": "execute_result"
    }
   ],
   "source": [
    "path = 'lightning_logs'\n",
    "only_dirs = [d for d in os.listdir('lightning_logs') if os.path.isdir(os.path.join(path, d)) and not d.endswith('.ipynb_checkpoints')]\n",
    "sorted_dirs = sorted(only_dirs, key=lambda x: os.path.getmtime(os.path.join(path, x)))\n",
    "# version = sorted_dirs[-1]\n",
    "version = 'version_0'\n",
    "checkpoint_path = f'{path}/{version}/checkpoints'\n",
    "checkpoints = [f for f in os.listdir(checkpoint_path) if f.endswith('.ckpt') and f != 'last.ckpt']\n",
    "checkpoints"
   ]
  },
  {
   "cell_type": "code",
   "execution_count": 4,
   "id": "d63e7937",
   "metadata": {},
   "outputs": [],
   "source": [
    "model = LitUNetSDM.load_from_checkpoint(f'{checkpoint_path}/{checkpoints[0]}', info=info, conf=conf)"
   ]
  },
  {
   "cell_type": "markdown",
   "id": "f5508305",
   "metadata": {},
   "source": [
    "## Initialize datamodel"
   ]
  },
  {
   "cell_type": "code",
   "execution_count": 5,
   "id": "beb79b22",
   "metadata": {},
   "outputs": [
    {
     "name": "stdout",
     "output_type": "stream",
     "text": [
      "./workspace/env_information.json\n",
      "./workspace/species_information.json\n",
      "./workspace/k_information.json\n",
      "./workspace/cooccurrence_vector.json\n"
     ]
    }
   ],
   "source": [
    "deep_sdm_data = LitDeepSDMData(info=info, conf=conf)"
   ]
  },
  {
   "cell_type": "markdown",
   "id": "3dbfd0cd",
   "metadata": {},
   "source": [
    "## Select the species and dates for prediction.\n",
    "The format of date must be YYYY_MM_01"
   ]
  },
  {
   "cell_type": "code",
   "execution_count": 6,
   "id": "fc5bc76a",
   "metadata": {},
   "outputs": [
    {
     "name": "stdout",
     "output_type": "stream",
     "text": [
      "Setting up dataset for prediction...\n"
     ]
    }
   ],
   "source": [
    "# The Carpodacus_formosanus is a species unknown to the model in the training process.\n",
    "# We can still predict its distribution with help of species embeddings.\n",
    "# We can also assign multiple species and dates for batch predictions. \n",
    "species_list_predict = ['Dicrurus_macrocercus']\n",
    "date_list_predict = ['2020_09_01']\n",
    "predict_dataloaders = deep_sdm_data.predict_dataloader(species_list=species_list_predict, date_list=date_list_predict)"
   ]
  },
  {
   "cell_type": "markdown",
   "id": "3b92f587",
   "metadata": {},
   "source": [
    "## Start prediction\n",
    "The results inlcuding png images and geotiff will be output to the `output_dir`"
   ]
  },
  {
   "cell_type": "code",
   "execution_count": 7,
   "id": "fa62679e",
   "metadata": {},
   "outputs": [
    {
     "name": "stdout",
     "output_type": "stream",
     "text": [
      "Dicrurus_macrocercus_2020_09_01: 9.376498937606812 seconds ..................\r"
     ]
    }
   ],
   "source": [
    "model.eval()\n",
    "with torch.no_grad():\n",
    "    raw_results = model.predict(predict_dataloaders, datamodule=deep_sdm_data, output_dir='predicts')"
   ]
  },
  {
   "cell_type": "code",
   "execution_count": 8,
   "id": "584a197b",
   "metadata": {},
   "outputs": [
    {
     "data": {
      "text/plain": [
       "<matplotlib.colorbar.Colorbar at 0x7f8ce3727e20>"
      ]
     },
     "execution_count": 8,
     "metadata": {},
     "output_type": "execute_result"
    },
    {
     "data": {
      "image/png": "[encoded data removed]",
      "text/plain": [
       "<Figure size 432x288 with 2 Axes>"
      ]
     },
     "metadata": {
      "needs_background": "light"
     },
     "output_type": "display_data"
    }
   ],
   "source": [
    "plt.imshow(\n",
    "    raw_results['Dicrurus_macrocercus_2020-09-01'][1],\n",
    "    cmap='jet',\n",
    ")\n",
    "plt.colorbar()"
   ]
  },
  {
   "cell_type": "code",
   "execution_count": null,
   "id": "183e50ae",
   "metadata": {},
   "outputs": [],
   "source": []
  }
 ],
 "metadata": {
  "kernelspec": {
   "display_name": "Python 3 (ipykernel)",
   "language": "python",
   "name": "python3"
  },
  "language_info": {
   "codemirror_mode": {
    "name": "ipython",
    "version": 3
   },
   "file_extension": ".py",
   "mimetype": "text/x-python",
   "name": "python",
   "nbconvert_exporter": "python",
   "pygments_lexer": "ipython3",
   "version": "3.8.13"
  }
 },
 "nbformat": 4,
 "nbformat_minor": 5
}
