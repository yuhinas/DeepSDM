{
 "cells": [
  {
   "cell_type": "markdown",
   "id": "bde6be4a",
   "metadata": {},
   "source": [
    "# Make prediction with trained DeepSDM"
   ]
  },
  {
   "cell_type": "markdown",
   "id": "d1b41d07",
   "metadata": {},
   "source": [
    "## Load packages"
   ]
  },
  {
   "cell_type": "code",
   "execution_count": 2,
   "id": "2c65d13e",
   "metadata": {},
   "outputs": [],
   "source": [
    "import torch\n",
    "from types import SimpleNamespace\n",
    "import mlflow\n",
    "from LitDeepSDMData_prediction import LitDeepSDMData\n",
    "from LitUNetSDM_prediction import LitUNetSDM\n",
    "import os\n",
    "import yaml\n",
    "import torch.multiprocessing as mp"
   ]
  },
  {
   "cell_type": "markdown",
   "id": "38aeb85a",
   "metadata": {},
   "source": [
    "## Assign the experiment_id and run_id of mlflow of which model will be predicted"
   ]
  },
  {
   "cell_type": "code",
   "execution_count": 3,
   "id": "f215c6e3",
   "metadata": {},
   "outputs": [],
   "source": [
    "experiment_id = '115656750127464383'\n",
    "run_id = 'e52c8ac9a3e24c75ac871f63bbdea060'\n",
    "logged_path = os.path.join('./mlruns', experiment_id, run_id)"
   ]
  },
  {
   "cell_type": "markdown",
   "id": "531bdb3a",
   "metadata": {},
   "source": [
    "## Model configuration\n",
    "Some settings do not matter here. Just copy these configs from 02_train_deepsdm.py"
   ]
  },
  {
   "cell_type": "code",
   "execution_count": 4,
   "id": "3856b4ff",
   "metadata": {},
   "outputs": [],
   "source": [
    "# load configurations\n",
    "yaml_conf_logged = os.path.join(logged_path, 'artifacts', 'conf', 'DeepSDM_conf.yaml')\n",
    "with open(yaml_conf_logged, 'r') as f:\n",
    "    DeepSDM_conf = yaml.load(f, Loader = yaml.FullLoader)\n",
    "DeepSDM_conf = SimpleNamespace(**DeepSDM_conf)"
   ]
  },
  {
   "cell_type": "markdown",
   "id": "9cee97bf",
   "metadata": {},
   "source": [
    "# For 1 GPU"
   ]
  },
  {
   "cell_type": "markdown",
   "id": "cec43d46",
   "metadata": {},
   "source": [
    "## Load parameters from the checkpoint of a trained model\n",
    "\n",
    "Check which top-k models are logged"
   ]
  },
  {
   "cell_type": "code",
   "execution_count": 5,
   "id": "a3c8b452",
   "metadata": {},
   "outputs": [
    {
     "data": {
      "text/plain": [
       "['epoch=22-step=2231.ckpt',\n",
       " 'epoch=42-step=4171.ckpt',\n",
       " 'epoch=16-step=1649.ckpt']"
      ]
     },
     "execution_count": 5,
     "metadata": {},
     "output_type": "execute_result"
    }
   ],
   "source": [
    "checkpoint_path = os.path.join(logged_path, 'checkpoints')\n",
    "checkpoints = [f for f in os.listdir(checkpoint_path) if f.endswith('.ckpt') and f != 'last.ckpt']\n",
    "checkpoints"
   ]
  },
  {
   "cell_type": "markdown",
   "id": "2b48e4e4",
   "metadata": {},
   "source": [
    " - Read the logged average state_dict of top-k models\n",
    " - In function `LitUNetSDM`, set `predict_attention = True` to write the attention score map (default be False)"
   ]
  },
  {
   "cell_type": "code",
   "execution_count": 7,
   "id": "c74010f3",
   "metadata": {},
   "outputs": [
    {
     "data": {
      "text/plain": [
       "<All keys matched successfully>"
      ]
     },
     "execution_count": 7,
     "metadata": {},
     "output_type": "execute_result"
    }
   ],
   "source": [
    "device = 'cuda:0'\n",
    "avg_state_dict = torch.load(os.path.join(logged_path, 'artifacts', 'top_k_avg_state_dict', 'top_k_avg_state_dict.pt'), map_location = torch.device(device))\n",
    "model = LitUNetSDM(custom_device = device, yaml_conf = yaml_conf_logged, predict_attention = False)\n",
    "model.load_state_dict(avg_state_dict)"
   ]
  },
  {
   "cell_type": "markdown",
   "id": "d89ea715",
   "metadata": {},
   "source": [
    "## Initialize datamodel"
   ]
  },
  {
   "cell_type": "code",
   "execution_count": 9,
   "id": "ba9a137a",
   "metadata": {},
   "outputs": [
    {
     "name": "stdout",
     "output_type": "stream",
     "text": [
      "./workspace/cooccurrence_vector.json\n",
      "./workspace/env_information.json\n",
      "./workspace/k_information.json\n",
      "./workspace/species_information.json\n"
     ]
    }
   ],
   "source": [
    "deep_sdm_data = LitDeepSDMData(device = device, yaml_conf = yaml_conf_logged)"
   ]
  },
  {
   "cell_type": "markdown",
   "id": "02c8d656",
   "metadata": {},
   "source": [
    "## Select the species and dates for prediction.\n",
    " - The format of date must be YYYY-MM-01\n",
    " - If `species_list` or `date_list` is too big to load, sperate it and run this entire .ipynb multiple times"
   ]
  },
  {
   "cell_type": "code",
   "execution_count": 25,
   "id": "1d6d90c4",
   "metadata": {},
   "outputs": [],
   "source": [
    "# We can still predict distribution with help of species embeddings.\n",
    "# We can also assign multiple species and dates for batch predictions. \n",
    "predict_dataloaders = deep_sdm_data.predict_dataloader(\n",
    "    species_list = DeepSDM_conf.training_conf['species_list_predict'], \n",
    "    date_list = DeepSDM_conf.training_conf['date_list_predict'])\n",
    "# predict_dataloaders = deep_sdm_data.predict_dataloader(\n",
    "#     species_list = ['Carpodacus_formosanus'], \n",
    "#     date_list = ['2018-01-01', '2018-07-01', '2018-10-01'])"
   ]
  },
  {
   "cell_type": "markdown",
   "id": "c30e6471",
   "metadata": {},
   "source": [
    "## Start prediction\n",
    "The results inlcuding png images and geotiff will be output to the `output_dir`"
   ]
  },
  {
   "cell_type": "code",
   "execution_count": null,
   "id": "83469130",
   "metadata": {},
   "outputs": [],
   "source": [
    "model.eval()\n",
    "with torch.no_grad():\n",
    "    raw_results = model.predict(predict_dataloaders, datamodule = deep_sdm_data, output_dir = os.path.join('./predicts', run_id))"
   ]
  },
  {
   "cell_type": "markdown",
   "id": "11fb7568",
   "metadata": {},
   "source": [
    "# For Multiple GPUs"
   ]
  },
  {
   "cell_type": "markdown",
   "id": "b35d1912",
   "metadata": {},
   "source": [
    "## Load parameters from the checkpoint of a trained model\n",
    "\n",
    "Check which top-k models are logged"
   ]
  },
  {
   "cell_type": "code",
   "execution_count": 4,
   "id": "e8423bfc",
   "metadata": {},
   "outputs": [
    {
     "data": {
      "text/plain": [
       "['epoch=22-step=2231.ckpt',\n",
       " 'epoch=42-step=4171.ckpt',\n",
       " 'epoch=16-step=1649.ckpt']"
      ]
     },
     "execution_count": 4,
     "metadata": {},
     "output_type": "execute_result"
    }
   ],
   "source": [
    "checkpoint_path = os.path.join(logged_path, 'checkpoints')\n",
    "checkpoints = [f for f in os.listdir(checkpoint_path) if f.endswith('.ckpt') and f != 'last.ckpt']\n",
    "checkpoints"
   ]
  },
  {
   "cell_type": "markdown",
   "id": "b715763b",
   "metadata": {},
   "source": [
    "## Start prediction\n",
    "The results inlcuding png images and geotiff will be output to the `output_dir`"
   ]
  },
  {
   "cell_type": "code",
   "execution_count": 5,
   "id": "2ff5e54d",
   "metadata": {},
   "outputs": [],
   "source": [
    "def load_state_dict(device):\n",
    "    \"\"\"Load the model state dictionary and average over checkpoints if necessary.\"\"\"\n",
    "    avg_state_dict = None\n",
    "    state_dict_path = os.path.join(logged_path, 'artifacts', 'top_k_avg_state_dict', 'top_k_avg_state_dict.pt')\n",
    "    if os.path.exists(state_dict_path):\n",
    "        avg_state_dict = torch.load(state_dict_path, map_location=torch.device(device))\n",
    "        print(f'Load state dictionary from {state_dict_path}')\n",
    "    else:\n",
    "        for ckp_file in [os.path.join(checkpoint_path, ckp) for ckp in checkpoints]:\n",
    "            state_dict = torch.load(ckp_file, map_location=torch.device(device))['state_dict']\n",
    "            if avg_state_dict is None:\n",
    "                avg_state_dict = state_dict\n",
    "            else:\n",
    "                for key in state_dict:\n",
    "                    avg_state_dict[key] += state_dict[key]\n",
    "        for key in avg_state_dict:\n",
    "            avg_state_dict[key] = avg_state_dict[key].float() / len(checkpoints)\n",
    "        print(f'Load state dictionary from average of {checkpoints}')\n",
    "    return avg_state_dict\n",
    "\n",
    "\n",
    "def split_tasks(species_list, date_list, num_gpus):\n",
    "    \"\"\"Split tasks across GPUs, ensuring no tasks are lost.\"\"\"\n",
    "    all_tasks = [(sp, dt) for sp in sorted(species_list) for dt in sorted(date_list)]\n",
    "    tasks_per_gpu = [[] for _ in range(num_gpus)]\n",
    "    for i, species in enumerate(species_list):\n",
    "        sp_tasks = [(sp, dt) for (sp, dt) in all_tasks if sp == species]\n",
    "        for task in sp_tasks:\n",
    "            tasks_per_gpu[i % num_gpus].append(task)\n",
    "    return tasks_per_gpu\n",
    "\n",
    "\n",
    "def run_prediction_on_gpu(gpu_id, tasks, predict_attention=False, device_prefix='cuda'):\n",
    "    \"\"\"Run predictions for the assigned tasks on the specified GPU.\"\"\"\n",
    "    device = f\"{device_prefix}:{gpu_id}\"\n",
    "    avg_state_dict = load_state_dict(device)\n",
    "    \n",
    "    model = LitUNetSDM(custom_device=device, yaml_conf=yaml_conf_logged, predict_attention=predict_attention)\n",
    "    model.load_state_dict(avg_state_dict)\n",
    "    model.eval()\n",
    "\n",
    "    deep_sdm_data = LitDeepSDMData(device=device, yaml_conf=yaml_conf_logged)\n",
    "    \n",
    "    for sp, date in tasks:\n",
    "#         if os.path.exists(f'./predicts/{run_id}/tif/{sp}_{date}_predict.tif'):\n",
    "#             continue\n",
    "        with torch.no_grad():\n",
    "            dataloader = deep_sdm_data.predict_dataloader(species_list=[sp], date_list=[date])\n",
    "            model.predict(dataloader, datamodule=deep_sdm_data, output_dir=os.path.join('./predicts', run_id))"
   ]
  },
  {
   "cell_type": "markdown",
   "id": "a1199b00",
   "metadata": {},
   "source": [
    "## Paramters to specify"
   ]
  },
  {
   "cell_type": "code",
   "execution_count": 6,
   "id": "abb5e485",
   "metadata": {},
   "outputs": [],
   "source": [
    "num_gpus = 4\n",
    "\n",
    "# Save attention map or not\n",
    "predict_attention = True\n",
    "\n",
    "# species list for prediction\n",
    "species_list_prediction = DeepSDM_conf.training_conf['species_list_predict']\n",
    "\n",
    "# date list for prediction\n",
    "date_list_prediction = DeepSDM_conf.training_conf['date_list_predict']"
   ]
  },
  {
   "cell_type": "code",
   "execution_count": null,
   "id": "4f553129",
   "metadata": {},
   "outputs": [
    {
     "name": "stdout",
     "output_type": "stream",
     "text": [
      "Load state dictionary from ./mlruns/115656750127464383/e52c8ac9a3e24c75ac871f63bbdea060/artifacts/top_k_avg_state_dict/top_k_avg_state_dict.pt\n",
      "Load state dictionary from ./mlruns/115656750127464383/e52c8ac9a3e24c75ac871f63bbdea060/artifacts/top_k_avg_state_dict/top_k_avg_state_dict.pt\n",
      "Load state dictionary from ./mlruns/115656750127464383/e52c8ac9a3e24c75ac871f63bbdea060/artifacts/top_k_avg_state_dict/top_k_avg_state_dict.ptLoad state dictionary from ./mlruns/115656750127464383/e52c8ac9a3e24c75ac871f63bbdea060/artifacts/top_k_avg_state_dict/top_k_avg_state_dict.pt\n",
      "\n",
      "./workspace/cooccurrence_vector.json\n",
      "./workspace/env_information.json\n",
      "./workspace/k_information.json\n",
      "./workspace/species_information.json\n",
      "./workspace/cooccurrence_vector.json\n",
      "./workspace/env_information.json\n",
      "./workspace/k_information.json\n",
      "./workspace/species_information.json\n",
      "./workspace/cooccurrence_vector.json\n",
      "./workspace/cooccurrence_vector.json\n",
      "./workspace/env_information.json\n",
      "./workspace/k_information.json\n",
      "./workspace/species_information.json\n",
      "./workspace/env_information.json\n",
      "./workspace/k_information.json\n",
      "./workspace/species_information.json\n"
     ]
    }
   ],
   "source": [
    "if __name__ == \"__main__\":\n",
    "    num_gpus = num_gpus  # Number of GPUs\n",
    "    species_list = species_list_prediction\n",
    "    date_list = date_list_prediction\n",
    "    \n",
    "    # Split tasks across GPUs\n",
    "    tasks_per_gpu = split_tasks(species_list, date_list, num_gpus)\n",
    "    \n",
    "    # Multiprocessing for running predictions on multiple GPUs\n",
    "    processes = []\n",
    "    for gpu_id in range(num_gpus):\n",
    "        p = mp.Process(target=run_prediction_on_gpu, args=(gpu_id, tasks_per_gpu[gpu_id], predict_attention))\n",
    "        p.start()\n",
    "        processes.append(p)\n",
    "    \n",
    "    for p in processes:\n",
    "        p.join()"
   ]
  }
 ],
 "metadata": {
  "celltoolbar": "Tags",
  "kernelspec": {
   "display_name": "Python 3 (ipykernel)",
   "language": "python",
   "name": "python3"
  },
  "language_info": {
   "codemirror_mode": {
    "name": "ipython",
    "version": 3
   },
   "file_extension": ".py",
   "mimetype": "text/x-python",
   "name": "python",
   "nbconvert_exporter": "python",
   "pygments_lexer": "ipython3",
   "version": "3.10.12"
  }
 },
 "nbformat": 4,
 "nbformat_minor": 5
}
