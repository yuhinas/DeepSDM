{
 "cells": [
  {
   "cell_type": "markdown",
   "id": "328ac5f7",
   "metadata": {},
   "source": [
    "# Make prediction with trained DeepSDM"
   ]
  },
  {
   "cell_type": "markdown",
   "id": "6d0ecba8",
   "metadata": {},
   "source": [
    "## Load packages"
   ]
  },
  {
   "cell_type": "code",
   "execution_count": 1,
   "id": "80919237",
   "metadata": {},
   "outputs": [],
   "source": [
    "import time\n",
    "import torch\n",
    "import pytorch_lightning as pl\n",
    "from types import SimpleNamespace\n",
    "import mlflow\n",
    "from pytorch_lightning.strategies import DDPStrategy\n",
    "from pytorch_lightning.callbacks import EarlyStopping, ModelCheckpoint\n",
    "from LitDeepSDMData import LitDeepSDMData\n",
    "from LitUNetSDM import LitUNetSDM\n",
    "import os\n",
    "from matplotlib import pyplot as plt\n",
    "import yaml"
   ]
  },
  {
   "cell_type": "markdown",
   "id": "c3cf8448",
   "metadata": {},
   "source": [
    "## Assign the experiment_id and run_id of mlflow of which model will be predicted"
   ]
  },
  {
   "cell_type": "code",
   "execution_count": 2,
   "id": "34f903a6",
   "metadata": {},
   "outputs": [],
   "source": [
    "experiment_id = '296382531977234002'\n",
    "run_id = '2f07dfdd1bef43988e07f22cb2e322c5'\n",
    "logged_path = f'mlruns/{experiment_id}/{run_id}'"
   ]
  },
  {
   "cell_type": "markdown",
   "id": "14bafb19",
   "metadata": {},
   "source": [
    "## Model configuration\n",
    "Some settings do not matter here. Just copy these configs from 02_train_deepsdm.py"
   ]
  },
  {
   "cell_type": "code",
   "execution_count": 3,
   "id": "6c7a8ff1",
   "metadata": {},
   "outputs": [],
   "source": [
    "# load configurations\n",
    "yaml_conf_logged = f'{logged_path}/artifacts/conf/DeepSDM_conf.yaml'\n",
    "with open(yaml_conf_logged, 'r') as f:\n",
    "    DeepSDM_conf = yaml.load(f, Loader = yaml.FullLoader)\n",
    "DeepSDM_conf = SimpleNamespace(**DeepSDM_conf)"
   ]
  },
  {
   "cell_type": "markdown",
   "id": "b9364c31",
   "metadata": {},
   "source": [
    "## Load parameters from the checkpoint of a trained model\n",
    "\n",
    "Check which top-k models are logged"
   ]
  },
  {
   "cell_type": "code",
   "execution_count": 5,
   "id": "34aaec16",
   "metadata": {},
   "outputs": [
    {
     "data": {
      "text/plain": [
       "['epoch=26-step=3132.ckpt',\n",
       " 'epoch=20-step=2436.ckpt',\n",
       " 'epoch=27-step=3248.ckpt']"
      ]
     },
     "execution_count": 5,
     "metadata": {},
     "output_type": "execute_result"
    }
   ],
   "source": [
    "checkpoint_path = f'{logged_path}/checkpoints'\n",
    "checkpoints = [f for f in os.listdir(checkpoint_path) if f.endswith('.ckpt') and f != 'last.ckpt']\n",
    "checkpoints"
   ]
  },
  {
   "cell_type": "markdown",
   "id": "1a0bbd8d",
   "metadata": {},
   "source": [
    " - Read the logged average state_dict of top-k models\n",
    " - In function `LitUNetSDM`, set `predict_attention = True` to write the attention score map (default be False)"
   ]
  },
  {
   "cell_type": "code",
   "execution_count": 6,
   "id": "88335a4d",
   "metadata": {},
   "outputs": [
    {
     "data": {
      "text/plain": [
       "<All keys matched successfully>"
      ]
     },
     "execution_count": 6,
     "metadata": {},
     "output_type": "execute_result"
    }
   ],
   "source": [
    "avg_state_dict = torch.load(f'{logged_path}/artifacts/top_k_avg_state_dict/top_k_avg_state_dict.pt')\n",
    "model = LitUNetSDM(yaml_conf_logged, predict_attention = False).cuda()\n",
    "model.load_state_dict(avg_state_dict)"
   ]
  },
  {
   "cell_type": "markdown",
   "id": "2aa1f58d",
   "metadata": {},
   "source": [
    "## Initialize datamodel"
   ]
  },
  {
   "cell_type": "code",
   "execution_count": 7,
   "id": "df03530e",
   "metadata": {},
   "outputs": [
    {
     "name": "stdout",
     "output_type": "stream",
     "text": [
      "./workspace/cooccurrence_vector.json\n",
      "./workspace/env_information.json\n",
      "./workspace/k_information.json\n",
      "./workspace/species_information.json\n"
     ]
    }
   ],
   "source": [
    "deep_sdm_data = LitDeepSDMData(yaml_conf_logged)"
   ]
  },
  {
   "cell_type": "markdown",
   "id": "aa6e2db4",
   "metadata": {},
   "source": [
    "## Select the species and dates for prediction.\n",
    " - The format of date must be YYYY-MM-01\n",
    " - If `species_list` or `date_list` is too big to load, sperate it and run this entire .ipynb multiple times"
   ]
  },
  {
   "cell_type": "code",
   "execution_count": 8,
   "id": "ff00b9a3",
   "metadata": {},
   "outputs": [
    {
     "name": "stdout",
     "output_type": "stream",
     "text": [
      "Setting up dataset for prediction...\n"
     ]
    }
   ],
   "source": [
    "# The Carpodacus_formosanus is a species unknown to the model in the training process.\n",
    "# We can still predict its distribution with help of species embeddings.\n",
    "# We can also assign multiple species and dates for batch predictions. \n",
    "predict_dataloaders = deep_sdm_data.predict_dataloader(\n",
    "    species_list = DeepSDM_conf.training_conf['species_list_predict'][60:65], \n",
    "    date_list = DeepSDM_conf.training_conf['date_list_train'])\n",
    "# predict_dataloaders = deep_sdm_data.predict_dataloader(\n",
    "#     species_list = DeepSDM_conf.training_conf['species_list_resident'], \n",
    "#     date_list = ['2018-01-01', '2018-07-01', '2018-10-01'])\n",
    "# predict_dataloaders = deep_sdm_data.predict_dataloader(\n",
    "#     species_list = DeepSDM_conf.training_conf['species_list_predict'], \n",
    "#     date_list = DeepSDM_conf.training_conf['date_list_predict'])"
   ]
  },
  {
   "cell_type": "markdown",
   "id": "97bde5c6",
   "metadata": {},
   "source": [
    "## Start prediction\n",
    "The results inlcuding png images and geotiff will be output to the `output_dir`"
   ]
  },
  {
   "cell_type": "code",
   "execution_count": null,
   "id": "ae84f291",
   "metadata": {},
   "outputs": [
    {
     "name": "stdout",
     "output_type": "stream",
     "text": [
      "Parus_holsti_2014-08-01: 7.943386793136597 seconds ...................\r"
     ]
    }
   ],
   "source": [
    "model.eval()\n",
    "with torch.no_grad():\n",
    "    raw_results = model.predict(predict_dataloaders, datamodule = deep_sdm_data, output_dir = f'predicts/{run_id}')"
   ]
  },
  {
   "cell_type": "markdown",
   "id": "6d27a7f0",
   "metadata": {},
   "source": [
    "## Plot prediction results"
   ]
  },
  {
   "cell_type": "code",
   "execution_count": null,
   "id": "8bfb62d0",
   "metadata": {},
   "outputs": [],
   "source": [
    "raw_results.keys()"
   ]
  },
  {
   "cell_type": "code",
   "execution_count": null,
   "id": "825f66cc",
   "metadata": {},
   "outputs": [],
   "source": [
    "plt.imshow(\n",
    "    raw_results['Prinia_flaviventris_2018-09-01'][1],\n",
    "    cmap='jet',\n",
    ")\n",
    "plt.colorbar()"
   ]
  }
 ],
 "metadata": {
  "kernelspec": {
   "display_name": "Python 3 (ipykernel)",
   "language": "python",
   "name": "python3"
  },
  "language_info": {
   "codemirror_mode": {
    "name": "ipython",
    "version": 3
   },
   "file_extension": ".py",
   "mimetype": "text/x-python",
   "name": "python",
   "nbconvert_exporter": "python",
   "pygments_lexer": "ipython3",
   "version": "3.8.13"
  }
 },
 "nbformat": 4,
 "nbformat_minor": 5
}
