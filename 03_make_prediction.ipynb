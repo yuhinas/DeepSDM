{
 "cells": [
  {
   "cell_type": "markdown",
   "id": "51eb82b7",
   "metadata": {},
   "source": [
    "# Make prediction with trained DeepSDM"
   ]
  },
  {
   "cell_type": "markdown",
   "id": "bb0c74c8",
   "metadata": {},
   "source": [
    "## Load packages"
   ]
  },
  {
   "cell_type": "code",
   "execution_count": 1,
   "id": "aae47f86",
   "metadata": {},
   "outputs": [
    {
     "name": "stderr",
     "output_type": "stream",
     "text": [
      "/opt/conda/lib/python3.8/site-packages/tqdm/auto.py:22: TqdmWarning: IProgress not found. Please update jupyter and ipywidgets. See https://ipywidgets.readthedocs.io/en/stable/user_install.html\n",
      "  from .autonotebook import tqdm as notebook_tqdm\n"
     ]
    }
   ],
   "source": [
    "import time\n",
    "import torch\n",
    "import pytorch_lightning as pl\n",
    "from types import SimpleNamespace\n",
    "import mlflow\n",
    "from pytorch_lightning.strategies import DDPStrategy\n",
    "from pytorch_lightning.callbacks import EarlyStopping, ModelCheckpoint\n",
    "from LitDeepSDMData import LitDeepSDMData\n",
    "from LitUNetSDM import LitUNetSDM\n",
    "import os\n",
    "from matplotlib import pyplot as plt\n",
    "import yaml\n",
    "import copy\n",
    "from collections import OrderedDict"
   ]
  },
  {
   "cell_type": "markdown",
   "id": "b40865c4",
   "metadata": {},
   "source": [
    "## Assign the experiment_id and run_id of mlflow of which model will be predicted"
   ]
  },
  {
   "cell_type": "code",
   "execution_count": 2,
   "id": "152426e5",
   "metadata": {},
   "outputs": [],
   "source": [
    "experiment_id = '402040678262354481'\n",
    "run_id = 'de206f42cb374a16815b52c5b1b07feb'\n",
    "logged_path = f'mlruns/{experiment_id}/{run_id}'"
   ]
  },
  {
   "cell_type": "markdown",
   "id": "13fae70b",
   "metadata": {},
   "source": [
    "## Model configuration\n",
    "Some settings do not matter here. Just copy these configs from 02_train_deepsdm.py"
   ]
  },
  {
   "cell_type": "code",
   "execution_count": 3,
   "id": "90ab6c19",
   "metadata": {},
   "outputs": [],
   "source": [
    "# load configurations\n",
    "yaml_conf_logged = f'{logged_path}/artifacts/conf/DeepSDM_conf.yaml'\n",
    "with open(yaml_conf_logged, 'r') as f:\n",
    "    DeepSDM_conf = yaml.load(f, Loader = yaml.FullLoader)\n",
    "DeepSDM_conf = SimpleNamespace(**DeepSDM_conf)"
   ]
  },
  {
   "cell_type": "markdown",
   "id": "3714624f",
   "metadata": {},
   "source": [
    "## Load parameters from the checkpoint of a trained model\n",
    "\n",
    "Check which top-k models are logged"
   ]
  },
  {
   "cell_type": "code",
   "execution_count": 4,
   "id": "940a129c",
   "metadata": {},
   "outputs": [
    {
     "data": {
      "text/plain": [
       "['epoch=0-step=1.ckpt', 'epoch=1-step=2.ckpt', 'epoch=2-step=3.ckpt']"
      ]
     },
     "execution_count": 4,
     "metadata": {},
     "output_type": "execute_result"
    }
   ],
   "source": [
    "checkpoint_path = f'{logged_path}/checkpoints'\n",
    "checkpoints = [f for f in os.listdir(checkpoint_path) if f.endswith('.ckpt') and f != 'last.ckpt']\n",
    "checkpoints"
   ]
  },
  {
   "cell_type": "markdown",
   "id": "bb44fcc1",
   "metadata": {},
   "source": [
    "Read the logged average state_dict of top-k models"
   ]
  },
  {
   "cell_type": "code",
   "execution_count": 6,
   "id": "4076373b",
   "metadata": {},
   "outputs": [
    {
     "data": {
      "text/plain": [
       "<All keys matched successfully>"
      ]
     },
     "execution_count": 6,
     "metadata": {},
     "output_type": "execute_result"
    }
   ],
   "source": [
    "avg_state_dict = torch.load(f'{logged_path}/artifacts/top_k_avg_state_dict/top_k_avg_state_dict.pt')\n",
    "model = LitUNetSDM(yaml_conf_logged).cuda()\n",
    "model.load_state_dict(avg_state_dict)"
   ]
  },
  {
   "cell_type": "markdown",
   "id": "c70a9f50",
   "metadata": {},
   "source": [
    "## Initialize datamodel"
   ]
  },
  {
   "cell_type": "code",
   "execution_count": 8,
   "id": "6cd59e63",
   "metadata": {},
   "outputs": [
    {
     "name": "stdout",
     "output_type": "stream",
     "text": [
      "./workspace/env_information.json\n",
      "./workspace/species_information.json\n",
      "./workspace/k_information.json\n",
      "./workspace/cooccurrence_vector.json\n"
     ]
    }
   ],
   "source": [
    "deep_sdm_data = LitDeepSDMData(yaml_conf_logged)"
   ]
  },
  {
   "cell_type": "markdown",
   "id": "5d63505f",
   "metadata": {},
   "source": [
    "## Select the species and dates for prediction.\n",
    "The format of date must be YYYY-MM-01"
   ]
  },
  {
   "cell_type": "code",
   "execution_count": 9,
   "id": "97eb41e1",
   "metadata": {},
   "outputs": [
    {
     "name": "stdout",
     "output_type": "stream",
     "text": [
      "Setting up dataset for prediction...\n"
     ]
    }
   ],
   "source": [
    "# The Carpodacus_formosanus is a species unknown to the model in the training process.\n",
    "# We can still predict its distribution with help of species embeddings.\n",
    "# We can also assign multiple species and dates for batch predictions. \n",
    "predict_dataloaders = deep_sdm_data.predict_dataloader(species_list = DeepSDM_conf.training_conf['species_list_predict'], date_list = DeepSDM_conf.training_conf['date_list_predict'])"
   ]
  },
  {
   "cell_type": "markdown",
   "id": "1088c40c",
   "metadata": {},
   "source": [
    "## Start prediction\n",
    "The results inlcuding png images and geotiff will be output to the `output_dir`"
   ]
  },
  {
   "cell_type": "code",
   "execution_count": 10,
   "id": "8774af3a",
   "metadata": {},
   "outputs": [
    {
     "name": "stdout",
     "output_type": "stream",
     "text": [
      "Carpodacus_formosanus_2018-01-01: 7.589578628540039 seconds ..................\r"
     ]
    }
   ],
   "source": [
    "model.eval()\n",
    "with torch.no_grad():\n",
    "    raw_results = model.predict(predict_dataloaders, datamodule = deep_sdm_data, output_dir = f'predicts/{run_id}')"
   ]
  },
  {
   "cell_type": "code",
   "execution_count": 11,
   "id": "f1de334a",
   "metadata": {},
   "outputs": [
    {
     "data": {
      "text/plain": [
       "dict_keys(['Passer_cinnamomeus_2018-01-01', 'Carpodacus_formosanus_2018-01-01'])"
      ]
     },
     "execution_count": 11,
     "metadata": {},
     "output_type": "execute_result"
    }
   ],
   "source": [
    "raw_results.keys()"
   ]
  },
  {
   "cell_type": "code",
   "execution_count": null,
   "id": "189717ec",
   "metadata": {},
   "outputs": [],
   "source": [
    "plt.imshow(\n",
    "    raw_results['Prinia_flaviventris_2018-09-01'][1],\n",
    "    cmap='jet',\n",
    ")\n",
    "plt.colorbar()"
   ]
  },
  {
   "cell_type": "code",
   "execution_count": null,
   "id": "dd26006b",
   "metadata": {},
   "outputs": [],
   "source": []
  }
 ],
 "metadata": {
  "kernelspec": {
   "display_name": "Python 3 (ipykernel)",
   "language": "python",
   "name": "python3"
  },
  "language_info": {
   "codemirror_mode": {
    "name": "ipython",
    "version": 3
   },
   "file_extension": ".py",
   "mimetype": "text/x-python",
   "name": "python",
   "nbconvert_exporter": "python",
   "pygments_lexer": "ipython3",
   "version": "3.8.13"
  }
 },
 "nbformat": 4,
 "nbformat_minor": 5
}
