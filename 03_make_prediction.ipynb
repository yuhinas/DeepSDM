{
 "cells": [
  {
   "cell_type": "markdown",
   "id": "c458a5b2",
   "metadata": {},
   "source": [
    "# Make prediction with trained DeepSDM"
   ]
  },
  {
   "cell_type": "markdown",
   "id": "06896811",
   "metadata": {},
   "source": [
    "## Load packages"
   ]
  },
  {
   "cell_type": "code",
   "execution_count": 1,
   "id": "61cd3b25",
   "metadata": {},
   "outputs": [
    {
     "name": "stderr",
     "output_type": "stream",
     "text": [
      "/opt/conda/lib/python3.8/site-packages/tqdm/auto.py:22: TqdmWarning: IProgress not found. Please update jupyter and ipywidgets. See https://ipywidgets.readthedocs.io/en/stable/user_install.html\n",
      "  from .autonotebook import tqdm as notebook_tqdm\n"
     ]
    }
   ],
   "source": [
    "import time\n",
    "import torch\n",
    "import pytorch_lightning as pl\n",
    "from types import SimpleNamespace\n",
    "import mlflow\n",
    "from pytorch_lightning.strategies import DDPStrategy\n",
    "from pytorch_lightning.callbacks import EarlyStopping, ModelCheckpoint\n",
    "from LitDeepSDMData import LitDeepSDMData\n",
    "from LitUNetSDM import LitUNetSDM\n",
    "import os\n",
    "from matplotlib import pyplot as plt\n",
    "import yaml\n",
    "import copy\n",
    "from collections import OrderedDict"
   ]
  },
  {
   "cell_type": "markdown",
   "id": "957ab643",
   "metadata": {},
   "source": [
    "## Model configuration\n",
    "Some settings do not matter here. Just copy these configs from 02_train_deepsdm.py"
   ]
  },
  {
   "cell_type": "code",
   "execution_count": 2,
   "id": "c85dde27",
   "metadata": {},
   "outputs": [],
   "source": [
    "# load configurations\n",
    "with open('DeepSDM_conf.yaml', 'r') as f:\n",
    "    DeepSDM_conf = yaml.load(f, Loader = yaml.FullLoader)\n",
    "DeepSDM_conf = SimpleNamespace(**DeepSDM_conf)\n",
    "\n",
    "date_list = []\n",
    "# lists of selected dates for training\n",
    "# format: YYYY_MM_01\n",
    "# The python range exclude the stop value (here e.g. 2020)\n",
    "# So here we generate from 2016_01_01 to 2019_12_01\n",
    "# We keep data of 2020 for validation/prediction\n",
    "for y_ in range(2000, 2019):\n",
    "    for m_ in range(1, 13):\n",
    "        date_list.append(f'{y_:04d}-{m_:02d}-01')\n",
    "\n",
    "# packed the species lists and date lists for training\n",
    "info = SimpleNamespace(**dict(\n",
    "    env_list = sorted(DeepSDM_conf.env_list),\n",
    "    non_normalize_env_list = sorted(DeepSDM_conf.non_normalize_env_list),\n",
    "    species_list = sorted(DeepSDM_conf.species_list),\n",
    "    species_list_val = sorted(DeepSDM_conf.species_list),\n",
    "    species_list_smoothviz = sorted(DeepSDM_conf.species_list_smoothviz),\n",
    "    date_list = sorted(date_list),\n",
    "    date_list_val = sorted(date_list),\n",
    "    date_list_smoothviz = sorted(DeepSDM_conf.date_list_smoothviz)\n",
    "))\n",
    "\n",
    "\n",
    "conf = SimpleNamespace(**DeepSDM_conf.conf)\n",
    "conf.num_env = len(DeepSDM_conf.env_list) # number of environmental layers\n",
    "conf.num_vector = DeepSDM_conf.embedding_conf['num_vector'] # number of vectors for the embeddings of species co-occurrence"
   ]
  },
  {
   "cell_type": "markdown",
   "id": "d33b81ad",
   "metadata": {},
   "source": [
    "## Load parameters from the checkpoint of a trained model\n",
    "\n",
    "Assign the version yourself under the lightning_logs directory and load parameters from its checkpoints."
   ]
  },
  {
   "cell_type": "code",
   "execution_count": 3,
   "id": "3719f460",
   "metadata": {},
   "outputs": [
    {
     "data": {
      "text/plain": [
       "['epoch=64-step=4810.ckpt',\n",
       " 'epoch=17-step=1332.ckpt',\n",
       " 'epoch=18-step=1406.ckpt']"
      ]
     },
     "execution_count": 3,
     "metadata": {},
     "output_type": "execute_result"
    }
   ],
   "source": [
    "path = 'lightning_logs'\n",
    "version = '20230919140428'\n",
    "checkpoint_path = f'{path}/{version}/checkpoints'\n",
    "checkpoints = [f for f in os.listdir(checkpoint_path) if f.endswith('.ckpt') and f != 'last.ckpt']\n",
    "checkpoints"
   ]
  },
  {
   "cell_type": "code",
   "execution_count": 4,
   "id": "27e7fe4c",
   "metadata": {},
   "outputs": [],
   "source": [
    "# save_top_k not equals to 1\n",
    "checkpoint_tensor = []\n",
    "for checkpoint in checkpoints:\n",
    "    checkpoint_tensor.append(torch.load(f'{checkpoint_path}/{checkpoint}')['state_dict'])\n",
    "\n",
    "model_avg = OrderedDict()\n",
    "for key in checkpoint_tensor[0]:\n",
    "    tensor_sum = []\n",
    "    for i_checkpoints in range(DeepSDM_conf.model_checkpoint_conf['save_top_k']):\n",
    "        tensor_sum.append(checkpoint_tensor[i_checkpoints][key])\n",
    "    model_avg[key] = torch.stack(tensor_sum).to(torch.float).mean(axis = 0)\n",
    "    if torch.stack(tensor_sum).dtype == torch.long:\n",
    "        model_avg[key] = model_avg[key].to(torch.long)\n",
    "\n",
    "model = LitUNetSDM(info = info, conf = conf).cuda()\n",
    "model.load_state_dict(model_avg)"
   ]
  },
  {
   "cell_type": "code",
   "execution_count": 6,
   "id": "061a36a1",
   "metadata": {},
   "outputs": [],
   "source": [
    "# save_top_k equals to 1\n",
    "# model = LitUNetSDM.load_from_checkpoint(f'{checkpoint_path}/{checkpoints[0]}', info=info, conf=conf)"
   ]
  },
  {
   "cell_type": "markdown",
   "id": "3d3aaba5",
   "metadata": {},
   "source": [
    "## Initialize datamodel"
   ]
  },
  {
   "cell_type": "code",
   "execution_count": 7,
   "id": "40ec55d4",
   "metadata": {},
   "outputs": [
    {
     "name": "stdout",
     "output_type": "stream",
     "text": [
      "./workspace/env_information.json\n",
      "./workspace/species_information.json\n",
      "./workspace/k_information.json\n",
      "./workspace/cooccurrence_vector.json\n"
     ]
    }
   ],
   "source": [
    "deep_sdm_data = LitDeepSDMData(info = info, conf = conf)"
   ]
  },
  {
   "cell_type": "markdown",
   "id": "7ac217d2",
   "metadata": {},
   "source": [
    "## Select the species and dates for prediction.\n",
    "The format of date must be YYYY-MM-01"
   ]
  },
  {
   "cell_type": "code",
   "execution_count": 8,
   "id": "31e3c860",
   "metadata": {},
   "outputs": [
    {
     "name": "stdout",
     "output_type": "stream",
     "text": [
      "Setting up dataset for prediction...\n"
     ]
    }
   ],
   "source": [
    "# The Carpodacus_formosanus is a species unknown to the model in the training process.\n",
    "# We can still predict its distribution with help of species embeddings.\n",
    "# We can also assign multiple species and dates for batch predictions. \n",
    "date_list_predict = []\n",
    "for y_ in range(2018, 2019):\n",
    "    for m_ in range(1, 13):\n",
    "        date_list_predict.append(f'{y_:04d}-{m_:02d}-01')\n",
    "predict_dataloaders = deep_sdm_data.predict_dataloader(species_list = DeepSDM_conf.species_list_predict, date_list = date_list_predict)"
   ]
  },
  {
   "cell_type": "markdown",
   "id": "5784bc71",
   "metadata": {},
   "source": [
    "## Start prediction\n",
    "The results inlcuding png images and geotiff will be output to the `output_dir`"
   ]
  },
  {
   "cell_type": "code",
   "execution_count": 9,
   "id": "d7df3a2f",
   "metadata": {},
   "outputs": [
    {
     "name": "stdout",
     "output_type": "stream",
     "text": [
      "Prinia_flaviventris_2018-12-01: 8.05184006690979 seconds ..........................\r"
     ]
    }
   ],
   "source": [
    "model.eval()\n",
    "with torch.no_grad():\n",
    "    raw_results = model.predict(predict_dataloaders, datamodule = deep_sdm_data, output_dir = f'predicts/{version}')"
   ]
  },
  {
   "cell_type": "code",
   "execution_count": null,
   "id": "1a3d2dd3",
   "metadata": {},
   "outputs": [],
   "source": [
    "raw_results.keys()"
   ]
  },
  {
   "cell_type": "code",
   "execution_count": null,
   "id": "cc6730eb",
   "metadata": {},
   "outputs": [],
   "source": [
    "plt.imshow(\n",
    "    raw_results['Prinia_flaviventris_2018-09-01'][1],\n",
    "    cmap='jet',\n",
    ")\n",
    "plt.colorbar()"
   ]
  },
  {
   "cell_type": "code",
   "execution_count": null,
   "id": "1e59945c",
   "metadata": {},
   "outputs": [],
   "source": []
  }
 ],
 "metadata": {
  "kernelspec": {
   "display_name": "Python 3 (ipykernel)",
   "language": "python",
   "name": "python3"
  },
  "language_info": {
   "codemirror_mode": {
    "name": "ipython",
    "version": 3
   },
   "file_extension": ".py",
   "mimetype": "text/x-python",
   "name": "python",
   "nbconvert_exporter": "python",
   "pygments_lexer": "ipython3",
   "version": "3.8.13"
  }
 },
 "nbformat": 4,
 "nbformat_minor": 5
}
