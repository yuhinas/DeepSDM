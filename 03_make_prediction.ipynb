{
 "cells": [
  {
   "cell_type": "markdown",
   "id": "b6ae6b93",
   "metadata": {},
   "source": [
    "# Make prediction with trained DeepSDM"
   ]
  },
  {
   "cell_type": "markdown",
   "id": "97d45682",
   "metadata": {},
   "source": [
    "## Load packages"
   ]
  },
  {
   "cell_type": "code",
   "execution_count": 1,
   "id": "f479cc14",
   "metadata": {},
   "outputs": [],
   "source": [
    "import time\n",
    "import torch\n",
    "import pytorch_lightning as pl\n",
    "from types import SimpleNamespace\n",
    "import mlflow\n",
    "from pytorch_lightning.strategies import DDPStrategy\n",
    "from pytorch_lightning.callbacks import EarlyStopping, ModelCheckpoint\n",
    "from LitDeepSDMData import LitDeepSDMData\n",
    "from LitUNetSDM import LitUNetSDM\n",
    "import os\n",
    "from matplotlib import pyplot as plt\n",
    "import yaml"
   ]
  },
  {
   "cell_type": "markdown",
   "id": "a109a503",
   "metadata": {},
   "source": [
    "## Assign the experiment_id and run_id of mlflow of which model will be predicted"
   ]
  },
  {
   "cell_type": "code",
   "execution_count": 2,
   "id": "bc6b0ae4",
   "metadata": {},
   "outputs": [],
   "source": [
    "experiment_id = '510006563675756139'\n",
    "run_id = '7985dc17d09643aea94b0ca98b4e2cc2'\n",
    "logged_path = f'mlruns/{experiment_id}/{run_id}'"
   ]
  },
  {
   "cell_type": "markdown",
   "id": "962175e7",
   "metadata": {},
   "source": [
    "## Model configuration\n",
    "Some settings do not matter here. Just copy these configs from 02_train_deepsdm.py"
   ]
  },
  {
   "cell_type": "code",
   "execution_count": 3,
   "id": "b1a95c64",
   "metadata": {},
   "outputs": [],
   "source": [
    "# load configurations\n",
    "yaml_conf_logged = f'{logged_path}/artifacts/conf/DeepSDM_conf.yaml'\n",
    "with open(yaml_conf_logged, 'r') as f:\n",
    "    DeepSDM_conf = yaml.load(f, Loader = yaml.FullLoader)\n",
    "DeepSDM_conf = SimpleNamespace(**DeepSDM_conf)"
   ]
  },
  {
   "cell_type": "markdown",
   "id": "ff507891",
   "metadata": {},
   "source": [
    "## Load parameters from the checkpoint of a trained model\n",
    "\n",
    "Check which top-k models are logged"
   ]
  },
  {
   "cell_type": "code",
   "execution_count": 4,
   "id": "2cf40112",
   "metadata": {},
   "outputs": [
    {
     "data": {
      "text/plain": [
       "['epoch=91-step=1564.ckpt',\n",
       " 'epoch=140-step=2397.ckpt',\n",
       " 'epoch=79-step=1360.ckpt']"
      ]
     },
     "execution_count": 4,
     "metadata": {},
     "output_type": "execute_result"
    }
   ],
   "source": [
    "checkpoint_path = f'{logged_path}/checkpoints'\n",
    "checkpoints = [f for f in os.listdir(checkpoint_path) if f.endswith('.ckpt') and f != 'last.ckpt']\n",
    "checkpoints"
   ]
  },
  {
   "cell_type": "markdown",
   "id": "966c730e",
   "metadata": {},
   "source": [
    "Read the logged average state_dict of top-k models"
   ]
  },
  {
   "cell_type": "code",
   "execution_count": 5,
   "id": "b3a69e67",
   "metadata": {},
   "outputs": [
    {
     "data": {
      "text/plain": [
       "<All keys matched successfully>"
      ]
     },
     "execution_count": 5,
     "metadata": {},
     "output_type": "execute_result"
    }
   ],
   "source": [
    "avg_state_dict = torch.load(f'{logged_path}/artifacts/top_k_avg_state_dict/top_k_avg_state_dict.pt')\n",
    "model = LitUNetSDM(yaml_conf_logged, predict_attention = False).cuda()\n",
    "model.load_state_dict(avg_state_dict)"
   ]
  },
  {
   "cell_type": "markdown",
   "id": "3a8566a5",
   "metadata": {},
   "source": [
    "## Initialize datamodel"
   ]
  },
  {
   "cell_type": "code",
   "execution_count": 6,
   "id": "05a43265",
   "metadata": {},
   "outputs": [
    {
     "name": "stdout",
     "output_type": "stream",
     "text": [
      "./workspace/cooccurrence_vector_v3.json\n",
      "./workspace/env_information.json\n",
      "./workspace/k_information.json\n",
      "./virtual/v3/v3_realworldvirtual_species_information_reorganize_bias_virtual.json\n"
     ]
    }
   ],
   "source": [
    "deep_sdm_data = LitDeepSDMData(yaml_conf_logged)"
   ]
  },
  {
   "cell_type": "markdown",
   "id": "cccf6ee5",
   "metadata": {},
   "source": [
    "## Select the species and dates for prediction.\n",
    "The format of date must be YYYY-MM-01"
   ]
  },
  {
   "cell_type": "code",
   "execution_count": 8,
   "id": "ecf06623",
   "metadata": {},
   "outputs": [
    {
     "name": "stdout",
     "output_type": "stream",
     "text": [
      "Setting up dataset for prediction...\n"
     ]
    }
   ],
   "source": [
    "# The Carpodacus_formosanus is a species unknown to the model in the training process.\n",
    "# We can still predict its distribution with help of species embeddings.\n",
    "# We can also assign multiple species and dates for batch predictions. \n",
    "predict_dataloaders = deep_sdm_data.predict_dataloader(\n",
    "    species_list = DeepSDM_conf.training_conf['species_list_predict'], \n",
    "    date_list = DeepSDM_conf.training_conf['date_list_predict'])\n",
    "# predict_dataloaders = deep_sdm_data.predict_dataloader(\n",
    "#     species_list = DeepSDM_conf.training_conf['species_list_resident'], \n",
    "#     date_list = ['2018-01-01', '2018-07-01', '2018-10-01'])"
   ]
  },
  {
   "cell_type": "markdown",
   "id": "d298d88f",
   "metadata": {},
   "source": [
    "## Start prediction\n",
    "The results inlcuding png images and geotiff will be output to the `output_dir`"
   ]
  },
  {
   "cell_type": "code",
   "execution_count": 9,
   "id": "1f0e8b68",
   "metadata": {},
   "outputs": [
    {
     "name": "stdout",
     "output_type": "stream",
     "text": [
      "sp21_2018-10-01: 8.094553232192993 seconds ........................................\r"
     ]
    }
   ],
   "source": [
    "model.eval()\n",
    "with torch.no_grad():\n",
    "    raw_results = model.predict(predict_dataloaders, datamodule = deep_sdm_data, output_dir = f'predicts/{run_id}')"
   ]
  },
  {
   "cell_type": "markdown",
   "id": "04ff3376",
   "metadata": {},
   "source": [
    "## Plot prediction results"
   ]
  },
  {
   "cell_type": "code",
   "execution_count": 9,
   "id": "1edc5017",
   "metadata": {
    "collapsed": true,
    "jupyter": {
     "outputs_hidden": true
    }
   },
   "outputs": [
    {
     "data": {
      "text/plain": [
       "dict_keys(['Abroscopus_albogularis_2018-01-01', 'Abroscopus_albogularis_2018-07-01', 'Abroscopus_albogularis_2018-10-01', 'Accipiter_trivirgatus_2018-01-01', 'Accipiter_trivirgatus_2018-07-01', 'Accipiter_trivirgatus_2018-10-01', 'Accipiter_virgatus_2018-01-01', 'Accipiter_virgatus_2018-07-01', 'Accipiter_virgatus_2018-10-01', 'Acridotheres_cristatellus_2018-01-01', 'Acridotheres_cristatellus_2018-07-01', 'Acridotheres_cristatellus_2018-10-01', 'Actinodura_morrisoniana_2018-01-01', 'Actinodura_morrisoniana_2018-07-01', 'Actinodura_morrisoniana_2018-10-01', 'Aegithalos_concinnus_2018-01-01', 'Aegithalos_concinnus_2018-07-01', 'Aegithalos_concinnus_2018-10-01', 'Aix_galericulata_2018-01-01', 'Aix_galericulata_2018-07-01', 'Aix_galericulata_2018-10-01', 'Alauda_gulgula_2018-01-01', 'Alauda_gulgula_2018-07-01', 'Alauda_gulgula_2018-10-01', 'Alcedo_atthis_2018-01-01', 'Alcedo_atthis_2018-07-01', 'Alcedo_atthis_2018-10-01', 'Alcippe_morrisonia_2018-01-01', 'Alcippe_morrisonia_2018-07-01', 'Alcippe_morrisonia_2018-10-01', 'Amaurornis_phoenicurus_2018-01-01', 'Amaurornis_phoenicurus_2018-07-01', 'Amaurornis_phoenicurus_2018-10-01', 'Anas_poecilorhyncha_2018-01-01', 'Anas_poecilorhyncha_2018-07-01', 'Anas_poecilorhyncha_2018-10-01', 'Apus_nipalensis_2018-01-01', 'Apus_nipalensis_2018-07-01', 'Apus_nipalensis_2018-10-01', 'Arborophila_crudigularis_2018-01-01', 'Arborophila_crudigularis_2018-07-01', 'Arborophila_crudigularis_2018-10-01', 'Ardea_alba_2018-01-01', 'Ardea_alba_2018-07-01', 'Ardea_alba_2018-10-01', 'Ardea_purpurea_2018-01-01', 'Ardea_purpurea_2018-07-01', 'Ardea_purpurea_2018-10-01', 'Bambusicola_sonorivox_2018-01-01', 'Bambusicola_sonorivox_2018-07-01', 'Bambusicola_sonorivox_2018-10-01', 'Brachypteryx_goodfellowi_2018-01-01', 'Brachypteryx_goodfellowi_2018-07-01', 'Brachypteryx_goodfellowi_2018-10-01', 'Bubulcus_ibis_2018-01-01', 'Bubulcus_ibis_2018-07-01', 'Bubulcus_ibis_2018-10-01', 'Butorides_striata_2018-01-01', 'Butorides_striata_2018-07-01', 'Butorides_striata_2018-10-01', 'Caprimulgus_affinis_2018-01-01', 'Caprimulgus_affinis_2018-07-01', 'Caprimulgus_affinis_2018-10-01', 'Carpodacus_formosanus_2018-01-01', 'Carpodacus_formosanus_2018-07-01', 'Carpodacus_formosanus_2018-10-01', 'Cecropis_striolata_2018-01-01', 'Cecropis_striolata_2018-07-01', 'Cecropis_striolata_2018-10-01', 'Centropus_bengalensis_2018-01-01', 'Centropus_bengalensis_2018-07-01', 'Centropus_bengalensis_2018-10-01', 'Chalcophaps_indica_2018-01-01', 'Chalcophaps_indica_2018-07-01', 'Chalcophaps_indica_2018-10-01', 'Charadrius_alexandrinus_2018-01-01', 'Charadrius_alexandrinus_2018-07-01', 'Charadrius_alexandrinus_2018-10-01', 'Charadrius_dubius_2018-01-01', 'Charadrius_dubius_2018-07-01', 'Charadrius_dubius_2018-10-01', 'Cinclus_pallasii_2018-01-01', 'Cinclus_pallasii_2018-07-01', 'Cinclus_pallasii_2018-10-01', 'Cisticola_exilis_2018-01-01', 'Cisticola_exilis_2018-07-01', 'Cisticola_exilis_2018-10-01', 'Cisticola_juncidis_2018-01-01', 'Cisticola_juncidis_2018-07-01', 'Cisticola_juncidis_2018-10-01', 'Columba_pulchricollis_2018-01-01', 'Columba_pulchricollis_2018-07-01', 'Columba_pulchricollis_2018-10-01', 'Coracina_macei_2018-01-01', 'Coracina_macei_2018-07-01', 'Coracina_macei_2018-10-01', 'Corvus_macrorhynchos_2018-01-01', 'Corvus_macrorhynchos_2018-07-01', 'Corvus_macrorhynchos_2018-10-01', 'Stachyridopsis_ruficeps_2018-01-01', 'Stachyridopsis_ruficeps_2018-07-01', 'Stachyridopsis_ruficeps_2018-10-01', 'Delichon_dasypus_2018-01-01', 'Delichon_dasypus_2018-07-01', 'Delichon_dasypus_2018-10-01', 'Dendrocitta_formosae_2018-01-01', 'Dendrocitta_formosae_2018-07-01', 'Dendrocitta_formosae_2018-10-01', 'Dendrocopos_leucotos_2018-01-01', 'Dendrocopos_leucotos_2018-07-01', 'Dendrocopos_leucotos_2018-10-01', 'Dicaeum_ignipectus_2018-01-01', 'Dicaeum_ignipectus_2018-07-01', 'Dicaeum_ignipectus_2018-10-01', 'Dicaeum_minullum_2018-01-01', 'Dicaeum_minullum_2018-07-01', 'Dicaeum_minullum_2018-10-01', 'Dicrurus_aeneus_2018-01-01', 'Dicrurus_aeneus_2018-07-01', 'Dicrurus_aeneus_2018-10-01', 'Dicrurus_macrocercus_2018-01-01', 'Dicrurus_macrocercus_2018-07-01', 'Dicrurus_macrocercus_2018-10-01', 'Egretta_garzetta_2018-01-01', 'Egretta_garzetta_2018-07-01', 'Egretta_garzetta_2018-10-01', 'Egretta_sacra_2018-01-01', 'Egretta_sacra_2018-07-01', 'Egretta_sacra_2018-10-01', 'Elanus_caeruleus_2018-01-01', 'Elanus_caeruleus_2018-07-01', 'Elanus_caeruleus_2018-10-01', 'Enicurus_scouleri_2018-01-01', 'Enicurus_scouleri_2018-07-01', 'Enicurus_scouleri_2018-10-01', 'Erpornis_zantholeuca_2018-01-01', 'Erpornis_zantholeuca_2018-07-01', 'Erpornis_zantholeuca_2018-10-01', 'Pomatorhinus_erythrocnemis_2018-01-01', 'Pomatorhinus_erythrocnemis_2018-07-01', 'Pomatorhinus_erythrocnemis_2018-10-01', 'Falco_peregrinus_2018-01-01', 'Falco_peregrinus_2018-07-01', 'Falco_peregrinus_2018-10-01', 'Ficedula_hyperythra_2018-01-01', 'Ficedula_hyperythra_2018-07-01', 'Ficedula_hyperythra_2018-10-01', 'Fulvetta_formosana_2018-01-01', 'Fulvetta_formosana_2018-07-01', 'Fulvetta_formosana_2018-10-01', 'Gallicrex_cinerea_2018-01-01', 'Gallicrex_cinerea_2018-07-01', 'Gallicrex_cinerea_2018-10-01', 'Gallinula_chloropus_2018-01-01', 'Gallinula_chloropus_2018-07-01', 'Gallinula_chloropus_2018-10-01', 'Garrulax_taewanus_2018-01-01', 'Garrulax_taewanus_2018-07-01', 'Garrulax_taewanus_2018-10-01', 'Garrulus_glandarius_2018-01-01', 'Garrulus_glandarius_2018-07-01', 'Garrulus_glandarius_2018-10-01', 'Gorsachius_melanolophus_2018-01-01', 'Gorsachius_melanolophus_2018-07-01', 'Gorsachius_melanolophus_2018-10-01', 'Heterophasia_auricularis_2018-01-01', 'Heterophasia_auricularis_2018-07-01', 'Heterophasia_auricularis_2018-10-01', 'Himantopus_himantopus_2018-01-01', 'Himantopus_himantopus_2018-07-01', 'Himantopus_himantopus_2018-10-01', 'Hirundapus_cochinchinensis_2018-01-01', 'Hirundapus_cochinchinensis_2018-07-01', 'Hirundapus_cochinchinensis_2018-10-01', 'Hirundo_tahitica_2018-01-01', 'Hirundo_tahitica_2018-07-01', 'Hirundo_tahitica_2018-10-01', 'Horornis_acanthizoides_2018-01-01', 'Horornis_acanthizoides_2018-07-01', 'Horornis_acanthizoides_2018-10-01', 'Horornis_fortipes_2018-01-01', 'Horornis_fortipes_2018-07-01', 'Horornis_fortipes_2018-10-01', 'Hydrophasianus_chirurgus_2018-01-01', 'Hydrophasianus_chirurgus_2018-07-01', 'Hydrophasianus_chirurgus_2018-10-01', 'Hypothymis_azurea_2018-01-01', 'Hypothymis_azurea_2018-07-01', 'Hypothymis_azurea_2018-10-01', 'Hypsipetes_amaurotis_2018-01-01', 'Hypsipetes_amaurotis_2018-07-01', 'Hypsipetes_amaurotis_2018-10-01', 'Hypsipetes_leucocephalus_2018-01-01', 'Hypsipetes_leucocephalus_2018-07-01', 'Hypsipetes_leucocephalus_2018-10-01', 'Ictinaetus_malayensis_2018-01-01', 'Ictinaetus_malayensis_2018-07-01', 'Ictinaetus_malayensis_2018-10-01', 'Ixobrychus_cinnamomeus_2018-01-01', 'Ixobrychus_cinnamomeus_2018-07-01', 'Ixobrychus_cinnamomeus_2018-10-01', 'Ixobrychus_sinensis_2018-01-01', 'Ixobrychus_sinensis_2018-07-01', 'Ixobrychus_sinensis_2018-10-01', 'Ketupa_flavipes_2018-01-01', 'Ketupa_flavipes_2018-07-01', 'Ketupa_flavipes_2018-10-01', 'Lanius_schach_2018-01-01', 'Lanius_schach_2018-07-01', 'Lanius_schach_2018-10-01', 'Gallirallus_striatus_2018-01-01', 'Gallirallus_striatus_2018-07-01', 'Gallirallus_striatus_2018-10-01', 'Liocichla_steerii_2018-01-01', 'Liocichla_steerii_2018-07-01', 'Liocichla_steerii_2018-10-01', 'Locustella_alishanensis_2018-01-01', 'Locustella_alishanensis_2018-07-01', 'Locustella_alishanensis_2018-10-01', 'Lonchura_atricapilla_2018-01-01', 'Lonchura_atricapilla_2018-07-01', 'Lonchura_atricapilla_2018-10-01', 'Lonchura_punctulata_2018-01-01', 'Lonchura_punctulata_2018-07-01', 'Lonchura_punctulata_2018-10-01', 'Lonchura_striata_2018-01-01', 'Lonchura_striata_2018-07-01', 'Lonchura_striata_2018-10-01', 'Lophura_swinhoii_2018-01-01', 'Lophura_swinhoii_2018-07-01', 'Lophura_swinhoii_2018-10-01', 'Parus_holsti_2018-01-01', 'Parus_holsti_2018-07-01', 'Parus_holsti_2018-10-01', 'Macropygia_tenuirostris_2018-01-01', 'Macropygia_tenuirostris_2018-07-01', 'Macropygia_tenuirostris_2018-10-01', 'Milvus_migrans_2018-01-01', 'Milvus_migrans_2018-07-01', 'Milvus_migrans_2018-10-01', 'Monticola_solitarius_2018-01-01', 'Monticola_solitarius_2018-07-01', 'Monticola_solitarius_2018-10-01', 'Motacilla_alba_2018-01-01', 'Motacilla_alba_2018-07-01', 'Motacilla_alba_2018-10-01', 'Myiomela_leucura_2018-01-01', 'Myiomela_leucura_2018-07-01', 'Myiomela_leucura_2018-10-01', 'Myophonus_insularis_2018-01-01', 'Myophonus_insularis_2018-07-01', 'Myophonus_insularis_2018-10-01', 'Niltava_vivida_2018-01-01', 'Niltava_vivida_2018-07-01', 'Niltava_vivida_2018-10-01', 'Ninox_japonica_2018-01-01', 'Ninox_japonica_2018-07-01', 'Ninox_japonica_2018-10-01', 'Nisaetus_nipalensis_2018-01-01', 'Nisaetus_nipalensis_2018-07-01', 'Nisaetus_nipalensis_2018-10-01', 'Nucifraga_caryocatactes_2018-01-01', 'Nucifraga_caryocatactes_2018-07-01', 'Nucifraga_caryocatactes_2018-10-01', 'Nycticorax_nycticorax_2018-01-01', 'Nycticorax_nycticorax_2018-07-01', 'Nycticorax_nycticorax_2018-10-01', 'Oriolus_chinensis_2018-01-01', 'Oriolus_chinensis_2018-07-01', 'Oriolus_chinensis_2018-10-01', 'Oriolus_traillii_2018-01-01', 'Oriolus_traillii_2018-07-01', 'Oriolus_traillii_2018-10-01', 'Otus_elegans_2018-01-01', 'Otus_elegans_2018-07-01', 'Otus_elegans_2018-10-01', 'Otus_lettia_2018-01-01', 'Otus_lettia_2018-07-01', 'Otus_lettia_2018-10-01', 'Otus_spilocephalus_2018-01-01', 'Otus_spilocephalus_2018-07-01', 'Otus_spilocephalus_2018-10-01', 'Parus_monticolus_2018-01-01', 'Parus_monticolus_2018-07-01', 'Parus_monticolus_2018-10-01', 'Passer_cinnamomeus_2018-01-01', 'Passer_cinnamomeus_2018-07-01', 'Passer_cinnamomeus_2018-10-01', 'Passer_montanus_2018-01-01', 'Passer_montanus_2018-07-01', 'Passer_montanus_2018-10-01', 'Pericrocotus_solaris_2018-01-01', 'Pericrocotus_solaris_2018-07-01', 'Pericrocotus_solaris_2018-10-01', 'Periparus_ater_2018-01-01', 'Periparus_ater_2018-07-01', 'Periparus_ater_2018-10-01', 'Pernis_ptilorhynchus_2018-01-01', 'Pernis_ptilorhynchus_2018-07-01', 'Pernis_ptilorhynchus_2018-10-01', 'Phasianus_colchicus_2018-01-01', 'Phasianus_colchicus_2018-07-01', 'Phasianus_colchicus_2018-10-01', 'Phoenicurus_fuliginosus_2018-01-01', 'Phoenicurus_fuliginosus_2018-07-01', 'Phoenicurus_fuliginosus_2018-10-01', 'Picus_canus_2018-01-01', 'Picus_canus_2018-07-01', 'Picus_canus_2018-10-01', 'Pnoepyga_formosana_2018-01-01', 'Pnoepyga_formosana_2018-07-01', 'Pnoepyga_formosana_2018-10-01', 'Pomatorhinus_musicus_2018-01-01', 'Pomatorhinus_musicus_2018-07-01', 'Pomatorhinus_musicus_2018-10-01', 'Prinia_flaviventris_2018-01-01', 'Prinia_flaviventris_2018-07-01', 'Prinia_flaviventris_2018-10-01', 'Prinia_inornata_2018-01-01', 'Prinia_inornata_2018-07-01', 'Prinia_inornata_2018-10-01', 'Prinia_striata_2018-01-01', 'Prinia_striata_2018-07-01', 'Prinia_striata_2018-10-01', 'Prunella_collaris_2018-01-01', 'Prunella_collaris_2018-07-01', 'Prunella_collaris_2018-10-01', 'Psilopogon_nuchalis_2018-01-01', 'Psilopogon_nuchalis_2018-07-01', 'Psilopogon_nuchalis_2018-10-01', 'Garrulax_poecilorhynchus_2018-01-01', 'Garrulax_poecilorhynchus_2018-07-01', 'Garrulax_poecilorhynchus_2018-10-01', 'Garrulax_ruficeps_2018-01-01', 'Garrulax_ruficeps_2018-07-01', 'Garrulax_ruficeps_2018-10-01', 'Pycnonotus_sinensis_2018-01-01', 'Pycnonotus_sinensis_2018-07-01', 'Pycnonotus_sinensis_2018-10-01', 'Pycnonotus_taivanus_2018-01-01', 'Pycnonotus_taivanus_2018-07-01', 'Pycnonotus_taivanus_2018-10-01', 'Pyrrhula_nipalensis_2018-01-01', 'Pyrrhula_nipalensis_2018-07-01', 'Pyrrhula_nipalensis_2018-10-01', 'Pyrrhula_owstoni_2018-01-01', 'Pyrrhula_owstoni_2018-07-01', 'Pyrrhula_owstoni_2018-10-01', 'Rallina_eurizonoides_2018-01-01', 'Rallina_eurizonoides_2018-07-01', 'Rallina_eurizonoides_2018-10-01', 'Regulus_goodfellowi_2018-01-01', 'Regulus_goodfellowi_2018-07-01', 'Regulus_goodfellowi_2018-10-01', 'Riparia_chinensis_2018-01-01', 'Riparia_chinensis_2018-07-01', 'Riparia_chinensis_2018-10-01', 'Rostratula_benghalensis_2018-01-01', 'Rostratula_benghalensis_2018-07-01', 'Rostratula_benghalensis_2018-10-01', 'Alcippe_brunnea_2018-01-01', 'Alcippe_brunnea_2018-07-01', 'Alcippe_brunnea_2018-10-01', 'Sinosuthora_webbiana_2018-01-01', 'Sinosuthora_webbiana_2018-07-01', 'Sinosuthora_webbiana_2018-10-01', 'Sitta_europaea_2018-01-01', 'Sitta_europaea_2018-07-01', 'Sitta_europaea_2018-10-01', 'Poecile_varius_2018-01-01', 'Poecile_varius_2018-07-01', 'Poecile_varius_2018-10-01', 'Spilopelia_chinensis_2018-01-01', 'Spilopelia_chinensis_2018-07-01', 'Spilopelia_chinensis_2018-10-01', 'Spilornis_cheela_2018-01-01', 'Spilornis_cheela_2018-07-01', 'Spilornis_cheela_2018-10-01', 'Spizixos_semitorques_2018-01-01', 'Spizixos_semitorques_2018-07-01', 'Spizixos_semitorques_2018-10-01', 'Sternula_albifrons_2018-01-01', 'Sternula_albifrons_2018-07-01', 'Sternula_albifrons_2018-10-01', 'Streptopelia_orientalis_2018-01-01', 'Streptopelia_orientalis_2018-07-01', 'Streptopelia_orientalis_2018-10-01', 'Streptopelia_tranquebarica_2018-01-01', 'Streptopelia_tranquebarica_2018-07-01', 'Streptopelia_tranquebarica_2018-10-01', 'Strix_leptogrammica_2018-01-01', 'Strix_leptogrammica_2018-07-01', 'Strix_leptogrammica_2018-10-01', 'Strix_nivicolum_2018-01-01', 'Strix_nivicolum_2018-07-01', 'Strix_nivicolum_2018-10-01', 'Suthora_verreauxi_2018-01-01', 'Suthora_verreauxi_2018-07-01', 'Suthora_verreauxi_2018-10-01', 'Coturnix_chinensis_2018-01-01', 'Coturnix_chinensis_2018-07-01', 'Coturnix_chinensis_2018-10-01', 'Syrmaticus_mikado_2018-01-01', 'Syrmaticus_mikado_2018-07-01', 'Syrmaticus_mikado_2018-10-01', 'Tachybaptus_ruficollis_2018-01-01', 'Tachybaptus_ruficollis_2018-07-01', 'Tachybaptus_ruficollis_2018-10-01', 'Glaucidium_brodiei_2018-01-01', 'Glaucidium_brodiei_2018-07-01', 'Glaucidium_brodiei_2018-10-01', 'Tarsiger_indicus_2018-01-01', 'Tarsiger_indicus_2018-07-01', 'Tarsiger_indicus_2018-10-01', 'Tarsiger_johnstoniae_2018-01-01', 'Tarsiger_johnstoniae_2018-07-01', 'Tarsiger_johnstoniae_2018-10-01', 'Terpsiphone_atrocaudata_2018-01-01', 'Terpsiphone_atrocaudata_2018-07-01', 'Terpsiphone_atrocaudata_2018-10-01', 'Treron_formosae_2018-01-01', 'Treron_formosae_2018-07-01', 'Treron_formosae_2018-10-01', 'Treron_sieboldii_2018-01-01', 'Treron_sieboldii_2018-07-01', 'Treron_sieboldii_2018-10-01', 'Trochalopteron_morrisonianum_2018-01-01', 'Trochalopteron_morrisonianum_2018-07-01', 'Trochalopteron_morrisonianum_2018-10-01', 'Troglodytes_troglodytes_2018-01-01', 'Troglodytes_troglodytes_2018-07-01', 'Troglodytes_troglodytes_2018-10-01', 'Turdus_mandarinus_2018-01-01', 'Turdus_mandarinus_2018-07-01', 'Turdus_mandarinus_2018-10-01', 'Turdus_poliocephalus_2018-01-01', 'Turdus_poliocephalus_2018-07-01', 'Turdus_poliocephalus_2018-10-01', 'Turnix_suscitator_2018-01-01', 'Turnix_suscitator_2018-07-01', 'Turnix_suscitator_2018-10-01', 'Turnix_sylvaticus_2018-01-01', 'Turnix_sylvaticus_2018-07-01', 'Turnix_sylvaticus_2018-10-01', 'Tyto_longimembris_2018-01-01', 'Tyto_longimembris_2018-07-01', 'Tyto_longimembris_2018-10-01', 'Urocissa_caerulea_2018-01-01', 'Urocissa_caerulea_2018-07-01', 'Urocissa_caerulea_2018-10-01', 'Yuhina_brunneiceps_2018-01-01', 'Yuhina_brunneiceps_2018-07-01', 'Yuhina_brunneiceps_2018-10-01', 'Yungipicus_canicapillus_2018-01-01', 'Yungipicus_canicapillus_2018-07-01', 'Yungipicus_canicapillus_2018-10-01', 'Porzana_fusca_2018-01-01', 'Porzana_fusca_2018-07-01', 'Porzana_fusca_2018-10-01', 'Zoothera_dauma_2018-01-01', 'Zoothera_dauma_2018-07-01', 'Zoothera_dauma_2018-10-01', 'Zosterops_japonicus_2018-01-01', 'Zosterops_japonicus_2018-07-01', 'Zosterops_japonicus_2018-10-01', 'Zosterops_meyeni_2018-01-01', 'Zosterops_meyeni_2018-07-01', 'Zosterops_meyeni_2018-10-01', 'Zosterops_simplex_2018-01-01', 'Zosterops_simplex_2018-07-01', 'Zosterops_simplex_2018-10-01'])"
      ]
     },
     "execution_count": 9,
     "metadata": {},
     "output_type": "execute_result"
    }
   ],
   "source": [
    "raw_results.keys()"
   ]
  },
  {
   "cell_type": "code",
   "execution_count": 10,
   "id": "93fb9a80",
   "metadata": {
    "collapsed": true,
    "jupyter": {
     "outputs_hidden": true
    }
   },
   "outputs": [
    {
     "ename": "KeyError",
     "evalue": "'Prinia_flaviventris_2018-09-01'",
     "output_type": "error",
     "traceback": [
      "\u001b[0;31m---------------------------------------------------------------------------\u001b[0m",
      "\u001b[0;31mKeyError\u001b[0m                                  Traceback (most recent call last)",
      "Input \u001b[0;32mIn [10]\u001b[0m, in \u001b[0;36m<cell line: 1>\u001b[0;34m()\u001b[0m\n\u001b[1;32m      1\u001b[0m plt\u001b[38;5;241m.\u001b[39mimshow(\n\u001b[0;32m----> 2\u001b[0m     \u001b[43mraw_results\u001b[49m\u001b[43m[\u001b[49m\u001b[38;5;124;43m'\u001b[39;49m\u001b[38;5;124;43mPrinia_flaviventris_2018-09-01\u001b[39;49m\u001b[38;5;124;43m'\u001b[39;49m\u001b[43m]\u001b[49m[\u001b[38;5;241m1\u001b[39m],\n\u001b[1;32m      3\u001b[0m     cmap\u001b[38;5;241m=\u001b[39m\u001b[38;5;124m'\u001b[39m\u001b[38;5;124mjet\u001b[39m\u001b[38;5;124m'\u001b[39m,\n\u001b[1;32m      4\u001b[0m )\n\u001b[1;32m      5\u001b[0m plt\u001b[38;5;241m.\u001b[39mcolorbar()\n",
      "\u001b[0;31mKeyError\u001b[0m: 'Prinia_flaviventris_2018-09-01'"
     ]
    }
   ],
   "source": [
    "plt.imshow(\n",
    "    raw_results['Prinia_flaviventris_2018-09-01'][1],\n",
    "    cmap='jet',\n",
    ")\n",
    "plt.colorbar()"
   ]
  }
 ],
 "metadata": {
  "kernelspec": {
   "display_name": "Python 3 (ipykernel)",
   "language": "python",
   "name": "python3"
  },
  "language_info": {
   "codemirror_mode": {
    "name": "ipython",
    "version": 3
   },
   "file_extension": ".py",
   "mimetype": "text/x-python",
   "name": "python",
   "nbconvert_exporter": "python",
   "pygments_lexer": "ipython3",
   "version": "3.8.13"
  }
 },
 "nbformat": 4,
 "nbformat_minor": 5
}
