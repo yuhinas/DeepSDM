{
 "cells": [
  {
   "cell_type": "markdown",
   "id": "fdf6b19b",
   "metadata": {},
   "source": [
    "# Make prediction with trained DeepSDM"
   ]
  },
  {
   "cell_type": "markdown",
   "id": "5ec9b441",
   "metadata": {},
   "source": [
    "## Load packages"
   ]
  },
  {
   "cell_type": "code",
   "execution_count": 1,
   "id": "6afccb3e",
   "metadata": {},
   "outputs": [
    {
     "name": "stderr",
     "output_type": "stream",
     "text": [
      "/usr/local/lib/python3.10/dist-packages/tqdm/auto.py:21: TqdmWarning: IProgress not found. Please update jupyter and ipywidgets. See https://ipywidgets.readthedocs.io/en/stable/user_install.html\n",
      "  from .autonotebook import tqdm as notebook_tqdm\n"
     ]
    }
   ],
   "source": [
    "import torch\n",
    "import pytorch_lightning as pl\n",
    "from types import SimpleNamespace\n",
    "import mlflow\n",
    "# from pytorch_lightning.strategies import DDPStrategy\n",
    "# from pytorch_lightning.callbacks import EarlyStopping, ModelCheckpoint\n",
    "from LitDeepSDMData_prediction import LitDeepSDMData\n",
    "from LitUNetSDM_prediction import LitUNetSDM\n",
    "import os\n",
    "from matplotlib import pyplot as plt\n",
    "import yaml\n",
    "import torch.multiprocessing as mp"
   ]
  },
  {
   "cell_type": "markdown",
   "id": "ea919e9c",
   "metadata": {},
   "source": [
    "## Assign the experiment_id and run_id of mlflow of which model will be predicted"
   ]
  },
  {
   "cell_type": "code",
   "execution_count": 2,
   "id": "b72cf82c",
   "metadata": {},
   "outputs": [],
   "source": [
    "experiment_id = '115656750127464383'\n",
    "run_id = 'e52c8ac9a3e24c75ac871f63bbdea060'\n",
    "logged_path = os.path.join('./mlruns', experiment_id, run_id)"
   ]
  },
  {
   "cell_type": "markdown",
   "id": "86f4d9bb",
   "metadata": {},
   "source": [
    "## Model configuration\n",
    "Some settings do not matter here. Just copy these configs from 02_train_deepsdm.py"
   ]
  },
  {
   "cell_type": "code",
   "execution_count": 3,
   "id": "b59a2f9e",
   "metadata": {},
   "outputs": [],
   "source": [
    "# load configurations\n",
    "yaml_conf_logged = os.path.join(logged_path, 'artifacts', 'conf', 'DeepSDM_conf.yaml')\n",
    "with open(yaml_conf_logged, 'r') as f:\n",
    "    DeepSDM_conf = yaml.load(f, Loader = yaml.FullLoader)\n",
    "DeepSDM_conf = SimpleNamespace(**DeepSDM_conf)"
   ]
  },
  {
   "cell_type": "markdown",
   "id": "b4ac66ce",
   "metadata": {},
   "source": [
    "# For 1 GPU"
   ]
  },
  {
   "cell_type": "markdown",
   "id": "55aa1dac",
   "metadata": {},
   "source": [
    "## Load parameters from the checkpoint of a trained model\n",
    "\n",
    "Check which top-k models are logged"
   ]
  },
  {
   "cell_type": "code",
   "execution_count": null,
   "id": "61dbf1c2",
   "metadata": {},
   "outputs": [],
   "source": [
    "checkpoint_path = os.path.join(logged_path, 'checkpoints')\n",
    "checkpoints = [f for f in os.listdir(checkpoint_path) if f.endswith('.ckpt') and f != 'last.ckpt']\n",
    "checkpoints"
   ]
  },
  {
   "cell_type": "markdown",
   "id": "f7084bdd",
   "metadata": {},
   "source": [
    " - Read the logged average state_dict of top-k models\n",
    " - In function `LitUNetSDM`, set `predict_attention = True` to write the attention score map (default be False)"
   ]
  },
  {
   "cell_type": "code",
   "execution_count": null,
   "id": "92e19bcc",
   "metadata": {},
   "outputs": [],
   "source": [
    "ckpt = torch.load(os.path.join(logged_path, 'checkpoints', 'epoch=25-step=2938.ckpt'))"
   ]
  },
  {
   "cell_type": "code",
   "execution_count": null,
   "id": "bdb1fd20",
   "metadata": {},
   "outputs": [],
   "source": [
    "device = 'cuda:0'\n",
    "avg_state_dict = torch.load(os.path.join(logged_path, 'artifacts', 'top_k_avg_state_dict', 'top_k_avg_state_dict.pt'), map_location = torch.device(device))\n",
    "model = LitUNetSDM(custom_device = device, yaml_conf = yaml_conf_logged, predict_attention = False)\n",
    "model.load_state_dict(avg_state_dict)"
   ]
  },
  {
   "cell_type": "markdown",
   "id": "247070ba",
   "metadata": {},
   "source": [
    "## Initialize datamodel"
   ]
  },
  {
   "cell_type": "code",
   "execution_count": null,
   "id": "fda2cbba",
   "metadata": {},
   "outputs": [],
   "source": [
    "deep_sdm_data = LitDeepSDMData(device = device, yaml_conf = yaml_conf_logged)"
   ]
  },
  {
   "cell_type": "markdown",
   "id": "48d479ce",
   "metadata": {},
   "source": [
    "## Select the species and dates for prediction.\n",
    " - The format of date must be YYYY-MM-01\n",
    " - If `species_list` or `date_list` is too big to load, sperate it and run this entire .ipynb multiple times"
   ]
  },
  {
   "cell_type": "code",
   "execution_count": null,
   "id": "57191c9f",
   "metadata": {},
   "outputs": [],
   "source": [
    "# We can still predict distribution with help of species embeddings.\n",
    "# We can also assign multiple species and dates for batch predictions. \n",
    "predict_dataloaders = deep_sdm_data.predict_dataloader(\n",
    "    species_list = DeepSDM_conf.training_conf['species_list_predict'], \n",
    "#     species_list = ['Yuhina_brunneiceps'], \n",
    "    date_list = DeepSDM_conf.training_conf['date_list_predict'])\n",
    "# predict_dataloaders = deep_sdm_data.predict_dataloader(\n",
    "#     species_list = ['Carpodacus_formosanus'], \n",
    "#     date_list = ['2018-01-01', '2018-07-01', '2018-10-01'])\n",
    "# predict_dataloaders = deep_sdm_data.predict_dataloader(\n",
    "#     species_list = DeepSDM_conf.training_conf['species_list_predict'], \n",
    "#     date_list = DeepSDM_conf.training_conf['date_list_predict'])"
   ]
  },
  {
   "cell_type": "markdown",
   "id": "9ece5cb9",
   "metadata": {},
   "source": [
    "## Start prediction\n",
    "The results inlcuding png images and geotiff will be output to the `output_dir`"
   ]
  },
  {
   "cell_type": "code",
   "execution_count": null,
   "id": "6fe81399",
   "metadata": {},
   "outputs": [],
   "source": [
    "model.eval()\n",
    "with torch.no_grad():\n",
    "    raw_results = model.predict(predict_dataloaders, datamodule = deep_sdm_data, output_dir = os.path.join('./predicts', run_id))"
   ]
  },
  {
   "cell_type": "markdown",
   "id": "38338d93",
   "metadata": {},
   "source": [
    "# For Multiple GPUs"
   ]
  },
  {
   "cell_type": "markdown",
   "id": "c5e8ee59",
   "metadata": {},
   "source": [
    "## Paramters to specify"
   ]
  },
  {
   "cell_type": "code",
   "execution_count": 4,
   "id": "db5efa8a",
   "metadata": {},
   "outputs": [],
   "source": [
    "num_gpu = 4\n",
    "\n",
    "# Choose the split type ('species' or 'date')\n",
    "split_type = 'species'  # Change to 'date' if splitting by date\n",
    "\n",
    "# Save attention map or not\n",
    "predict_attention = True"
   ]
  },
  {
   "cell_type": "markdown",
   "id": "43380e0b",
   "metadata": {},
   "source": [
    "## Load parameters from the checkpoint of a trained model\n",
    "\n",
    "Check which top-k models are logged"
   ]
  },
  {
   "cell_type": "code",
   "execution_count": 5,
   "id": "efa8435e",
   "metadata": {},
   "outputs": [
    {
     "data": {
      "text/plain": [
       "['epoch=22-step=2231.ckpt',\n",
       " 'epoch=42-step=4171.ckpt',\n",
       " 'epoch=16-step=1649.ckpt']"
      ]
     },
     "execution_count": 5,
     "metadata": {},
     "output_type": "execute_result"
    }
   ],
   "source": [
    "checkpoint_path = os.path.join(logged_path, 'checkpoints')\n",
    "checkpoints = [f for f in os.listdir(checkpoint_path) if f.endswith('.ckpt') and f != 'last.ckpt']\n",
    "checkpoints"
   ]
  },
  {
   "cell_type": "markdown",
   "id": "8d18ff60",
   "metadata": {},
   "source": [
    "## Start prediction\n",
    "The results inlcuding png images and geotiff will be output to the `output_dir`"
   ]
  },
  {
   "cell_type": "code",
   "execution_count": 6,
   "id": "6febd609",
   "metadata": {},
   "outputs": [],
   "source": [
    "def load_state_dict(device):\n",
    "    \"\"\"Load the model state dictionary and average over checkpoints if necessary.\"\"\"\n",
    "    avg_state_dict = None\n",
    "    state_dict_path = os.path.join(logged_path, 'artifacts', 'top_k_avg_state_dict', 'top_k_avg_state_dict.pt')\n",
    "    if os.path.exists(state_dict_path):\n",
    "        avg_state_dict = torch.load(state_dict_path, map_location=torch.device(device))\n",
    "        print(f'Load state dictionary from {state_dict_path}')\n",
    "    else:\n",
    "        for ckp_file in [os.path.join(checkpoint_path, ckp) for ckp in checkpoints]:\n",
    "            state_dict = torch.load(ckp_file, map_location=torch.device(device))['state_dict']\n",
    "            if avg_state_dict is None:\n",
    "                avg_state_dict = state_dict\n",
    "            else:\n",
    "                for key in state_dict:\n",
    "                    avg_state_dict[key] += state_dict[key]\n",
    "        for key in avg_state_dict:\n",
    "            avg_state_dict[key] = avg_state_dict[key].float() / len(checkpoints)\n",
    "        print(f'Load state dictionary from average of {checkpoints}')\n",
    "    return avg_state_dict\n",
    "\n",
    "\n",
    "def split_tasks(species_list, date_list, num_gpus):\n",
    "    \"\"\"Split tasks evenly across GPUs, with each task being a (species, date) pair.\"\"\"\n",
    "    all_tasks = [(sp, dt) for sp in species_list for dt in date_list]\n",
    "    avg_tasks = len(all_tasks) // num_gpus\n",
    "    return [all_tasks[i * avg_tasks:(i + 1) * avg_tasks] for i in range(num_gpus)]\n",
    "\n",
    "\n",
    "def run_prediction_on_gpu(gpu_id, tasks, predict_attention=False, device_prefix='cuda'):\n",
    "    \"\"\"Run predictions for the assigned tasks on the specified GPU.\"\"\"\n",
    "    device = f\"{device_prefix}:{gpu_id}\"\n",
    "    avg_state_dict = load_state_dict(device)\n",
    "    \n",
    "    model = LitUNetSDM(custom_device=device, yaml_conf=yaml_conf_logged, predict_attention=predict_attention)\n",
    "    model.load_state_dict(avg_state_dict)\n",
    "    model.eval()\n",
    "\n",
    "    deep_sdm_data = LitDeepSDMData(device=device, yaml_conf=yaml_conf_logged)\n",
    "    \n",
    "    for sp, date in tasks:\n",
    "#         if os.path.exists(f'./predicts/{run_id}/tif/{sp}_{date}_predict.tif'):\n",
    "#             continue\n",
    "        with torch.no_grad():\n",
    "            dataloader = deep_sdm_data.predict_dataloader(species_list=[sp], date_list=[date])\n",
    "            model.predict(dataloader, datamodule=deep_sdm_data, output_dir=os.path.join('./predicts', run_id))"
   ]
  },
  {
   "cell_type": "code",
   "execution_count": null,
   "id": "5ff26100",
   "metadata": {},
   "outputs": [
    {
     "name": "stdout",
     "output_type": "stream",
     "text": [
      "Load state dictionary from ./mlruns/115656750127464383/e52c8ac9a3e24c75ac871f63bbdea060/artifacts/top_k_avg_state_dict/top_k_avg_state_dict.ptLoad state dictionary from ./mlruns/115656750127464383/e52c8ac9a3e24c75ac871f63bbdea060/artifacts/top_k_avg_state_dict/top_k_avg_state_dict.ptLoad state dictionary from ./mlruns/115656750127464383/e52c8ac9a3e24c75ac871f63bbdea060/artifacts/top_k_avg_state_dict/top_k_avg_state_dict.pt\n",
      "\n",
      "\n",
      "Load state dictionary from ./mlruns/115656750127464383/e52c8ac9a3e24c75ac871f63bbdea060/artifacts/top_k_avg_state_dict/top_k_avg_state_dict.pt\n",
      "./workspace/cooccurrence_vector.json./workspace/cooccurrence_vector.json\n",
      "\n",
      "./workspace/cooccurrence_vector.json\n",
      "./workspace/env_information.json./workspace/env_information.json\n",
      "\n",
      "./workspace/k_information.json./workspace/k_information.json\n",
      "\n",
      "./workspace/species_information.json./workspace/species_information.json\n",
      "\n",
      "./workspace/env_information.json\n",
      "./workspace/k_information.json./workspace/cooccurrence_vector.json\n",
      "\n",
      "./workspace/species_information.json\n",
      "./workspace/env_information.json\n",
      "./workspace/k_information.json\n",
      "./workspace/species_information.json\n"
     ]
    }
   ],
   "source": [
    "if __name__ == \"__main__\":\n",
    "    num_gpus = 4  # Number of GPUs\n",
    "    species_list = DeepSDM_conf.training_conf['species_list_predict']\n",
    "    date_list = DeepSDM_conf.training_conf['date_list_predict'][:80]\n",
    "    \n",
    "    # Split tasks across GPUs\n",
    "    tasks_per_gpu = split_tasks(species_list, date_list, num_gpus)\n",
    "    \n",
    "    # Multiprocessing for running predictions on multiple GPUs\n",
    "    processes = []\n",
    "    for gpu_id in range(num_gpus):\n",
    "        p = mp.Process(target=run_prediction_on_gpu, args=(gpu_id, tasks_per_gpu[gpu_id], predict_attention))\n",
    "        p.start()\n",
    "        processes.append(p)\n",
    "    \n",
    "    for p in processes:\n",
    "        p.join()"
   ]
  },
  {
   "cell_type": "markdown",
   "id": "1cb55a98",
   "metadata": {},
   "source": [
    "## Plot prediction results"
   ]
  },
  {
   "cell_type": "code",
   "execution_count": null,
   "id": "f9dad4e9",
   "metadata": {},
   "outputs": [],
   "source": [
    "# raw_results.keys()"
   ]
  },
  {
   "cell_type": "code",
   "execution_count": null,
   "id": "1be796a4",
   "metadata": {},
   "outputs": [],
   "source": [
    "# plt.imshow(\n",
    "#     raw_results['Prinia_flaviventris_2018-09-01'][1],\n",
    "#     cmap='jet',\n",
    "# )\n",
    "# plt.colorbar()"
   ]
  }
 ],
 "metadata": {
  "celltoolbar": "Tags",
  "kernelspec": {
   "display_name": "Python 3 (ipykernel)",
   "language": "python",
   "name": "python3"
  },
  "language_info": {
   "codemirror_mode": {
    "name": "ipython",
    "version": 3
   },
   "file_extension": ".py",
   "mimetype": "text/x-python",
   "name": "python",
   "nbconvert_exporter": "python",
   "pygments_lexer": "ipython3",
   "version": "3.10.12"
  }
 },
 "nbformat": 4,
 "nbformat_minor": 5
}
