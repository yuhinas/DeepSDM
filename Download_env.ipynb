{
 "cells": [
  {
   "cell_type": "markdown",
   "id": "3f2d5bba",
   "metadata": {},
   "source": [
    "# Chelsa"
   ]
  },
  {
   "cell_type": "code",
   "execution_count": null,
   "id": "b0ca55b5",
   "metadata": {},
   "outputs": [],
   "source": [
    "import requests\n",
    "import time\n",
    "import os\n",
    "\n",
    "env_list = ['clt', 'hurs', 'pr', 'rsds', 'sfcWind', 'tas']\n",
    "months = range(1, 13)\n",
    "years = range(2009, 2020)\n",
    "\n",
    "combined_list = []\n",
    "for item1 in env_list:\n",
    "    for item2 in months:\n",
    "        for item3 in years:\n",
    "            combined_list.append([item1, item2, item3])\n",
    "print(f'maximum index: {len(combined_list) - 1}')\n",
    "start_idx = input('start index for downloading: ')\n",
    "\n",
    "if start_idx == '':\n",
    "    start_idx = 0\n",
    "\n",
    "dir_base = '/work/klok0126/Chelsa'\n",
    "link_pattern = dict(\n",
    "    dir_base = 'https://os.zhdk.cloud.switch.ch/envicloud/chelsa/chelsa_V2/GLOBAL/monthly', \n",
    "    clt = 'clt/CHELSA_clt_[MONTH]_[YEAR]_V.2.1.tif', \n",
    "    cmi = 'cmi/CHELSA_cmi_[MONTH]_[YEAR]_V.2.1.tif', \n",
    "    hurs = 'hurs/CHELSA_hurs_[MONTH]_[YEAR]_V.2.1.tif', \n",
    "    pet = 'pet/CHELSA_pet_penman_[MONTH]_[YEAR]_V.2.1.tif', \n",
    "    pr = 'pr/CHELSA_pr_[MONTH]_[YEAR]_V.2.1.tif', \n",
    "    rsds = 'rsds/CHELSA_rsds_[YEAR]_[MONTH]_V.2.1.tif', \n",
    "    sfcWind = 'sfcWind/CHELSA_sfcWind_[MONTH]_[YEAR]_V.2.1.tif', \n",
    "    tas = 'tas/CHELSA_tas_[MONTH]_[YEAR]_V.2.1.tif', \n",
    "    tasmax = 'tasmax/CHELSA_tasmax_[MONTH]_[YEAR]_V.2.1.tif', \n",
    "    tasmin = 'tasmin/CHELSA_tasmin_[MONTH]_[YEAR]_V.2.1.tif', \n",
    "    vpd = 'vpd/CHELSA_vpd_[MONTH]_[YEAR]_V.2.1.tif'\n",
    ")\n",
    "\n",
    "for [env, month, year] in sorted(combined_list)[int(start_idx): ]:\n",
    "    \n",
    "    if not os.path.exists(f'{dir_base}/{env}'):\n",
    "        os.makedirs(f'{dir_base}/{env}')\n",
    "    \n",
    "    link_itr = f'{link_pattern[env]}'.replace('[MONTH]', f'{month:02d}').replace('[YEAR]', str(year))\n",
    "    link_full = f'{link_pattern[\"dir_base\"]}/{link_itr}'\n",
    "    if os.path.exists(f'{dir_base}/{link_itr}'):\n",
    "        print(f\"{link_itr} has already existed.\")\n",
    "        break\n",
    "    print(f'Asseccing to file: {link_itr}')\n",
    "    response = requests.get(link_full)\n",
    "    if response.status_code == 200:\n",
    "        with open(f'{dir_base}/{link_itr}', 'wb') as file:\n",
    "            print(f\"Downloaded.\")\n",
    "            file.write(response.content)\n",
    "        time.sleep(3)\n",
    "    else:\n",
    "        print(f\"Can not download links：{link_itr}.\")\n",
    "    response = None\n",
    "print(\"All links are downloaded.\")\n"
   ]
  },
  {
   "cell_type": "code",
   "execution_count": null,
   "id": "ee14881d",
   "metadata": {},
   "outputs": [],
   "source": [
    "from osgeo import gdal, gdalconst\n",
    "for env in env_list:\n",
    "    dir_base = f'/work/klok0126/Chelsa/{env}/'\n",
    "    dir_dst = f'/work/klok0126/Chelsa/{env}_/'\n",
    "    if not os.path.exists(dir_dst):\n",
    "        os.makedirs(dir_dst)\n",
    "\n",
    "    for fname in os.listdir(dir_base):\n",
    "        print(fname)\n",
    "        ds = gdal.Open(os.path.join(dir_base, fname), gdalconst.GA_ReadOnly)\n",
    "        gdal.Translate(os.path.join(dir_dst, fname), ds, projWin = [119.5, 25.5, 122.5, 21.5])\n",
    "        ds = None"
   ]
  },
  {
   "cell_type": "markdown",
   "id": "c2b12139",
   "metadata": {},
   "source": [
    "# Land cover"
   ]
  },
  {
   "cell_type": "markdown",
   "id": "7365a7bf",
   "metadata": {},
   "source": [
    "Visit `https://cds.climate.copernicus.eu/datasets/satellite-land-cover?tab=download`"
   ]
  },
  {
   "cell_type": "markdown",
   "id": "8e889467",
   "metadata": {},
   "source": [
    "# EVI"
   ]
  },
  {
   "cell_type": "markdown",
   "id": "7b42f41e",
   "metadata": {},
   "source": [
    "Visit `https://appeears.earthdatacloud.nasa.gov/`\\\n",
    "register, sign in \\\n",
    "set a broader filter of 21.80N, 25.40N, 119.90E and 122.10E. \\\n",
    "set start date 01-01-2009, end date 12-31-2019\\\n",
    "Select `MOD13A1` and the layer `_500m_16_days_EVI`\\\n",
    "select file format `GeoTiff`"
   ]
  },
  {
   "cell_type": "markdown",
   "id": "5de2946d",
   "metadata": {},
   "source": [
    "# Elevation"
   ]
  },
  {
   "cell_type": "markdown",
   "id": "bc045dd5",
   "metadata": {},
   "source": [
    "Click `https://geodata.ucdavis.edu/climate/worldclim/2_1/base/wc2.1_30s_elev.zip`"
   ]
  }
 ],
 "metadata": {
  "kernelspec": {
   "display_name": "Python 3 (ipykernel)",
   "language": "python",
   "name": "python3"
  },
  "language_info": {
   "codemirror_mode": {
    "name": "ipython",
    "version": 3
   },
   "file_extension": ".py",
   "mimetype": "text/x-python",
   "name": "python",
   "nbconvert_exporter": "python",
   "pygments_lexer": "ipython3",
   "version": "3.10.12"
  }
 },
 "nbformat": 4,
 "nbformat_minor": 5
}
